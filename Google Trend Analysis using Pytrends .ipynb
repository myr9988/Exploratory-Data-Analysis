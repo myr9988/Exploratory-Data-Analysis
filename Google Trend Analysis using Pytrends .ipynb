{
 "cells": [
  {
   "cell_type": "code",
   "execution_count": 1,
   "id": "d9e354aa",
   "metadata": {},
   "outputs": [],
   "source": [
    "import pandas as pd\n",
    "import pytrends\n",
    "from pytrends.request import TrendReq"
   ]
  },
  {
   "cell_type": "code",
   "execution_count": 2,
   "id": "4979d801",
   "metadata": {},
   "outputs": [],
   "source": [
    "pytrends = TrendReq(hl='en-US', tz=360)"
   ]
  },
  {
   "cell_type": "code",
   "execution_count": 3,
   "id": "b0961c12",
   "metadata": {},
   "outputs": [],
   "source": [
    "pytrends.build_payload(kw_list = ['machine learning' , 'data science','python'])"
   ]
  },
  {
   "cell_type": "code",
   "execution_count": 4,
   "id": "7e11e1cb",
   "metadata": {},
   "outputs": [],
   "source": [
    "data = pytrends.interest_by_region()"
   ]
  },
  {
   "cell_type": "code",
   "execution_count": 5,
   "id": "00650c48",
   "metadata": {},
   "outputs": [
    {
     "data": {
      "text/html": [
       "<div>\n",
       "<style scoped>\n",
       "    .dataframe tbody tr th:only-of-type {\n",
       "        vertical-align: middle;\n",
       "    }\n",
       "\n",
       "    .dataframe tbody tr th {\n",
       "        vertical-align: top;\n",
       "    }\n",
       "\n",
       "    .dataframe thead th {\n",
       "        text-align: right;\n",
       "    }\n",
       "</style>\n",
       "<table border=\"1\" class=\"dataframe\">\n",
       "  <thead>\n",
       "    <tr style=\"text-align: right;\">\n",
       "      <th></th>\n",
       "      <th>machine learning</th>\n",
       "      <th>data science</th>\n",
       "      <th>python</th>\n",
       "    </tr>\n",
       "    <tr>\n",
       "      <th>geoName</th>\n",
       "      <th></th>\n",
       "      <th></th>\n",
       "      <th></th>\n",
       "    </tr>\n",
       "  </thead>\n",
       "  <tbody>\n",
       "    <tr>\n",
       "      <th>Bangladesh</th>\n",
       "      <td>11</td>\n",
       "      <td>6</td>\n",
       "      <td>83</td>\n",
       "    </tr>\n",
       "    <tr>\n",
       "      <th>Pakistan</th>\n",
       "      <td>10</td>\n",
       "      <td>9</td>\n",
       "      <td>81</td>\n",
       "    </tr>\n",
       "    <tr>\n",
       "      <th>India</th>\n",
       "      <td>9</td>\n",
       "      <td>8</td>\n",
       "      <td>83</td>\n",
       "    </tr>\n",
       "    <tr>\n",
       "      <th>Malaysia</th>\n",
       "      <td>9</td>\n",
       "      <td>8</td>\n",
       "      <td>83</td>\n",
       "    </tr>\n",
       "    <tr>\n",
       "      <th>Indonesia</th>\n",
       "      <td>9</td>\n",
       "      <td>7</td>\n",
       "      <td>84</td>\n",
       "    </tr>\n",
       "    <tr>\n",
       "      <th>...</th>\n",
       "      <td>...</td>\n",
       "      <td>...</td>\n",
       "      <td>...</td>\n",
       "    </tr>\n",
       "    <tr>\n",
       "      <th>Western Sahara</th>\n",
       "      <td>0</td>\n",
       "      <td>0</td>\n",
       "      <td>0</td>\n",
       "    </tr>\n",
       "    <tr>\n",
       "      <th>Yemen</th>\n",
       "      <td>0</td>\n",
       "      <td>0</td>\n",
       "      <td>0</td>\n",
       "    </tr>\n",
       "    <tr>\n",
       "      <th>Zambia</th>\n",
       "      <td>0</td>\n",
       "      <td>0</td>\n",
       "      <td>0</td>\n",
       "    </tr>\n",
       "    <tr>\n",
       "      <th>Zimbabwe</th>\n",
       "      <td>0</td>\n",
       "      <td>0</td>\n",
       "      <td>0</td>\n",
       "    </tr>\n",
       "    <tr>\n",
       "      <th>Åland Islands</th>\n",
       "      <td>0</td>\n",
       "      <td>0</td>\n",
       "      <td>0</td>\n",
       "    </tr>\n",
       "  </tbody>\n",
       "</table>\n",
       "<p>250 rows × 3 columns</p>\n",
       "</div>"
      ],
      "text/plain": [
       "                machine learning  data science  python\n",
       "geoName                                               \n",
       "Bangladesh                    11             6      83\n",
       "Pakistan                      10             9      81\n",
       "India                          9             8      83\n",
       "Malaysia                       9             8      83\n",
       "Indonesia                      9             7      84\n",
       "...                          ...           ...     ...\n",
       "Western Sahara                 0             0       0\n",
       "Yemen                          0             0       0\n",
       "Zambia                         0             0       0\n",
       "Zimbabwe                       0             0       0\n",
       "Åland Islands                  0             0       0\n",
       "\n",
       "[250 rows x 3 columns]"
      ]
     },
     "execution_count": 5,
     "metadata": {},
     "output_type": "execute_result"
    }
   ],
   "source": [
    "data.sort_values(by = ['machine learning' , 'data science','python'], ascending = False)"
   ]
  },
  {
   "cell_type": "code",
   "execution_count": 6,
   "id": "2951c9f0",
   "metadata": {},
   "outputs": [],
   "source": [
    "import seaborn as sns\n",
    "import matplotlib.pyplot as plt"
   ]
  },
  {
   "cell_type": "code",
   "execution_count": 8,
   "id": "bb0ffd8c",
   "metadata": {},
   "outputs": [
    {
     "data": {
      "text/plain": [
       "<Figure size 1440x720 with 0 Axes>"
      ]
     },
     "metadata": {},
     "output_type": "display_data"
    },
    {
     "data": {
      "image/png": "[encoded data removed]",
      "text/plain": [
       "<Figure size 432x288 with 1 Axes>"
      ]
     },
     "metadata": {
      "needs_background": "light"
     },
     "output_type": "display_data"
    }
   ],
   "source": [
    "plt.figure(figsize=(20,10))\n",
    "data.reset_index().plot(y = 'machine learning', x = 'geoName')\n",
    "plt.xticks(rotation = 90)\n",
    "plt.show();"
   ]
  },
  {
   "cell_type": "code",
   "execution_count": 9,
   "id": "1654efa0",
   "metadata": {},
   "outputs": [
    {
     "data": {
      "text/plain": [
       "<Figure size 1440x720 with 0 Axes>"
      ]
     },
     "metadata": {},
     "output_type": "display_data"
    },
    {
     "data": {
      "image/png": "[encoded data removed]",
      "text/plain": [
       "<Figure size 432x288 with 1 Axes>"
      ]
     },
     "metadata": {
      "needs_background": "light"
     },
     "output_type": "display_data"
    }
   ],
   "source": [
    "plt.figure(figsize=(20,10))\n",
    "data.reset_index().plot(y = 'data science', x = 'geoName')\n",
    "plt.xticks(rotation = 90)\n",
    "plt.show()"
   ]
  },
  {
   "cell_type": "code",
   "execution_count": 10,
   "id": "c9f35f9c",
   "metadata": {},
   "outputs": [
    {
     "data": {
      "text/plain": [
       "<Figure size 1440x720 with 0 Axes>"
      ]
     },
     "metadata": {},
     "output_type": "display_data"
    },
    {
     "data": {
      "image/png": "[encoded data removed]",
      "text/plain": [
       "<Figure size 432x288 with 1 Axes>"
      ]
     },
     "metadata": {
      "needs_background": "light"
     },
     "output_type": "display_data"
    }
   ],
   "source": [
    "plt.figure(figsize=(20,10))\n",
    "data.reset_index().plot(y = 'python', x = 'geoName')\n",
    "plt.xticks(rotation = 90)\n",
    "plt.show()"
   ]
  },
  {
   "cell_type": "code",
   "execution_count": 11,
   "id": "b4993142",
   "metadata": {},
   "outputs": [
    {
     "data": {
      "text/html": [
       "<div>\n",
       "<style scoped>\n",
       "    .dataframe tbody tr th:only-of-type {\n",
       "        vertical-align: middle;\n",
       "    }\n",
       "\n",
       "    .dataframe tbody tr th {\n",
       "        vertical-align: top;\n",
       "    }\n",
       "\n",
       "    .dataframe thead th {\n",
       "        text-align: right;\n",
       "    }\n",
       "</style>\n",
       "<table border=\"1\" class=\"dataframe\">\n",
       "  <thead>\n",
       "    <tr style=\"text-align: right;\">\n",
       "      <th></th>\n",
       "      <th>0</th>\n",
       "    </tr>\n",
       "  </thead>\n",
       "  <tbody>\n",
       "    <tr>\n",
       "      <th>0</th>\n",
       "      <td>Shinzo Abe</td>\n",
       "    </tr>\n",
       "    <tr>\n",
       "      <th>1</th>\n",
       "      <td>Vikram</td>\n",
       "    </tr>\n",
       "    <tr>\n",
       "      <th>2</th>\n",
       "      <td>Sports</td>\n",
       "    </tr>\n",
       "    <tr>\n",
       "      <th>3</th>\n",
       "      <td>Rishi Sunak</td>\n",
       "    </tr>\n",
       "    <tr>\n",
       "      <th>4</th>\n",
       "      <td>JNV Result 2022 Class 6</td>\n",
       "    </tr>\n",
       "  </tbody>\n",
       "</table>\n",
       "</div>"
      ],
      "text/plain": [
       "                         0\n",
       "0               Shinzo Abe\n",
       "1                   Vikram\n",
       "2                   Sports\n",
       "3              Rishi Sunak\n",
       "4  JNV Result 2022 Class 6"
      ]
     },
     "execution_count": 11,
     "metadata": {},
     "output_type": "execute_result"
    }
   ],
   "source": [
    "data_india = pytrends.trending_searches(pn = 'india')\n",
    "data_india.head()"
   ]
  },
  {
   "cell_type": "code",
   "execution_count": 12,
   "id": "b7060669",
   "metadata": {},
   "outputs": [
    {
     "data": {
      "text/html": [
       "<div>\n",
       "<style scoped>\n",
       "    .dataframe tbody tr th:only-of-type {\n",
       "        vertical-align: middle;\n",
       "    }\n",
       "\n",
       "    .dataframe tbody tr th {\n",
       "        vertical-align: top;\n",
       "    }\n",
       "\n",
       "    .dataframe thead th {\n",
       "        text-align: right;\n",
       "    }\n",
       "</style>\n",
       "<table border=\"1\" class=\"dataframe\">\n",
       "  <thead>\n",
       "    <tr style=\"text-align: right;\">\n",
       "      <th></th>\n",
       "      <th>0</th>\n",
       "    </tr>\n",
       "  </thead>\n",
       "  <tbody>\n",
       "    <tr>\n",
       "      <th>15</th>\n",
       "      <td>T20 World Cup</td>\n",
       "    </tr>\n",
       "    <tr>\n",
       "      <th>16</th>\n",
       "      <td>Joseph Quinn</td>\n",
       "    </tr>\n",
       "    <tr>\n",
       "      <th>17</th>\n",
       "      <td>Shinzo Abe News Hindi</td>\n",
       "    </tr>\n",
       "    <tr>\n",
       "      <th>18</th>\n",
       "      <td>Tessa Thompson</td>\n",
       "    </tr>\n",
       "    <tr>\n",
       "      <th>19</th>\n",
       "      <td>Carmel Convent School Chandigarh</td>\n",
       "    </tr>\n",
       "  </tbody>\n",
       "</table>\n",
       "</div>"
      ],
      "text/plain": [
       "                                   0\n",
       "15                     T20 World Cup\n",
       "16                      Joseph Quinn\n",
       "17             Shinzo Abe News Hindi\n",
       "18                    Tessa Thompson\n",
       "19  Carmel Convent School Chandigarh"
      ]
     },
     "execution_count": 12,
     "metadata": {},
     "output_type": "execute_result"
    }
   ],
   "source": [
    "data_india.tail()"
   ]
  },
  {
   "cell_type": "code",
   "execution_count": 14,
   "id": "e21a8af3",
   "metadata": {},
   "outputs": [
    {
     "data": {
      "text/html": [
       "<div>\n",
       "<style scoped>\n",
       "    .dataframe tbody tr th:only-of-type {\n",
       "        vertical-align: middle;\n",
       "    }\n",
       "\n",
       "    .dataframe tbody tr th {\n",
       "        vertical-align: top;\n",
       "    }\n",
       "\n",
       "    .dataframe thead th {\n",
       "        text-align: right;\n",
       "    }\n",
       "</style>\n",
       "<table border=\"1\" class=\"dataframe\">\n",
       "  <thead>\n",
       "    <tr style=\"text-align: right;\">\n",
       "      <th></th>\n",
       "      <th>title</th>\n",
       "      <th>exploreQuery</th>\n",
       "    </tr>\n",
       "  </thead>\n",
       "  <tbody>\n",
       "    <tr>\n",
       "      <th>0</th>\n",
       "      <td>Australia vs India</td>\n",
       "      <td></td>\n",
       "    </tr>\n",
       "    <tr>\n",
       "      <th>1</th>\n",
       "      <td>India vs England</td>\n",
       "      <td></td>\n",
       "    </tr>\n",
       "    <tr>\n",
       "      <th>2</th>\n",
       "      <td>IPL</td>\n",
       "      <td></td>\n",
       "    </tr>\n",
       "    <tr>\n",
       "      <th>3</th>\n",
       "      <td>NBA</td>\n",
       "      <td></td>\n",
       "    </tr>\n",
       "    <tr>\n",
       "      <th>4</th>\n",
       "      <td>Euro 2021</td>\n",
       "      <td></td>\n",
       "    </tr>\n",
       "  </tbody>\n",
       "</table>\n",
       "</div>"
      ],
      "text/plain": [
       "                title exploreQuery\n",
       "0  Australia vs India             \n",
       "1    India vs England             \n",
       "2                 IPL             \n",
       "3                 NBA             \n",
       "4           Euro 2021             "
      ]
     },
     "execution_count": 14,
     "metadata": {},
     "output_type": "execute_result"
    }
   ],
   "source": [
    "top_data = pytrends.top_charts(2021, hl = 'en-us', tz = 300, geo = 'GLOBAL')\n",
    "top_data.head()"
   ]
  },
  {
   "cell_type": "code",
   "execution_count": 15,
   "id": "d3e58c5b",
   "metadata": {},
   "outputs": [
    {
     "data": {
      "text/html": [
       "<div>\n",
       "<style scoped>\n",
       "    .dataframe tbody tr th:only-of-type {\n",
       "        vertical-align: middle;\n",
       "    }\n",
       "\n",
       "    .dataframe tbody tr th {\n",
       "        vertical-align: top;\n",
       "    }\n",
       "\n",
       "    .dataframe thead th {\n",
       "        text-align: right;\n",
       "    }\n",
       "</style>\n",
       "<table border=\"1\" class=\"dataframe\">\n",
       "  <thead>\n",
       "    <tr style=\"text-align: right;\">\n",
       "      <th></th>\n",
       "      <th>title</th>\n",
       "      <th>exploreQuery</th>\n",
       "    </tr>\n",
       "  </thead>\n",
       "  <tbody>\n",
       "    <tr>\n",
       "      <th>5</th>\n",
       "      <td>Copa América</td>\n",
       "      <td>Copa America</td>\n",
       "    </tr>\n",
       "    <tr>\n",
       "      <th>6</th>\n",
       "      <td>India vs New Zealand</td>\n",
       "      <td></td>\n",
       "    </tr>\n",
       "    <tr>\n",
       "      <th>7</th>\n",
       "      <td>T20 World Cup</td>\n",
       "      <td></td>\n",
       "    </tr>\n",
       "    <tr>\n",
       "      <th>8</th>\n",
       "      <td>Squid Game</td>\n",
       "      <td></td>\n",
       "    </tr>\n",
       "    <tr>\n",
       "      <th>9</th>\n",
       "      <td>DMX</td>\n",
       "      <td></td>\n",
       "    </tr>\n",
       "  </tbody>\n",
       "</table>\n",
       "</div>"
      ],
      "text/plain": [
       "                  title  exploreQuery\n",
       "5          Copa América  Copa America\n",
       "6  India vs New Zealand              \n",
       "7         T20 World Cup              \n",
       "8            Squid Game              \n",
       "9                   DMX              "
      ]
     },
     "execution_count": 15,
     "metadata": {},
     "output_type": "execute_result"
    }
   ],
   "source": [
    "top_data.tail()"
   ]
  },
  {
   "cell_type": "code",
   "execution_count": 16,
   "id": "9b9653ba",
   "metadata": {},
   "outputs": [
    {
     "data": {
      "text/html": [
       "<div>\n",
       "<style scoped>\n",
       "    .dataframe tbody tr th:only-of-type {\n",
       "        vertical-align: middle;\n",
       "    }\n",
       "\n",
       "    .dataframe tbody tr th {\n",
       "        vertical-align: top;\n",
       "    }\n",
       "\n",
       "    .dataframe thead th {\n",
       "        text-align: right;\n",
       "    }\n",
       "</style>\n",
       "<table border=\"1\" class=\"dataframe\">\n",
       "  <thead>\n",
       "    <tr style=\"text-align: right;\">\n",
       "      <th></th>\n",
       "      <th>title</th>\n",
       "      <th>type</th>\n",
       "    </tr>\n",
       "  </thead>\n",
       "  <tbody>\n",
       "    <tr>\n",
       "      <th>0</th>\n",
       "      <td>Narendra Modi</td>\n",
       "      <td>Prime Minister of India</td>\n",
       "    </tr>\n",
       "    <tr>\n",
       "      <th>1</th>\n",
       "      <td>SpiceJet</td>\n",
       "      <td>Airline</td>\n",
       "    </tr>\n",
       "    <tr>\n",
       "      <th>2</th>\n",
       "      <td>Brave</td>\n",
       "      <td>2012 film</td>\n",
       "    </tr>\n",
       "    <tr>\n",
       "      <th>3</th>\n",
       "      <td>Grammatical modifier</td>\n",
       "      <td>Topic</td>\n",
       "    </tr>\n",
       "    <tr>\n",
       "      <th>4</th>\n",
       "      <td>Modica</td>\n",
       "      <td>City in Sicily, Italy</td>\n",
       "    </tr>\n",
       "  </tbody>\n",
       "</table>\n",
       "</div>"
      ],
      "text/plain": [
       "                  title                     type\n",
       "0         Narendra Modi  Prime Minister of India\n",
       "1              SpiceJet                  Airline\n",
       "2                 Brave                2012 film\n",
       "3  Grammatical modifier                    Topic\n",
       "4                Modica    City in Sicily, Italy"
      ]
     },
     "execution_count": 16,
     "metadata": {},
     "output_type": "execute_result"
    }
   ],
   "source": [
    "keywords = pytrends.suggestions(keyword = 'modi')\n",
    "df = pd.DataFrame(keywords)\n",
    "df.drop(columns = 'mid')"
   ]
  },
  {
   "cell_type": "code",
   "execution_count": 17,
   "id": "8c3b7f34",
   "metadata": {},
   "outputs": [],
   "source": [
    "pytrends.build_payload(kw_list = ['jobs'])"
   ]
  },
  {
   "cell_type": "code",
   "execution_count": 18,
   "id": "53cf4cab",
   "metadata": {},
   "outputs": [],
   "source": [
    "job_query = pytrends.related_queries()"
   ]
  },
  {
   "cell_type": "code",
   "execution_count": 19,
   "id": "e97a81fa",
   "metadata": {},
   "outputs": [
    {
     "data": {
      "text/plain": [
       "{'jobs': {'top':                   query  value\n",
       "  0          jobs near me    100\n",
       "  1                   job     83\n",
       "  2           indeed jobs     77\n",
       "  3                indeed     77\n",
       "  4        part time jobs     46\n",
       "  5           jobs hiring     34\n",
       "  6           jobs online     34\n",
       "  7           amazon jobs     27\n",
       "  8       government jobs     26\n",
       "  9        jobs from home     25\n",
       "  10            best jobs     25\n",
       "  11           steve jobs     21\n",
       "  12             nhs jobs     19\n",
       "  13      craigslist jobs     19\n",
       "  14          google jobs     19\n",
       "  15              it jobs     18\n",
       "  16       work from home     18\n",
       "  17  work from home jobs     17\n",
       "  18            govt jobs     17\n",
       "  19  jobs hiring near me     16\n",
       "  20       hiring near me     16\n",
       "  21          remote jobs     14\n",
       "  22             usa jobs     13\n",
       "  23        security jobs     12\n",
       "  24        facebook jobs     12,\n",
       "  'rising':                           query  value\n",
       "  0           amazon jobs near me   3150\n",
       "  1   work from home jobs near me   2150\n",
       "  2          admin or office jobs   1400\n",
       "  3           indeed jobs near me   1200\n",
       "  4                  jobs bg вход   1100\n",
       "  5                     trac jobs   1050\n",
       "  6        jobs near me part time    950\n",
       "  7        warehouse jobs near me    950\n",
       "  8         delivery jobs near me    950\n",
       "  9          driving jobs near me    950\n",
       "  10                 jobs near me    850\n",
       "  11       full time jobs near me    850\n",
       "  12    receptionist jobs near me    850\n",
       "  13    construction jobs near me    850\n",
       "  14          retail jobs near me    800\n",
       "  15          office jobs near me    750\n",
       "  16          jobs hiring near me    700\n",
       "  17               hiring near me    700\n",
       "  18                  remote jobs    650\n",
       "  19           hotel jobs near me    550\n",
       "  20                       upwork    400\n",
       "  21        amazon warehouse jobs    400\n",
       "  22                 ziprecruiter    300\n",
       "  23                  amazon jobs    250\n",
       "  24               go zambia jobs    180}}"
      ]
     },
     "execution_count": 19,
     "metadata": {},
     "output_type": "execute_result"
    }
   ],
   "source": [
    "job_query"
   ]
  },
  {
   "cell_type": "code",
   "execution_count": 20,
   "id": "cd52bc2c",
   "metadata": {},
   "outputs": [],
   "source": [
    "job_topic = pytrends.related_topics()"
   ]
  },
  {
   "cell_type": "code",
   "execution_count": 21,
   "id": "5f991e92",
   "metadata": {},
   "outputs": [
    {
     "data": {
      "text/plain": [
       "dict_values([{'rising':     value formattedValue                                            link  \\\n",
       "0     170          +170%      /trends/explore?q=/m/04pymq&date=today+5-y   \n",
       "1     120          +120%      /trends/explore?q=/m/014xsg&date=today+5-y   \n",
       "2      70           +70%      /trends/explore?q=/m/05xxpw&date=today+5-y   \n",
       "3      70           +70%      /trends/explore?q=/m/09ylwk&date=today+5-y   \n",
       "4      70           +70%      /trends/explore?q=/m/04ctxd&date=today+5-y   \n",
       "5      60           +60%      /trends/explore?q=/m/018j6p&date=today+5-y   \n",
       "6      60           +60%     /trends/explore?q=/m/0t53np8&date=today+5-y   \n",
       "7      50           +50%      /trends/explore?q=/m/02nzw0&date=today+5-y   \n",
       "8      50           +50%   /trends/explore?q=/g/1q6jdznrb&date=today+5-y   \n",
       "9      40           +40%  /trends/explore?q=/g/11h7hz8ms4&date=today+5-y   \n",
       "10     40           +40%      /trends/explore?q=/m/02g0j0&date=today+5-y   \n",
       "\n",
       "        topic_mid                  topic_title        topic_type  \n",
       "0       /m/04pymq                        .jobs  Top-level domain  \n",
       "1       /m/014xsg                  Remote work             Topic  \n",
       "2       /m/05xxpw                Full-time job             Topic  \n",
       "3       /m/09ylwk                       Indeed           Website  \n",
       "4       /m/04ctxd  Commercial driver's license             Topic  \n",
       "5       /m/018j6p           Software Developer            Career  \n",
       "6      /m/0t53np8                    Glassdoor           Website  \n",
       "7       /m/02nzw0                    Warehouse      Building use  \n",
       "8    /g/1q6jdznrb                       driver             Topic  \n",
       "9   /g/11h7hz8ms4             Registered nurse        Occupation  \n",
       "10      /m/02g0j0                   Freelancer         Job title  , 'top':     value formattedValue  hasData  \\\n",
       "0     100            100     True   \n",
       "1       5              5     True   \n",
       "2       3              3     True   \n",
       "3       3              3     True   \n",
       "4       3              3     True   \n",
       "5       3              3     True   \n",
       "6       3              3     True   \n",
       "7       1              1     True   \n",
       "8       1              1     True   \n",
       "9       1              1     True   \n",
       "10      1              1     True   \n",
       "11      1              1     True   \n",
       "12      1              1     True   \n",
       "13      1              1     True   \n",
       "14      1              1     True   \n",
       "15      1              1     True   \n",
       "16      1              1     True   \n",
       "17      1              1     True   \n",
       "18      0             <1     True   \n",
       "19      0             <1     True   \n",
       "20      0             <1     True   \n",
       "21      0             <1     True   \n",
       "22      0             <1     True   \n",
       "23      0             <1     True   \n",
       "\n",
       "                                              link      topic_mid  \\\n",
       "0      /trends/explore?q=/m/04115t2&date=today+5-y     /m/04115t2   \n",
       "1       /trends/explore?q=/m/09ylwk&date=today+5-y      /m/09ylwk   \n",
       "2       /trends/explore?q=/m/05xxpj&date=today+5-y      /m/05xxpj   \n",
       "3       /trends/explore?q=/m/03nw7w&date=today+5-y      /m/03nw7w   \n",
       "4        /trends/explore?q=/m/036nz&date=today+5-y       /m/036nz   \n",
       "5      /trends/explore?q=/m/03ml62y&date=today+5-y     /m/03ml62y   \n",
       "6       /trends/explore?q=/m/02w88k&date=today+5-y      /m/02w88k   \n",
       "7       /trends/explore?q=/m/014xsg&date=today+5-y      /m/014xsg   \n",
       "8        /trends/explore?q=/m/06y3r&date=today+5-y       /m/06y3r   \n",
       "9       /trends/explore?q=/m/01fw9h&date=today+5-y      /m/01fw9h   \n",
       "10      /trends/explore?q=/m/01_942&date=today+5-y      /m/01_942   \n",
       "11     /trends/explore?q=/m/02ky346&date=today+5-y     /m/02ky346   \n",
       "12      /trends/explore?q=/m/019v9k&date=today+5-y      /m/019v9k   \n",
       "13  /trends/explore?q=/g/11h7hz8ms4&date=today+5-y  /g/11h7hz8ms4   \n",
       "14      /trends/explore?q=/m/02nzw0&date=today+5-y      /m/02nzw0   \n",
       "15      /trends/explore?q=/m/05xf3m&date=today+5-y      /m/05xf3m   \n",
       "16      /trends/explore?q=/m/04pymq&date=today+5-y      /m/04pymq   \n",
       "17   /trends/explore?q=/g/1q6jdznrb&date=today+5-y   /g/1q6jdznrb   \n",
       "18      /trends/explore?q=/m/018j6p&date=today+5-y      /m/018j6p   \n",
       "19      /trends/explore?q=/m/05xxpw&date=today+5-y      /m/05xxpw   \n",
       "20      /trends/explore?q=/m/04kq7l&date=today+5-y      /m/04kq7l   \n",
       "21      /trends/explore?q=/m/02g0j0&date=today+5-y      /m/02g0j0   \n",
       "22    /trends/explore?q=/g/122h5gw1&date=today+5-y    /g/122h5gw1   \n",
       "23     /trends/explore?q=/m/0t53np8&date=today+5-y     /m/0t53np8   \n",
       "\n",
       "                topic_title             topic_type  \n",
       "0                       Job                  Topic  \n",
       "1                    Indeed                Website  \n",
       "2             Part-time job                  Topic  \n",
       "3               Recruitment                  Topic  \n",
       "4                Government      Organization type  \n",
       "5                    Career                  Topic  \n",
       "6                    Salary                  Topic  \n",
       "7               Remote work                  Topic  \n",
       "8                Steve Jobs  American entrepreneur  \n",
       "9   National Health Service                England  \n",
       "10                     Wage                  Topic  \n",
       "11              Engineering             Discipline  \n",
       "12        Bachelor's degree                 Degree  \n",
       "13         Registered nurse             Occupation  \n",
       "14                Warehouse           Building use  \n",
       "15          Entry-level job                  Topic  \n",
       "16                    .jobs       Top-level domain  \n",
       "17                   driver                  Topic  \n",
       "18       Software Developer                 Career  \n",
       "19            Full-time job                  Topic  \n",
       "20         Data entry clerk              Job title  \n",
       "21               Freelancer              Job title  \n",
       "22                  Analyst                 Career  \n",
       "23                Glassdoor                Website  }])"
      ]
     },
     "execution_count": 21,
     "metadata": {},
     "output_type": "execute_result"
    }
   ],
   "source": [
    "job_topic.values()"
   ]
  }
 ],
 "metadata": {
  "kernelspec": {
   "display_name": "Python 3 (ipykernel)",
   "language": "python",
   "name": "python3"
  },
  "language_info": {
   "codemirror_mode": {
    "name": "ipython",
    "version": 3
   },
   "file_extension": ".py",
   "mimetype": "text/x-python",
   "name": "python",
   "nbconvert_exporter": "python",
   "pygments_lexer": "ipython3",
   "version": "3.8.8"
  }
 },
 "nbformat": 4,
 "nbformat_minor": 5
}
