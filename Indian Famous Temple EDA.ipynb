{
 "cells": [
  {
   "cell_type": "code",
   "execution_count": 1,
   "id": "23a790e5",
   "metadata": {},
   "outputs": [
    {
     "data": {
      "text/html": [
       "<div>\n",
       "<style scoped>\n",
       "    .dataframe tbody tr th:only-of-type {\n",
       "        vertical-align: middle;\n",
       "    }\n",
       "\n",
       "    .dataframe tbody tr th {\n",
       "        vertical-align: top;\n",
       "    }\n",
       "\n",
       "    .dataframe thead th {\n",
       "        text-align: right;\n",
       "    }\n",
       "</style>\n",
       "<table border=\"1\" class=\"dataframe\">\n",
       "  <thead>\n",
       "    <tr style=\"text-align: right;\">\n",
       "      <th></th>\n",
       "      <th>templeName</th>\n",
       "      <th>Description</th>\n",
       "      <th>Location</th>\n",
       "      <th>Coordinates</th>\n",
       "      <th>DistanceFromMumbai(Km)</th>\n",
       "      <th>DistanceFromNewDelhi(Km)</th>\n",
       "      <th>DistanceFromChennai(Km)</th>\n",
       "      <th>DistanceFromKolkata(Km)</th>\n",
       "    </tr>\n",
       "  </thead>\n",
       "  <tbody>\n",
       "    <tr>\n",
       "      <th>0</th>\n",
       "      <td>Badrinath Temple | Badrinath, Uttarakhand</td>\n",
       "      <td>The Badrinath temple also known as Badrinaraya...</td>\n",
       "      <td>Badrinath</td>\n",
       "      <td>(30.7423302, 79.4930256)</td>\n",
       "      <td>1454.013555</td>\n",
       "      <td>323.309362</td>\n",
       "      <td>1957.065909</td>\n",
       "      <td>1265.717344</td>\n",
       "    </tr>\n",
       "    <tr>\n",
       "      <th>1</th>\n",
       "      <td>Kedarnath Temple | Kedarnath, Uttarakhand</td>\n",
       "      <td>Located at the highest altitude among the Char...</td>\n",
       "      <td>Kedarnath</td>\n",
       "      <td>(30.7345609, 79.0673204)</td>\n",
       "      <td>1434.105557</td>\n",
       "      <td>295.986734</td>\n",
       "      <td>1958.477211</td>\n",
       "      <td>1294.937834</td>\n",
       "    </tr>\n",
       "    <tr>\n",
       "      <th>2</th>\n",
       "      <td>Gangotri Temple | Gangotri, Uttarakhand</td>\n",
       "      <td>The birthplace of the holy River Ganges is in ...</td>\n",
       "      <td>Gangotri</td>\n",
       "      <td>(30.9943684, 78.9398699)</td>\n",
       "      <td>1454.357504</td>\n",
       "      <td>312.443007</td>\n",
       "      <td>1988.071223</td>\n",
       "      <td>1323.391443</td>\n",
       "    </tr>\n",
       "    <tr>\n",
       "      <th>3</th>\n",
       "      <td>Yamunotri Temple | Yamunotri, Uttarakhand</td>\n",
       "      <td>Located opposite to Gangotri is the sacred shr...</td>\n",
       "      <td>Yamunotri</td>\n",
       "      <td>(30.999214, 78.4626951)</td>\n",
       "      <td>1435.376936</td>\n",
       "      <td>290.856707</td>\n",
       "      <td>1992.566060</td>\n",
       "      <td>1357.610477</td>\n",
       "    </tr>\n",
       "    <tr>\n",
       "      <th>4</th>\n",
       "      <td>Har Ki Pauri | Haridwar, Uttarakhand</td>\n",
       "      <td>As one of the oldest living cities of India, H...</td>\n",
       "      <td>Haridwar</td>\n",
       "      <td>(29.9384473, 78.1452985)</td>\n",
       "      <td>1315.804055</td>\n",
       "      <td>172.720329</td>\n",
       "      <td>1879.124748</td>\n",
       "      <td>1307.563971</td>\n",
       "    </tr>\n",
       "  </tbody>\n",
       "</table>\n",
       "</div>"
      ],
      "text/plain": [
       "                                  templeName  \\\n",
       "0  Badrinath Temple | Badrinath, Uttarakhand   \n",
       "1  Kedarnath Temple | Kedarnath, Uttarakhand   \n",
       "2    Gangotri Temple | Gangotri, Uttarakhand   \n",
       "3  Yamunotri Temple | Yamunotri, Uttarakhand   \n",
       "4       Har Ki Pauri | Haridwar, Uttarakhand   \n",
       "\n",
       "                                         Description    Location  \\\n",
       "0  The Badrinath temple also known as Badrinaraya...   Badrinath   \n",
       "1  Located at the highest altitude among the Char...   Kedarnath   \n",
       "2  The birthplace of the holy River Ganges is in ...    Gangotri   \n",
       "3  Located opposite to Gangotri is the sacred shr...   Yamunotri   \n",
       "4  As one of the oldest living cities of India, H...    Haridwar   \n",
       "\n",
       "                Coordinates  DistanceFromMumbai(Km)  DistanceFromNewDelhi(Km)  \\\n",
       "0  (30.7423302, 79.4930256)             1454.013555                323.309362   \n",
       "1  (30.7345609, 79.0673204)             1434.105557                295.986734   \n",
       "2  (30.9943684, 78.9398699)             1454.357504                312.443007   \n",
       "3   (30.999214, 78.4626951)             1435.376936                290.856707   \n",
       "4  (29.9384473, 78.1452985)             1315.804055                172.720329   \n",
       "\n",
       "   DistanceFromChennai(Km)  DistanceFromKolkata(Km)  \n",
       "0              1957.065909              1265.717344  \n",
       "1              1958.477211              1294.937834  \n",
       "2              1988.071223              1323.391443  \n",
       "3              1992.566060              1357.610477  \n",
       "4              1879.124748              1307.563971  "
      ]
     },
     "execution_count": 1,
     "metadata": {},
     "output_type": "execute_result"
    }
   ],
   "source": [
    "import pandas as pd\n",
    "import numpy as np\n",
    "import matplotlib.pyplot as plt\n",
    "import seaborn as sns\n",
    "import warnings\n",
    "warnings.filterwarnings(\"ignore\")\n",
    "\n",
    "temple_data = pd.read_csv(r\"C:\\Users\\SHREE\\Downloads\\Python CODES\\Indian Famous Temple EDA\\temples.csv\")\n",
    "temple_data.head()"
   ]
  },
  {
   "cell_type": "code",
   "execution_count": 2,
   "id": "d344ae58",
   "metadata": {},
   "outputs": [
    {
     "data": {
      "text/plain": [
       "(53, 8)"
      ]
     },
     "execution_count": 2,
     "metadata": {},
     "output_type": "execute_result"
    }
   ],
   "source": [
    "temple_data.shape"
   ]
  },
  {
   "cell_type": "code",
   "execution_count": 3,
   "id": "8862c889",
   "metadata": {},
   "outputs": [
    {
     "data": {
      "text/plain": [
       "Index(['templeName', 'Description', 'Location', 'Coordinates',\n",
       "       'DistanceFromMumbai(Km)', 'DistanceFromNewDelhi(Km)',\n",
       "       'DistanceFromChennai(Km)', 'DistanceFromKolkata(Km)'],\n",
       "      dtype='object')"
      ]
     },
     "execution_count": 3,
     "metadata": {},
     "output_type": "execute_result"
    }
   ],
   "source": [
    "temple_data.columns"
   ]
  },
  {
   "cell_type": "code",
   "execution_count": 4,
   "id": "1cb91f57",
   "metadata": {},
   "outputs": [
    {
     "name": "stdout",
     "output_type": "stream",
     "text": [
      "<class 'pandas.core.frame.DataFrame'>\n",
      "RangeIndex: 53 entries, 0 to 52\n",
      "Data columns (total 8 columns):\n",
      " #   Column                    Non-Null Count  Dtype  \n",
      "---  ------                    --------------  -----  \n",
      " 0   templeName                53 non-null     object \n",
      " 1   Description               53 non-null     object \n",
      " 2   Location                  52 non-null     object \n",
      " 3   Coordinates               53 non-null     object \n",
      " 4   DistanceFromMumbai(Km)    53 non-null     float64\n",
      " 5   DistanceFromNewDelhi(Km)  53 non-null     float64\n",
      " 6   DistanceFromChennai(Km)   53 non-null     float64\n",
      " 7   DistanceFromKolkata(Km)   53 non-null     float64\n",
      "dtypes: float64(4), object(4)\n",
      "memory usage: 3.4+ KB\n"
     ]
    }
   ],
   "source": [
    "temple_data.info()"
   ]
  },
  {
   "cell_type": "code",
   "execution_count": 5,
   "id": "64055d09",
   "metadata": {},
   "outputs": [
    {
     "data": {
      "text/html": [
       "<div>\n",
       "<style scoped>\n",
       "    .dataframe tbody tr th:only-of-type {\n",
       "        vertical-align: middle;\n",
       "    }\n",
       "\n",
       "    .dataframe tbody tr th {\n",
       "        vertical-align: top;\n",
       "    }\n",
       "\n",
       "    .dataframe thead th {\n",
       "        text-align: right;\n",
       "    }\n",
       "</style>\n",
       "<table border=\"1\" class=\"dataframe\">\n",
       "  <thead>\n",
       "    <tr style=\"text-align: right;\">\n",
       "      <th></th>\n",
       "      <th>count</th>\n",
       "      <th>mean</th>\n",
       "      <th>std</th>\n",
       "      <th>min</th>\n",
       "      <th>25%</th>\n",
       "      <th>50%</th>\n",
       "      <th>75%</th>\n",
       "      <th>max</th>\n",
       "    </tr>\n",
       "  </thead>\n",
       "  <tbody>\n",
       "    <tr>\n",
       "      <th>DistanceFromMumbai(Km)</th>\n",
       "      <td>53.0</td>\n",
       "      <td>1195.137153</td>\n",
       "      <td>844.276632</td>\n",
       "      <td>0.000000</td>\n",
       "      <td>851.545156</td>\n",
       "      <td>1158.782925</td>\n",
       "      <td>1405.563660</td>\n",
       "      <td>6345.522996</td>\n",
       "    </tr>\n",
       "    <tr>\n",
       "      <th>DistanceFromNewDelhi(Km)</th>\n",
       "      <td>53.0</td>\n",
       "      <td>1141.181755</td>\n",
       "      <td>956.735097</td>\n",
       "      <td>0.000000</td>\n",
       "      <td>496.787727</td>\n",
       "      <td>1087.326052</td>\n",
       "      <td>1668.348726</td>\n",
       "      <td>5987.434545</td>\n",
       "    </tr>\n",
       "    <tr>\n",
       "      <th>DistanceFromChennai(Km)</th>\n",
       "      <td>53.0</td>\n",
       "      <td>1323.089894</td>\n",
       "      <td>1087.565648</td>\n",
       "      <td>52.010385</td>\n",
       "      <td>487.198055</td>\n",
       "      <td>1352.260203</td>\n",
       "      <td>1797.144168</td>\n",
       "      <td>7374.452960</td>\n",
       "    </tr>\n",
       "    <tr>\n",
       "      <th>DistanceFromKolkata(Km)</th>\n",
       "      <td>53.0</td>\n",
       "      <td>1425.414973</td>\n",
       "      <td>971.889052</td>\n",
       "      <td>0.000000</td>\n",
       "      <td>1294.937834</td>\n",
       "      <td>1464.934193</td>\n",
       "      <td>1671.864818</td>\n",
       "      <td>7275.959203</td>\n",
       "    </tr>\n",
       "  </tbody>\n",
       "</table>\n",
       "</div>"
      ],
      "text/plain": [
       "                          count         mean          std        min  \\\n",
       "DistanceFromMumbai(Km)     53.0  1195.137153   844.276632   0.000000   \n",
       "DistanceFromNewDelhi(Km)   53.0  1141.181755   956.735097   0.000000   \n",
       "DistanceFromChennai(Km)    53.0  1323.089894  1087.565648  52.010385   \n",
       "DistanceFromKolkata(Km)    53.0  1425.414973   971.889052   0.000000   \n",
       "\n",
       "                                  25%          50%          75%          max  \n",
       "DistanceFromMumbai(Km)     851.545156  1158.782925  1405.563660  6345.522996  \n",
       "DistanceFromNewDelhi(Km)   496.787727  1087.326052  1668.348726  5987.434545  \n",
       "DistanceFromChennai(Km)    487.198055  1352.260203  1797.144168  7374.452960  \n",
       "DistanceFromKolkata(Km)   1294.937834  1464.934193  1671.864818  7275.959203  "
      ]
     },
     "execution_count": 5,
     "metadata": {},
     "output_type": "execute_result"
    }
   ],
   "source": [
    "temple_data.describe().T"
   ]
  },
  {
   "cell_type": "code",
   "execution_count": 6,
   "id": "658e4c9c",
   "metadata": {},
   "outputs": [
    {
     "data": {
      "text/plain": [
       "templeName                  0\n",
       "Description                 0\n",
       "Location                    1\n",
       "Coordinates                 0\n",
       "DistanceFromMumbai(Km)      0\n",
       "DistanceFromNewDelhi(Km)    0\n",
       "DistanceFromChennai(Km)     0\n",
       "DistanceFromKolkata(Km)     0\n",
       "dtype: int64"
      ]
     },
     "execution_count": 6,
     "metadata": {},
     "output_type": "execute_result"
    }
   ],
   "source": [
    "temple_data.isnull().sum()"
   ]
  },
  {
   "cell_type": "code",
   "execution_count": 7,
   "id": "602c78fd",
   "metadata": {},
   "outputs": [],
   "source": [
    "temple_data = temple_data.dropna()"
   ]
  },
  {
   "cell_type": "code",
   "execution_count": 8,
   "id": "257e26fc",
   "metadata": {},
   "outputs": [
    {
     "data": {
      "text/plain": [
       "False"
      ]
     },
     "execution_count": 8,
     "metadata": {},
     "output_type": "execute_result"
    }
   ],
   "source": [
    "temple_data.isnull().any().any()"
   ]
  },
  {
   "cell_type": "code",
   "execution_count": 9,
   "id": "e4c7e696",
   "metadata": {},
   "outputs": [],
   "source": [
    "temple_data['State']=temple_data['templeName'].str.split(',',expand=True)[1]"
   ]
  },
  {
   "cell_type": "code",
   "execution_count": 10,
   "id": "ced61269",
   "metadata": {},
   "outputs": [
    {
     "data": {
      "text/plain": [
       "array([' Uttarakhand', ' Uttar Pradesh', ' Punjab', ' Jammu & Kashmir',\n",
       "       ' Delhi', ' Himachal Pradesh', ' Orissa', ' West Bengal', ' Assam',\n",
       "       ' Gujarat', ' Maharashtra', ' Rajasthan', ' Madhya Pradesh',\n",
       "       ' Andhra Pradesh', ' Karnataka', ' Kerala', ' Tamil Nadu'],\n",
       "      dtype=object)"
      ]
     },
     "execution_count": 10,
     "metadata": {},
     "output_type": "execute_result"
    }
   ],
   "source": [
    "temple_data.State.unique()"
   ]
  },
  {
   "cell_type": "code",
   "execution_count": 11,
   "id": "95c29128",
   "metadata": {},
   "outputs": [
    {
     "data": {
      "text/plain": [
       " Tamil Nadu          9\n",
       " Uttarakhand         7\n",
       " Karnataka           5\n",
       " Delhi               4\n",
       " Orissa              4\n",
       " Jammu & Kashmir     3\n",
       " Gujarat             3\n",
       " Maharashtra         3\n",
       " Rajasthan           3\n",
       " West Bengal         2\n",
       " Madhya Pradesh      2\n",
       " Kerala              2\n",
       " Punjab              1\n",
       " Himachal Pradesh    1\n",
       " Uttar Pradesh       1\n",
       " Andhra Pradesh      1\n",
       " Assam               1\n",
       "Name: State, dtype: int64"
      ]
     },
     "execution_count": 11,
     "metadata": {},
     "output_type": "execute_result"
    }
   ],
   "source": [
    "temple_data.State.value_counts()"
   ]
  },
  {
   "cell_type": "code",
   "execution_count": 12,
   "id": "e52bcaf1",
   "metadata": {},
   "outputs": [
    {
     "data": {
      "image/png": "[encoded data removed]",
      "text/plain": [
       "<Figure size 1080x432 with 1 Axes>"
      ]
     },
     "metadata": {
      "needs_background": "light"
     },
     "output_type": "display_data"
    }
   ],
   "source": [
    "plt.figure(figsize=(15,6))\n",
    "sns.countplot('State', data = temple_data, palette='hls')\n",
    "plt.xticks(rotation = 90)\n",
    "plt.show()"
   ]
  },
  {
   "cell_type": "code",
   "execution_count": 13,
   "id": "7fd0b4fb",
   "metadata": {},
   "outputs": [
    {
     "data": {
      "text/plain": [
       "array([' Badrinath', ' Kedarnath', ' Gangotri', ' Yamunotri', ' Haridwar',\n",
       "       ' Rishikesh', ' Nainital', ' Varanasi', ' Amritsar', ' Pahalgam',\n",
       "       ' Vaishno Devi', ' Srinagar', ' New Delhi', ' Kangra',\n",
       "       ' Bhubaneshwar', ' Puri', ' Kolkata', ' Guwahati', ' Dwarka',\n",
       "       ' Gandhinagar', ' Junagadh', ' Ahmednagar', ' Mumbai', ' Shirdi',\n",
       "       ' Nathdwara', ' Mount Abu', ' Ranakpur', ' Sanchi', ' Khajuraho',\n",
       "       ' Tirumala', ' Hampi', ' Mysore', ' Thiruvananthapuram',\n",
       "       ' Pathanamthitta', ' Srirangam', ' Madurai', ' Rameshwaram',\n",
       "       ' Mahabalipuram', ' Vellore', ' Thanjavur', ' Belur',\n",
       "       ' Chidambaram', ' Thiruvannamalai', ' Kanchipuram'], dtype=object)"
      ]
     },
     "execution_count": 13,
     "metadata": {},
     "output_type": "execute_result"
    }
   ],
   "source": [
    "temple_data.Location.unique()"
   ]
  },
  {
   "cell_type": "code",
   "execution_count": 14,
   "id": "8c80b5aa",
   "metadata": {},
   "outputs": [
    {
     "data": {
      "text/plain": [
       " New Delhi             4\n",
       " Hampi                 3\n",
       " Bhubaneshwar          3\n",
       " Kolkata               2\n",
       " Badrinath             1\n",
       " Ranakpur              1\n",
       " Sanchi                1\n",
       " Khajuraho             1\n",
       " Tirumala              1\n",
       " Mysore                1\n",
       " Thiruvananthapuram    1\n",
       " Pathanamthitta        1\n",
       " Nathdwara             1\n",
       " Srirangam             1\n",
       " Madurai               1\n",
       " Rameshwaram           1\n",
       " Mahabalipuram         1\n",
       " Vellore               1\n",
       " Thanjavur             1\n",
       " Belur                 1\n",
       " Chidambaram           1\n",
       " Thiruvannamalai       1\n",
       " Mount Abu             1\n",
       " Mumbai                1\n",
       " Shirdi                1\n",
       " Kedarnath             1\n",
       " Gangotri              1\n",
       " Yamunotri             1\n",
       " Haridwar              1\n",
       " Rishikesh             1\n",
       " Nainital              1\n",
       " Varanasi              1\n",
       " Amritsar              1\n",
       " Pahalgam              1\n",
       " Vaishno Devi          1\n",
       " Srinagar              1\n",
       " Kangra                1\n",
       " Puri                  1\n",
       " Guwahati              1\n",
       " Dwarka                1\n",
       " Gandhinagar           1\n",
       " Junagadh              1\n",
       " Ahmednagar            1\n",
       " Kanchipuram           1\n",
       "Name: Location, dtype: int64"
      ]
     },
     "execution_count": 14,
     "metadata": {},
     "output_type": "execute_result"
    }
   ],
   "source": [
    "temple_data.Location.value_counts()"
   ]
  },
  {
   "cell_type": "code",
   "execution_count": 15,
   "id": "9e24f4ae",
   "metadata": {},
   "outputs": [
    {
     "data": {
      "image/png": "[encoded data removed]",
      "text/plain": [
       "<Figure size 1080x432 with 1 Axes>"
      ]
     },
     "metadata": {
      "needs_background": "light"
     },
     "output_type": "display_data"
    }
   ],
   "source": [
    "plt.figure(figsize=(15,6))\n",
    "sns.countplot(temple_data['Location'], data = temple_data, palette='hls')\n",
    "plt.xticks(rotation = 90)\n",
    "plt.show()"
   ]
  },
  {
   "cell_type": "code",
   "execution_count": 16,
   "id": "9aeb4d51",
   "metadata": {},
   "outputs": [],
   "source": [
    "def temp(city):\n",
    "    return temple_data.sort_values(by=[city],ignore_index=True).loc[:,['templeName',city]].head(10)"
   ]
  },
  {
   "cell_type": "code",
   "execution_count": 17,
   "id": "71345117",
   "metadata": {},
   "outputs": [
    {
     "data": {
      "text/html": [
       "<div>\n",
       "<style scoped>\n",
       "    .dataframe tbody tr th:only-of-type {\n",
       "        vertical-align: middle;\n",
       "    }\n",
       "\n",
       "    .dataframe tbody tr th {\n",
       "        vertical-align: top;\n",
       "    }\n",
       "\n",
       "    .dataframe thead th {\n",
       "        text-align: right;\n",
       "    }\n",
       "</style>\n",
       "<table border=\"1\" class=\"dataframe\">\n",
       "  <thead>\n",
       "    <tr style=\"text-align: right;\">\n",
       "      <th></th>\n",
       "      <th>templeName</th>\n",
       "      <th>DistanceFromNewDelhi(Km)</th>\n",
       "    </tr>\n",
       "  </thead>\n",
       "  <tbody>\n",
       "    <tr>\n",
       "      <th>0</th>\n",
       "      <td>ISKON Temple | New Delhi, Delhi</td>\n",
       "      <td>0.000000</td>\n",
       "    </tr>\n",
       "    <tr>\n",
       "      <th>1</th>\n",
       "      <td>Birla Mandir | New Delhi, Delhi</td>\n",
       "      <td>0.000000</td>\n",
       "    </tr>\n",
       "    <tr>\n",
       "      <th>2</th>\n",
       "      <td>Akshardham Temple | New Delhi, Delhi</td>\n",
       "      <td>0.000000</td>\n",
       "    </tr>\n",
       "    <tr>\n",
       "      <th>3</th>\n",
       "      <td>Lotus Temple | New Delhi, Delhi</td>\n",
       "      <td>0.000000</td>\n",
       "    </tr>\n",
       "    <tr>\n",
       "      <th>4</th>\n",
       "      <td>Har Ki Pauri | Haridwar, Uttarakhand</td>\n",
       "      <td>172.720329</td>\n",
       "    </tr>\n",
       "    <tr>\n",
       "      <th>5</th>\n",
       "      <td>Neelkanth Mahadev Temple | Rishikesh, Uttarakhand</td>\n",
       "      <td>196.212348</td>\n",
       "    </tr>\n",
       "    <tr>\n",
       "      <th>6</th>\n",
       "      <td>Naina Devi Temple | Nainital, Uttarakhand</td>\n",
       "      <td>227.940519</td>\n",
       "    </tr>\n",
       "    <tr>\n",
       "      <th>7</th>\n",
       "      <td>Yamunotri Temple | Yamunotri, Uttarakhand</td>\n",
       "      <td>290.856707</td>\n",
       "    </tr>\n",
       "    <tr>\n",
       "      <th>8</th>\n",
       "      <td>Kedarnath Temple | Kedarnath, Uttarakhand</td>\n",
       "      <td>295.986734</td>\n",
       "    </tr>\n",
       "    <tr>\n",
       "      <th>9</th>\n",
       "      <td>Gangotri Temple | Gangotri, Uttarakhand</td>\n",
       "      <td>312.443007</td>\n",
       "    </tr>\n",
       "  </tbody>\n",
       "</table>\n",
       "</div>"
      ],
      "text/plain": [
       "                                          templeName  DistanceFromNewDelhi(Km)\n",
       "0                    ISKON Temple | New Delhi, Delhi                  0.000000\n",
       "1                    Birla Mandir | New Delhi, Delhi                  0.000000\n",
       "2               Akshardham Temple | New Delhi, Delhi                  0.000000\n",
       "3                    Lotus Temple | New Delhi, Delhi                  0.000000\n",
       "4               Har Ki Pauri | Haridwar, Uttarakhand                172.720329\n",
       "5  Neelkanth Mahadev Temple | Rishikesh, Uttarakhand                196.212348\n",
       "6          Naina Devi Temple | Nainital, Uttarakhand                227.940519\n",
       "7          Yamunotri Temple | Yamunotri, Uttarakhand                290.856707\n",
       "8          Kedarnath Temple | Kedarnath, Uttarakhand                295.986734\n",
       "9            Gangotri Temple | Gangotri, Uttarakhand                312.443007"
      ]
     },
     "execution_count": 17,
     "metadata": {},
     "output_type": "execute_result"
    }
   ],
   "source": [
    "temp('DistanceFromNewDelhi(Km)')"
   ]
  },
  {
   "cell_type": "code",
   "execution_count": 18,
   "id": "b235a0d6",
   "metadata": {},
   "outputs": [
    {
     "data": {
      "text/html": [
       "<div>\n",
       "<style scoped>\n",
       "    .dataframe tbody tr th:only-of-type {\n",
       "        vertical-align: middle;\n",
       "    }\n",
       "\n",
       "    .dataframe tbody tr th {\n",
       "        vertical-align: top;\n",
       "    }\n",
       "\n",
       "    .dataframe thead th {\n",
       "        text-align: right;\n",
       "    }\n",
       "</style>\n",
       "<table border=\"1\" class=\"dataframe\">\n",
       "  <thead>\n",
       "    <tr style=\"text-align: right;\">\n",
       "      <th></th>\n",
       "      <th>templeName</th>\n",
       "      <th>DistanceFromMumbai(Km)</th>\n",
       "    </tr>\n",
       "  </thead>\n",
       "  <tbody>\n",
       "    <tr>\n",
       "      <th>0</th>\n",
       "      <td>Siddhi Vinayak Temple | Mumbai, Maharashtra</td>\n",
       "      <td>0.000000</td>\n",
       "    </tr>\n",
       "    <tr>\n",
       "      <th>1</th>\n",
       "      <td>Shirdi Sai Baba Temple | Shirdi, Maharashtra</td>\n",
       "      <td>184.432488</td>\n",
       "    </tr>\n",
       "    <tr>\n",
       "      <th>2</th>\n",
       "      <td>Shani Shingnapur | Ahmednagar, Maharashtra</td>\n",
       "      <td>208.615647</td>\n",
       "    </tr>\n",
       "    <tr>\n",
       "      <th>3</th>\n",
       "      <td>Somnath Temple | Junagadh, Gujarat</td>\n",
       "      <td>369.551338</td>\n",
       "    </tr>\n",
       "    <tr>\n",
       "      <th>4</th>\n",
       "      <td>Akshardham Temple | Gandhinagar, Gujarat</td>\n",
       "      <td>459.796830</td>\n",
       "    </tr>\n",
       "    <tr>\n",
       "      <th>5</th>\n",
       "      <td>Dwarkadhish Temple | Dwarka, Gujarat</td>\n",
       "      <td>537.226142</td>\n",
       "    </tr>\n",
       "    <tr>\n",
       "      <th>6</th>\n",
       "      <td>Jain Temple | Ranakpur, Rajasthan</td>\n",
       "      <td>550.464049</td>\n",
       "    </tr>\n",
       "    <tr>\n",
       "      <th>7</th>\n",
       "      <td>Vitthala Temple | Hampi, Karnataka</td>\n",
       "      <td>562.648882</td>\n",
       "    </tr>\n",
       "    <tr>\n",
       "      <th>8</th>\n",
       "      <td>Pattabhirama Temple | Hampi, Karnataka</td>\n",
       "      <td>562.648882</td>\n",
       "    </tr>\n",
       "    <tr>\n",
       "      <th>9</th>\n",
       "      <td>Virupaksha Temple | Hampi, Karnataka</td>\n",
       "      <td>562.648882</td>\n",
       "    </tr>\n",
       "  </tbody>\n",
       "</table>\n",
       "</div>"
      ],
      "text/plain": [
       "                                     templeName  DistanceFromMumbai(Km)\n",
       "0   Siddhi Vinayak Temple | Mumbai, Maharashtra                0.000000\n",
       "1  Shirdi Sai Baba Temple | Shirdi, Maharashtra              184.432488\n",
       "2    Shani Shingnapur | Ahmednagar, Maharashtra              208.615647\n",
       "3            Somnath Temple | Junagadh, Gujarat              369.551338\n",
       "4      Akshardham Temple | Gandhinagar, Gujarat              459.796830\n",
       "5          Dwarkadhish Temple | Dwarka, Gujarat              537.226142\n",
       "6             Jain Temple | Ranakpur, Rajasthan              550.464049\n",
       "7            Vitthala Temple | Hampi, Karnataka              562.648882\n",
       "8        Pattabhirama Temple | Hampi, Karnataka              562.648882\n",
       "9          Virupaksha Temple | Hampi, Karnataka              562.648882"
      ]
     },
     "execution_count": 18,
     "metadata": {},
     "output_type": "execute_result"
    }
   ],
   "source": [
    "temp('DistanceFromMumbai(Km)')"
   ]
  },
  {
   "cell_type": "code",
   "execution_count": 19,
   "id": "44a8bb0b",
   "metadata": {},
   "outputs": [
    {
     "data": {
      "text/html": [
       "<div>\n",
       "<style scoped>\n",
       "    .dataframe tbody tr th:only-of-type {\n",
       "        vertical-align: middle;\n",
       "    }\n",
       "\n",
       "    .dataframe tbody tr th {\n",
       "        vertical-align: top;\n",
       "    }\n",
       "\n",
       "    .dataframe thead th {\n",
       "        text-align: right;\n",
       "    }\n",
       "</style>\n",
       "<table border=\"1\" class=\"dataframe\">\n",
       "  <thead>\n",
       "    <tr style=\"text-align: right;\">\n",
       "      <th></th>\n",
       "      <th>templeName</th>\n",
       "      <th>DistanceFromChennai(Km)</th>\n",
       "    </tr>\n",
       "  </thead>\n",
       "  <tbody>\n",
       "    <tr>\n",
       "      <th>0</th>\n",
       "      <td>Shore Temple | Mahabalipuram, Tamil Nadu</td>\n",
       "      <td>52.010385</td>\n",
       "    </tr>\n",
       "    <tr>\n",
       "      <th>1</th>\n",
       "      <td>Kailashanatha Temple | Kanchipuram, Tamil Nadu</td>\n",
       "      <td>67.117235</td>\n",
       "    </tr>\n",
       "    <tr>\n",
       "      <th>2</th>\n",
       "      <td>Tirupati Temple (Tirumala Venkateshwara) | Tir...</td>\n",
       "      <td>119.519574</td>\n",
       "    </tr>\n",
       "    <tr>\n",
       "      <th>3</th>\n",
       "      <td>Sripuram Golden Temple | Vellore, Tamil Nadu</td>\n",
       "      <td>141.417934</td>\n",
       "    </tr>\n",
       "    <tr>\n",
       "      <th>4</th>\n",
       "      <td>Thillai Nataraja Temple | Chidambaram, Tamil Nadu</td>\n",
       "      <td>196.229639</td>\n",
       "    </tr>\n",
       "    <tr>\n",
       "      <th>5</th>\n",
       "      <td>Brihadeshwara Temple | Thanjavur, Tamil Nadu</td>\n",
       "      <td>282.501204</td>\n",
       "    </tr>\n",
       "    <tr>\n",
       "      <th>6</th>\n",
       "      <td>Ranganathaswamy Temple | Srirangam, Tamil Nadu</td>\n",
       "      <td>311.612450</td>\n",
       "    </tr>\n",
       "    <tr>\n",
       "      <th>7</th>\n",
       "      <td>Chamundeshwari Temple | Mysore, Karnataka</td>\n",
       "      <td>401.956211</td>\n",
       "    </tr>\n",
       "    <tr>\n",
       "      <th>8</th>\n",
       "      <td>Meenakshi Temple | Madurai, Tamil Nadu</td>\n",
       "      <td>421.088784</td>\n",
       "    </tr>\n",
       "    <tr>\n",
       "      <th>9</th>\n",
       "      <td>Ramanathaswamy Temple | Rameshwaram, Tamil Nadu</td>\n",
       "      <td>433.071552</td>\n",
       "    </tr>\n",
       "  </tbody>\n",
       "</table>\n",
       "</div>"
      ],
      "text/plain": [
       "                                          templeName  DistanceFromChennai(Km)\n",
       "0           Shore Temple | Mahabalipuram, Tamil Nadu                52.010385\n",
       "1     Kailashanatha Temple | Kanchipuram, Tamil Nadu                67.117235\n",
       "2  Tirupati Temple (Tirumala Venkateshwara) | Tir...               119.519574\n",
       "3       Sripuram Golden Temple | Vellore, Tamil Nadu               141.417934\n",
       "4  Thillai Nataraja Temple | Chidambaram, Tamil Nadu               196.229639\n",
       "5       Brihadeshwara Temple | Thanjavur, Tamil Nadu               282.501204\n",
       "6     Ranganathaswamy Temple | Srirangam, Tamil Nadu               311.612450\n",
       "7          Chamundeshwari Temple | Mysore, Karnataka               401.956211\n",
       "8             Meenakshi Temple | Madurai, Tamil Nadu               421.088784\n",
       "9    Ramanathaswamy Temple | Rameshwaram, Tamil Nadu               433.071552"
      ]
     },
     "execution_count": 19,
     "metadata": {},
     "output_type": "execute_result"
    }
   ],
   "source": [
    "temp('DistanceFromChennai(Km)')"
   ]
  },
  {
   "cell_type": "code",
   "execution_count": 20,
   "id": "3924015a",
   "metadata": {},
   "outputs": [
    {
     "data": {
      "text/html": [
       "<div>\n",
       "<style scoped>\n",
       "    .dataframe tbody tr th:only-of-type {\n",
       "        vertical-align: middle;\n",
       "    }\n",
       "\n",
       "    .dataframe tbody tr th {\n",
       "        vertical-align: top;\n",
       "    }\n",
       "\n",
       "    .dataframe thead th {\n",
       "        text-align: right;\n",
       "    }\n",
       "</style>\n",
       "<table border=\"1\" class=\"dataframe\">\n",
       "  <thead>\n",
       "    <tr style=\"text-align: right;\">\n",
       "      <th></th>\n",
       "      <th>templeName</th>\n",
       "      <th>DistanceFromKolkata(Km)</th>\n",
       "    </tr>\n",
       "  </thead>\n",
       "  <tbody>\n",
       "    <tr>\n",
       "      <th>0</th>\n",
       "      <td>Kalighat Kali Temple | Kolkata, West Bengal</td>\n",
       "      <td>0.000000</td>\n",
       "    </tr>\n",
       "    <tr>\n",
       "      <th>1</th>\n",
       "      <td>Dakshineswar Kali Temple | Kolkata, West Bengal</td>\n",
       "      <td>0.000000</td>\n",
       "    </tr>\n",
       "    <tr>\n",
       "      <th>2</th>\n",
       "      <td>Chennakesava Temple | Belur, Karnataka</td>\n",
       "      <td>10.604555</td>\n",
       "    </tr>\n",
       "    <tr>\n",
       "      <th>3</th>\n",
       "      <td>Mukteswar Temple | Bhubaneshwar, Orissa</td>\n",
       "      <td>363.262575</td>\n",
       "    </tr>\n",
       "    <tr>\n",
       "      <th>4</th>\n",
       "      <td>Lingaraj Temple | Bhubaneshwar, Orissa</td>\n",
       "      <td>363.262575</td>\n",
       "    </tr>\n",
       "    <tr>\n",
       "      <th>5</th>\n",
       "      <td>Rajarani Temple | Bhubaneshwar, Orissa</td>\n",
       "      <td>363.262575</td>\n",
       "    </tr>\n",
       "    <tr>\n",
       "      <th>6</th>\n",
       "      <td>Jagannath Temple | Puri, Orissa</td>\n",
       "      <td>400.952315</td>\n",
       "    </tr>\n",
       "    <tr>\n",
       "      <th>7</th>\n",
       "      <td>Kamakhya Temple | Guwahati, Assam</td>\n",
       "      <td>530.247295</td>\n",
       "    </tr>\n",
       "    <tr>\n",
       "      <th>8</th>\n",
       "      <td>Kashi Vishwanath Temple | Varanasi, Uttar Pradesh</td>\n",
       "      <td>626.321884</td>\n",
       "    </tr>\n",
       "    <tr>\n",
       "      <th>9</th>\n",
       "      <td>Khajuraho Temples | Khajuraho, Madhya Pradesh</td>\n",
       "      <td>896.987576</td>\n",
       "    </tr>\n",
       "  </tbody>\n",
       "</table>\n",
       "</div>"
      ],
      "text/plain": [
       "                                          templeName  DistanceFromKolkata(Km)\n",
       "0        Kalighat Kali Temple | Kolkata, West Bengal                 0.000000\n",
       "1    Dakshineswar Kali Temple | Kolkata, West Bengal                 0.000000\n",
       "2             Chennakesava Temple | Belur, Karnataka                10.604555\n",
       "3            Mukteswar Temple | Bhubaneshwar, Orissa               363.262575\n",
       "4             Lingaraj Temple | Bhubaneshwar, Orissa               363.262575\n",
       "5             Rajarani Temple | Bhubaneshwar, Orissa               363.262575\n",
       "6                    Jagannath Temple | Puri, Orissa               400.952315\n",
       "7                  Kamakhya Temple | Guwahati, Assam               530.247295\n",
       "8  Kashi Vishwanath Temple | Varanasi, Uttar Pradesh               626.321884\n",
       "9      Khajuraho Temples | Khajuraho, Madhya Pradesh               896.987576"
      ]
     },
     "execution_count": 20,
     "metadata": {},
     "output_type": "execute_result"
    }
   ],
   "source": [
    "temp('DistanceFromKolkata(Km)')"
   ]
  }
 ],
 "metadata": {
  "kernelspec": {
   "display_name": "Python 3 (ipykernel)",
   "language": "python",
   "name": "python3"
  },
  "language_info": {
   "codemirror_mode": {
    "name": "ipython",
    "version": 3
   },
   "file_extension": ".py",
   "mimetype": "text/x-python",
   "name": "python",
   "nbconvert_exporter": "python",
   "pygments_lexer": "ipython3",
   "version": "3.8.8"
  }
 },
 "nbformat": 4,
 "nbformat_minor": 5
}
