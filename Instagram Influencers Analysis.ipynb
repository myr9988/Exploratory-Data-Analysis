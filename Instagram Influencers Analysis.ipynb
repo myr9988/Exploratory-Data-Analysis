{
 "cells": [
  {
   "cell_type": "markdown",
   "id": "72ae2e66",
   "metadata": {},
   "source": [
    "### Importing necessary Libraries & Dataset"
   ]
  },
  {
   "cell_type": "code",
   "execution_count": 1,
   "id": "afe0e201",
   "metadata": {},
   "outputs": [
    {
     "data": {
      "text/html": [
       "<div>\n",
       "<style scoped>\n",
       "    .dataframe tbody tr th:only-of-type {\n",
       "        vertical-align: middle;\n",
       "    }\n",
       "\n",
       "    .dataframe tbody tr th {\n",
       "        vertical-align: top;\n",
       "    }\n",
       "\n",
       "    .dataframe thead th {\n",
       "        text-align: right;\n",
       "    }\n",
       "</style>\n",
       "<table border=\"1\" class=\"dataframe\">\n",
       "  <thead>\n",
       "    <tr style=\"text-align: right;\">\n",
       "      <th></th>\n",
       "      <th>Influencer insta name</th>\n",
       "      <th>instagram name</th>\n",
       "      <th>category_1</th>\n",
       "      <th>category_2</th>\n",
       "      <th>Followers</th>\n",
       "      <th>Audience country(mostly)</th>\n",
       "      <th>Authentic engagement\\r\\n</th>\n",
       "      <th>Engagement avg\\r\\n</th>\n",
       "    </tr>\n",
       "  </thead>\n",
       "  <tbody>\n",
       "    <tr>\n",
       "      <th>0</th>\n",
       "      <td>433</td>\n",
       "      <td>433</td>\n",
       "      <td>Sports with a ball</td>\n",
       "      <td>NaN</td>\n",
       "      <td>48.5M</td>\n",
       "      <td>Spain</td>\n",
       "      <td>383.1K</td>\n",
       "      <td>637K</td>\n",
       "    </tr>\n",
       "    <tr>\n",
       "      <th>1</th>\n",
       "      <td>__youngbae__</td>\n",
       "      <td>TAEYANG</td>\n",
       "      <td>Music</td>\n",
       "      <td>NaN</td>\n",
       "      <td>12.7M</td>\n",
       "      <td>Indonesia</td>\n",
       "      <td>478K</td>\n",
       "      <td>542.3K</td>\n",
       "    </tr>\n",
       "    <tr>\n",
       "      <th>2</th>\n",
       "      <td>_agentgirl_</td>\n",
       "      <td>НАСТЯ ИВЛЕЕВА</td>\n",
       "      <td>Shows</td>\n",
       "      <td>NaN</td>\n",
       "      <td>18.8M</td>\n",
       "      <td>Russia</td>\n",
       "      <td>310.8K</td>\n",
       "      <td>377.9K</td>\n",
       "    </tr>\n",
       "    <tr>\n",
       "      <th>3</th>\n",
       "      <td>_imyour_joy</td>\n",
       "      <td>Joy</td>\n",
       "      <td>Lifestyle</td>\n",
       "      <td>NaN</td>\n",
       "      <td>13.5M</td>\n",
       "      <td>Indonesia</td>\n",
       "      <td>1.1M</td>\n",
       "      <td>1.4M</td>\n",
       "    </tr>\n",
       "    <tr>\n",
       "      <th>4</th>\n",
       "      <td>_jeongjaehyun</td>\n",
       "      <td>Jaehyun</td>\n",
       "      <td>NaN</td>\n",
       "      <td>NaN</td>\n",
       "      <td>11.1M</td>\n",
       "      <td>Indonesia</td>\n",
       "      <td>2.5M</td>\n",
       "      <td>3.1M</td>\n",
       "    </tr>\n",
       "  </tbody>\n",
       "</table>\n",
       "</div>"
      ],
      "text/plain": [
       "  Influencer insta name instagram name          category_1 category_2  \\\n",
       "0                   433            433  Sports with a ball        NaN   \n",
       "1          __youngbae__        TAEYANG               Music        NaN   \n",
       "2           _agentgirl_  НАСТЯ ИВЛЕЕВА               Shows        NaN   \n",
       "3           _imyour_joy            Joy           Lifestyle        NaN   \n",
       "4         _jeongjaehyun        Jaehyun                 NaN        NaN   \n",
       "\n",
       "  Followers Audience country(mostly) Authentic engagement\\r\\n  \\\n",
       "0     48.5M                    Spain                   383.1K   \n",
       "1     12.7M                Indonesia                     478K   \n",
       "2     18.8M                   Russia                   310.8K   \n",
       "3     13.5M                Indonesia                     1.1M   \n",
       "4     11.1M                Indonesia                     2.5M   \n",
       "\n",
       "  Engagement avg\\r\\n  \n",
       "0               637K  \n",
       "1             542.3K  \n",
       "2             377.9K  \n",
       "3               1.4M  \n",
       "4               3.1M  "
      ]
     },
     "execution_count": 1,
     "metadata": {},
     "output_type": "execute_result"
    }
   ],
   "source": [
    "import numpy as np\n",
    "import pandas as pd\n",
    "import seaborn as sns\n",
    "import matplotlib.pyplot as plt\n",
    "import warnings\n",
    "warnings.filterwarnings('ignore')\n",
    "\n",
    "insta_data = pd.read_csv(r'C:\\Users\\SHREE\\Downloads\\Python CODES\\Instagram Influencers Analysis\\instagram.csv')\n",
    "insta_data.head()"
   ]
  },
  {
   "cell_type": "markdown",
   "id": "878923bd",
   "metadata": {},
   "source": [
    "### Exploratory Data Analysis"
   ]
  },
  {
   "cell_type": "code",
   "execution_count": 2,
   "id": "db941ec7",
   "metadata": {},
   "outputs": [
    {
     "data": {
      "text/plain": [
       "(1000, 8)"
      ]
     },
     "execution_count": 2,
     "metadata": {},
     "output_type": "execute_result"
    }
   ],
   "source": [
    "insta_data.shape"
   ]
  },
  {
   "cell_type": "code",
   "execution_count": 3,
   "id": "bc235900",
   "metadata": {},
   "outputs": [
    {
     "data": {
      "text/plain": [
       "Index(['Influencer insta name', 'instagram name', 'category_1', 'category_2',\n",
       "       'Followers', 'Audience country(mostly)', 'Authentic engagement\\r\\n',\n",
       "       'Engagement avg\\r\\n'],\n",
       "      dtype='object')"
      ]
     },
     "execution_count": 3,
     "metadata": {},
     "output_type": "execute_result"
    }
   ],
   "source": [
    "insta_data.columns"
   ]
  },
  {
   "cell_type": "code",
   "execution_count": 4,
   "id": "22dc3d6c",
   "metadata": {},
   "outputs": [
    {
     "name": "stdout",
     "output_type": "stream",
     "text": [
      "<class 'pandas.core.frame.DataFrame'>\n",
      "RangeIndex: 1000 entries, 0 to 999\n",
      "Data columns (total 8 columns):\n",
      " #   Column                    Non-Null Count  Dtype \n",
      "---  ------                    --------------  ----- \n",
      " 0   Influencer insta name     1000 non-null   object\n",
      " 1   instagram name            979 non-null    object\n",
      " 2   category_1                892 non-null    object\n",
      " 3   category_2                287 non-null    object\n",
      " 4   Followers                 1000 non-null   object\n",
      " 5   Audience country(mostly)  986 non-null    object\n",
      " 6   Authentic engagement\r\n",
      "    1000 non-null   object\n",
      " 7   Engagement avg\r\n",
      "          1000 non-null   object\n",
      "dtypes: object(8)\n",
      "memory usage: 62.6+ KB\n"
     ]
    }
   ],
   "source": [
    "insta_data.info()"
   ]
  },
  {
   "cell_type": "code",
   "execution_count": 5,
   "id": "5147e8d2",
   "metadata": {},
   "outputs": [
    {
     "data": {
      "text/html": [
       "<div>\n",
       "<style scoped>\n",
       "    .dataframe tbody tr th:only-of-type {\n",
       "        vertical-align: middle;\n",
       "    }\n",
       "\n",
       "    .dataframe tbody tr th {\n",
       "        vertical-align: top;\n",
       "    }\n",
       "\n",
       "    .dataframe thead th {\n",
       "        text-align: right;\n",
       "    }\n",
       "</style>\n",
       "<table border=\"1\" class=\"dataframe\">\n",
       "  <thead>\n",
       "    <tr style=\"text-align: right;\">\n",
       "      <th></th>\n",
       "      <th>count</th>\n",
       "      <th>unique</th>\n",
       "      <th>top</th>\n",
       "      <th>freq</th>\n",
       "    </tr>\n",
       "  </thead>\n",
       "  <tbody>\n",
       "    <tr>\n",
       "      <th>Influencer insta name</th>\n",
       "      <td>1000</td>\n",
       "      <td>997</td>\n",
       "      <td>angelinajolie</td>\n",
       "      <td>2</td>\n",
       "    </tr>\n",
       "    <tr>\n",
       "      <th>instagram name</th>\n",
       "      <td>979</td>\n",
       "      <td>975</td>\n",
       "      <td>Bruno Goes 🎭</td>\n",
       "      <td>2</td>\n",
       "    </tr>\n",
       "    <tr>\n",
       "      <th>category_1</th>\n",
       "      <td>892</td>\n",
       "      <td>31</td>\n",
       "      <td>Music</td>\n",
       "      <td>235</td>\n",
       "    </tr>\n",
       "    <tr>\n",
       "      <th>category_2</th>\n",
       "      <td>287</td>\n",
       "      <td>27</td>\n",
       "      <td>Cinema &amp; Actors/actresses</td>\n",
       "      <td>59</td>\n",
       "    </tr>\n",
       "    <tr>\n",
       "      <th>Followers</th>\n",
       "      <td>1000</td>\n",
       "      <td>411</td>\n",
       "      <td>6M</td>\n",
       "      <td>11</td>\n",
       "    </tr>\n",
       "    <tr>\n",
       "      <th>Audience country(mostly)</th>\n",
       "      <td>986</td>\n",
       "      <td>32</td>\n",
       "      <td>United States</td>\n",
       "      <td>279</td>\n",
       "    </tr>\n",
       "    <tr>\n",
       "      <th>Authentic engagement\\r\\n</th>\n",
       "      <td>1000</td>\n",
       "      <td>850</td>\n",
       "      <td>1.1M</td>\n",
       "      <td>22</td>\n",
       "    </tr>\n",
       "    <tr>\n",
       "      <th>Engagement avg\\r\\n</th>\n",
       "      <td>1000</td>\n",
       "      <td>778</td>\n",
       "      <td>1.1M</td>\n",
       "      <td>28</td>\n",
       "    </tr>\n",
       "  </tbody>\n",
       "</table>\n",
       "</div>"
      ],
      "text/plain": [
       "                         count unique                        top freq\n",
       "Influencer insta name     1000    997              angelinajolie    2\n",
       "instagram name             979    975               Bruno Goes 🎭    2\n",
       "category_1                 892     31                      Music  235\n",
       "category_2                 287     27  Cinema & Actors/actresses   59\n",
       "Followers                 1000    411                         6M   11\n",
       "Audience country(mostly)   986     32              United States  279\n",
       "Authentic engagement\\r\\n  1000    850                       1.1M   22\n",
       "Engagement avg\\r\\n        1000    778                       1.1M   28"
      ]
     },
     "execution_count": 5,
     "metadata": {},
     "output_type": "execute_result"
    }
   ],
   "source": [
    "insta_data.describe().T"
   ]
  },
  {
   "cell_type": "code",
   "execution_count": 6,
   "id": "3b7676ef",
   "metadata": {},
   "outputs": [
    {
     "data": {
      "text/plain": [
       "Influencer insta name         0\n",
       "instagram name               21\n",
       "category_1                  108\n",
       "category_2                  713\n",
       "Followers                     0\n",
       "Audience country(mostly)     14\n",
       "Authentic engagement\\r\\n      0\n",
       "Engagement avg\\r\\n            0\n",
       "dtype: int64"
      ]
     },
     "execution_count": 6,
     "metadata": {},
     "output_type": "execute_result"
    }
   ],
   "source": [
    "insta_data.isnull().sum()"
   ]
  },
  {
   "cell_type": "markdown",
   "id": "48151b88",
   "metadata": {},
   "source": [
    "### Data Preprocessing"
   ]
  },
  {
   "cell_type": "code",
   "execution_count": 7,
   "id": "407cd22d",
   "metadata": {},
   "outputs": [],
   "source": [
    "insta_data.drop_duplicates(subset=['Influencer insta name'],inplace=True)"
   ]
  },
  {
   "cell_type": "code",
   "execution_count": 8,
   "id": "5d3d31a8",
   "metadata": {},
   "outputs": [],
   "source": [
    "insta_data.rename({'category_1':'Category','Audience country(mostly)':'Audience Country'}, axis=1,inplace=True)\n",
    "insta_data.rename({'Subscribers':'Followers',},axis=1,inplace=True)"
   ]
  },
  {
   "cell_type": "code",
   "execution_count": 9,
   "id": "3ca1c70b",
   "metadata": {},
   "outputs": [],
   "source": [
    "insta_data = insta_data.drop(['Influencer insta name','Authentic engagement\\r\\n'],axis=1)"
   ]
  },
  {
   "cell_type": "code",
   "execution_count": 10,
   "id": "b17da3e3",
   "metadata": {},
   "outputs": [
    {
     "data": {
      "text/html": [
       "<div>\n",
       "<style scoped>\n",
       "    .dataframe tbody tr th:only-of-type {\n",
       "        vertical-align: middle;\n",
       "    }\n",
       "\n",
       "    .dataframe tbody tr th {\n",
       "        vertical-align: top;\n",
       "    }\n",
       "\n",
       "    .dataframe thead th {\n",
       "        text-align: right;\n",
       "    }\n",
       "</style>\n",
       "<table border=\"1\" class=\"dataframe\">\n",
       "  <thead>\n",
       "    <tr style=\"text-align: right;\">\n",
       "      <th></th>\n",
       "      <th>instagram name</th>\n",
       "      <th>Category</th>\n",
       "      <th>category_2</th>\n",
       "      <th>Followers</th>\n",
       "      <th>Audience Country</th>\n",
       "      <th>Engagement avg\\r\\n</th>\n",
       "    </tr>\n",
       "  </thead>\n",
       "  <tbody>\n",
       "    <tr>\n",
       "      <th>0</th>\n",
       "      <td>433</td>\n",
       "      <td>Sports with a ball</td>\n",
       "      <td>NaN</td>\n",
       "      <td>48.5M</td>\n",
       "      <td>Spain</td>\n",
       "      <td>637K</td>\n",
       "    </tr>\n",
       "    <tr>\n",
       "      <th>1</th>\n",
       "      <td>TAEYANG</td>\n",
       "      <td>Music</td>\n",
       "      <td>NaN</td>\n",
       "      <td>12.7M</td>\n",
       "      <td>Indonesia</td>\n",
       "      <td>542.3K</td>\n",
       "    </tr>\n",
       "    <tr>\n",
       "      <th>2</th>\n",
       "      <td>НАСТЯ ИВЛЕЕВА</td>\n",
       "      <td>Shows</td>\n",
       "      <td>NaN</td>\n",
       "      <td>18.8M</td>\n",
       "      <td>Russia</td>\n",
       "      <td>377.9K</td>\n",
       "    </tr>\n",
       "    <tr>\n",
       "      <th>3</th>\n",
       "      <td>Joy</td>\n",
       "      <td>Lifestyle</td>\n",
       "      <td>NaN</td>\n",
       "      <td>13.5M</td>\n",
       "      <td>Indonesia</td>\n",
       "      <td>1.4M</td>\n",
       "    </tr>\n",
       "    <tr>\n",
       "      <th>4</th>\n",
       "      <td>Jaehyun</td>\n",
       "      <td>NaN</td>\n",
       "      <td>NaN</td>\n",
       "      <td>11.1M</td>\n",
       "      <td>Indonesia</td>\n",
       "      <td>3.1M</td>\n",
       "    </tr>\n",
       "  </tbody>\n",
       "</table>\n",
       "</div>"
      ],
      "text/plain": [
       "  instagram name            Category category_2 Followers Audience Country  \\\n",
       "0            433  Sports with a ball        NaN     48.5M            Spain   \n",
       "1        TAEYANG               Music        NaN     12.7M        Indonesia   \n",
       "2  НАСТЯ ИВЛЕЕВА               Shows        NaN     18.8M           Russia   \n",
       "3            Joy           Lifestyle        NaN     13.5M        Indonesia   \n",
       "4        Jaehyun                 NaN        NaN     11.1M        Indonesia   \n",
       "\n",
       "  Engagement avg\\r\\n  \n",
       "0               637K  \n",
       "1             542.3K  \n",
       "2             377.9K  \n",
       "3               1.4M  \n",
       "4               3.1M  "
      ]
     },
     "execution_count": 10,
     "metadata": {},
     "output_type": "execute_result"
    }
   ],
   "source": [
    "insta_data.head()"
   ]
  },
  {
   "cell_type": "code",
   "execution_count": 11,
   "id": "46a7003b",
   "metadata": {},
   "outputs": [],
   "source": [
    "insta =['Followers','Engagement avg\\r\\n']"
   ]
  },
  {
   "cell_type": "code",
   "execution_count": 12,
   "id": "44e467b2",
   "metadata": {},
   "outputs": [],
   "source": [
    "import re"
   ]
  },
  {
   "cell_type": "code",
   "execution_count": 13,
   "id": "a8b7eb12",
   "metadata": {},
   "outputs": [],
   "source": [
    "def convert(x):\n",
    "    return re.findall('\\d+\\.?\\d*',x)"
   ]
  },
  {
   "cell_type": "code",
   "execution_count": 14,
   "id": "9edfed16",
   "metadata": {},
   "outputs": [],
   "source": [
    "def update(data,data_update):\n",
    "    for i in data_update:\n",
    "        data['new'+i]=data[i].apply(convert)\n",
    "        data['new'+i]=data['new'+i].apply(lambda x: \"\".join(x))\n",
    "        data['new'+i]=pd.to_numeric(data['new'+i])\n",
    "        data['new'+i]=np.where(['M' in j for j in data[i]],data['new'+i]*1000000,\n",
    "                               np.where(['K' in j1 for j1 in data[i]],data['new'+i]*1000,data['new'+i]))\n",
    "    return data"
   ]
  },
  {
   "cell_type": "code",
   "execution_count": 15,
   "id": "a59aa126",
   "metadata": {},
   "outputs": [
    {
     "data": {
      "text/html": [
       "<div>\n",
       "<style scoped>\n",
       "    .dataframe tbody tr th:only-of-type {\n",
       "        vertical-align: middle;\n",
       "    }\n",
       "\n",
       "    .dataframe tbody tr th {\n",
       "        vertical-align: top;\n",
       "    }\n",
       "\n",
       "    .dataframe thead th {\n",
       "        text-align: right;\n",
       "    }\n",
       "</style>\n",
       "<table border=\"1\" class=\"dataframe\">\n",
       "  <thead>\n",
       "    <tr style=\"text-align: right;\">\n",
       "      <th></th>\n",
       "      <th>instagram name</th>\n",
       "      <th>Category</th>\n",
       "      <th>category_2</th>\n",
       "      <th>Followers</th>\n",
       "      <th>Audience Country</th>\n",
       "      <th>Engagement avg\\r\\n</th>\n",
       "      <th>newFollowers</th>\n",
       "      <th>newEngagement avg\\r\\n</th>\n",
       "    </tr>\n",
       "  </thead>\n",
       "  <tbody>\n",
       "    <tr>\n",
       "      <th>0</th>\n",
       "      <td>433</td>\n",
       "      <td>Sports with a ball</td>\n",
       "      <td>NaN</td>\n",
       "      <td>48.5M</td>\n",
       "      <td>Spain</td>\n",
       "      <td>637K</td>\n",
       "      <td>48500000.0</td>\n",
       "      <td>637000.0</td>\n",
       "    </tr>\n",
       "    <tr>\n",
       "      <th>1</th>\n",
       "      <td>TAEYANG</td>\n",
       "      <td>Music</td>\n",
       "      <td>NaN</td>\n",
       "      <td>12.7M</td>\n",
       "      <td>Indonesia</td>\n",
       "      <td>542.3K</td>\n",
       "      <td>12700000.0</td>\n",
       "      <td>542300.0</td>\n",
       "    </tr>\n",
       "    <tr>\n",
       "      <th>2</th>\n",
       "      <td>НАСТЯ ИВЛЕЕВА</td>\n",
       "      <td>Shows</td>\n",
       "      <td>NaN</td>\n",
       "      <td>18.8M</td>\n",
       "      <td>Russia</td>\n",
       "      <td>377.9K</td>\n",
       "      <td>18800000.0</td>\n",
       "      <td>377900.0</td>\n",
       "    </tr>\n",
       "    <tr>\n",
       "      <th>3</th>\n",
       "      <td>Joy</td>\n",
       "      <td>Lifestyle</td>\n",
       "      <td>NaN</td>\n",
       "      <td>13.5M</td>\n",
       "      <td>Indonesia</td>\n",
       "      <td>1.4M</td>\n",
       "      <td>13500000.0</td>\n",
       "      <td>1400000.0</td>\n",
       "    </tr>\n",
       "    <tr>\n",
       "      <th>4</th>\n",
       "      <td>Jaehyun</td>\n",
       "      <td>NaN</td>\n",
       "      <td>NaN</td>\n",
       "      <td>11.1M</td>\n",
       "      <td>Indonesia</td>\n",
       "      <td>3.1M</td>\n",
       "      <td>11100000.0</td>\n",
       "      <td>3100000.0</td>\n",
       "    </tr>\n",
       "    <tr>\n",
       "      <th>...</th>\n",
       "      <td>...</td>\n",
       "      <td>...</td>\n",
       "      <td>...</td>\n",
       "      <td>...</td>\n",
       "      <td>...</td>\n",
       "      <td>...</td>\n",
       "      <td>...</td>\n",
       "      <td>...</td>\n",
       "    </tr>\n",
       "    <tr>\n",
       "      <th>995</th>\n",
       "      <td>Zendaya</td>\n",
       "      <td>Cinema &amp; Actors/actresses</td>\n",
       "      <td>Fashion</td>\n",
       "      <td>136.1M</td>\n",
       "      <td>United States</td>\n",
       "      <td>8.6M</td>\n",
       "      <td>136100000.0</td>\n",
       "      <td>8600000.0</td>\n",
       "    </tr>\n",
       "    <tr>\n",
       "      <th>996</th>\n",
       "      <td>zidane</td>\n",
       "      <td>Sports with a ball</td>\n",
       "      <td>NaN</td>\n",
       "      <td>31.2M</td>\n",
       "      <td>Spain</td>\n",
       "      <td>744.1K</td>\n",
       "      <td>31200000.0</td>\n",
       "      <td>744100.0</td>\n",
       "    </tr>\n",
       "    <tr>\n",
       "      <th>997</th>\n",
       "      <td>KAI</td>\n",
       "      <td>Music</td>\n",
       "      <td>NaN</td>\n",
       "      <td>13.9M</td>\n",
       "      <td>Indonesia</td>\n",
       "      <td>1.6M</td>\n",
       "      <td>13900000.0</td>\n",
       "      <td>1600000.0</td>\n",
       "    </tr>\n",
       "    <tr>\n",
       "      <th>998</th>\n",
       "      <td>Zoë Kravitz</td>\n",
       "      <td>Cinema &amp; Actors/actresses</td>\n",
       "      <td>NaN</td>\n",
       "      <td>8.2M</td>\n",
       "      <td>United States</td>\n",
       "      <td>885.5K</td>\n",
       "      <td>8200000.0</td>\n",
       "      <td>885500.0</td>\n",
       "    </tr>\n",
       "    <tr>\n",
       "      <th>999</th>\n",
       "      <td>Zoë Sugg</td>\n",
       "      <td>Lifestyle</td>\n",
       "      <td>Business &amp; Careers</td>\n",
       "      <td>9.4M</td>\n",
       "      <td>United Kingdom</td>\n",
       "      <td>289.3K</td>\n",
       "      <td>9400000.0</td>\n",
       "      <td>289300.0</td>\n",
       "    </tr>\n",
       "  </tbody>\n",
       "</table>\n",
       "<p>997 rows × 8 columns</p>\n",
       "</div>"
      ],
      "text/plain": [
       "    instagram name                   Category          category_2 Followers  \\\n",
       "0              433         Sports with a ball                 NaN     48.5M   \n",
       "1          TAEYANG                      Music                 NaN     12.7M   \n",
       "2    НАСТЯ ИВЛЕЕВА                      Shows                 NaN     18.8M   \n",
       "3              Joy                  Lifestyle                 NaN     13.5M   \n",
       "4          Jaehyun                        NaN                 NaN     11.1M   \n",
       "..             ...                        ...                 ...       ...   \n",
       "995        Zendaya  Cinema & Actors/actresses             Fashion    136.1M   \n",
       "996         zidane         Sports with a ball                 NaN     31.2M   \n",
       "997            KAI                      Music                 NaN     13.9M   \n",
       "998   Zoë Kravitz  Cinema & Actors/actresses                 NaN      8.2M   \n",
       "999      Zoë Sugg                  Lifestyle  Business & Careers      9.4M   \n",
       "\n",
       "    Audience Country Engagement avg\\r\\n  newFollowers  newEngagement avg\\r\\n  \n",
       "0              Spain               637K    48500000.0               637000.0  \n",
       "1          Indonesia             542.3K    12700000.0               542300.0  \n",
       "2             Russia             377.9K    18800000.0               377900.0  \n",
       "3          Indonesia               1.4M    13500000.0              1400000.0  \n",
       "4          Indonesia               3.1M    11100000.0              3100000.0  \n",
       "..               ...                ...           ...                    ...  \n",
       "995    United States               8.6M   136100000.0              8600000.0  \n",
       "996            Spain             744.1K    31200000.0               744100.0  \n",
       "997        Indonesia               1.6M    13900000.0              1600000.0  \n",
       "998    United States             885.5K     8200000.0               885500.0  \n",
       "999   United Kingdom             289.3K     9400000.0               289300.0  \n",
       "\n",
       "[997 rows x 8 columns]"
      ]
     },
     "execution_count": 15,
     "metadata": {},
     "output_type": "execute_result"
    }
   ],
   "source": [
    "update(insta_data,insta)"
   ]
  },
  {
   "cell_type": "markdown",
   "id": "84f13e5c",
   "metadata": {},
   "source": [
    "#### Engagement rate : the Percentage of Followers who really engages with the content posted by Influencers\n",
    "Why ER is so Important?\n",
    "1) good ER means your content is making an impact on audience(they really like you)\n",
    "\n",
    "2) The higher the engagement ,the more likely it is that the content will be boosted in the newsfeed and attracting more eyes."
   ]
  },
  {
   "cell_type": "code",
   "execution_count": 16,
   "id": "29df99c4",
   "metadata": {},
   "outputs": [],
   "source": [
    "insta_data['Engagement Rate']=np.round((insta_data['newEngagement avg\\r\\n']/insta_data['newFollowers'])*100,3)"
   ]
  },
  {
   "cell_type": "code",
   "execution_count": 17,
   "id": "d2bf17e4",
   "metadata": {},
   "outputs": [
    {
     "data": {
      "text/plain": [
       "array(['48.5M', '12.7M', '18.8M', '13.5M', '11.1M', '7.9M', '25M', '3M',\n",
       "       '4.9M', '4.1M', '13.2M', '6.5M', '19.8M', '27.9M', '58.3M',\n",
       "       '17.2M', '7.2M', '8.8M', '28.9M', '8.2M', '13.6M', '40.5M',\n",
       "       '49.7M', '34.2M', '2.6M', '8.3M', '31.5M', '10M', '12M', '61.1M',\n",
       "       '5.1M', '10.8M', '22.4M', '13.4M', '15.8M', '21.1M', '61.8M', '8M',\n",
       "       '9.1M', '6.8M', '17.6M', '27M', '16.2M', '12.4M', '9.2M', '5.6M',\n",
       "       '8.1M', '24.1M', '15.2M', '6.7M', '30M', '6.3M', '6.1M', '21.9M',\n",
       "       '5.5M', '7.7M', '39M', '16.3M', '12.6M', '13.9M', '14.9M', '20.3M',\n",
       "       '17.8M', '22.6M', '35.5M', '19M', '11.4M', '34.5M', '57.5M',\n",
       "       '10.7M', '8.5M', '27.4M', '13M', '302.3M', '9.7M', '28M', '9.5M',\n",
       "       '21.5M', '6.6M', '14.6M', '13.3M', '21.4M', '23.1M', '14.1M',\n",
       "       '25.3M', '30.5M', '38.5M', '125.1M', '10.4M', '16M', '35.4M',\n",
       "       '20.2M', '7.1M', '50.7M', '50.6M', '14.3M', '25.2M', '16.8M',\n",
       "       '246.9M', '16.4M', '14.2M', '17.7M', '7.8M', '101.7M', '11.5M',\n",
       "       '46.2M', '32M', '18.4M', '33.1M', '3.4M', '18.2M', '23.7M',\n",
       "       '22.1M', '18.3M', '11.9M', '5.8M', '40.2M', '42.6M', '24.9M',\n",
       "       '7.5M', '61.7M', '16.1M', '9M', '20.5M', '9.4M', '18.6M', '23M',\n",
       "       '60.9M', '26.4M', '26.8M', '12.8M', '9.3M', '43.3M', '24.8M',\n",
       "       '15M', '14M', '9.8M', '8.9M', '91.4M', '17M', '47.7M', '15.7M',\n",
       "       '33.2M', '26.7M', '20.1M', '106M', '14.8M', '54M', '37.4M',\n",
       "       '31.3M', '3.2M', '7.4M', '6.4M', '15.4M', '5M', '36M', '5.7M',\n",
       "       '12.1M', '419.6M', '19.2M', '32.9M', '4.3M', '12.9M', '44.9M',\n",
       "       '20.6M', '32.8M', '35.7M', '4.8M', '33.5M', '13.7M', '71.9M',\n",
       "       '21.2M', '23.3M', '15.9M', '128.7M', '10.1M', '6M', '16.7M',\n",
       "       '65.5M', '4.5M', '4.2M', '49.6M', '18.9M', '25.1M', '6.2M',\n",
       "       '25.8M', '5.9M', '3.7M', '14.7M', '46.4M', '10.2M', '81.6M',\n",
       "       '7.3M', '11M', '22.7M', '10.3M', '18.1M', '29.6M', '35.6M',\n",
       "       '15.3M', '29M', '9.6M', '7M', '107.1M', '31.8M', '21M', '25.5M',\n",
       "       '3.6M', '26.1M', '10.6M', '24.5M', '16.6M', '77M', '46.3M', '3.1M',\n",
       "       '36.5M', '19.3M', '22.2M', '12.3M', '73.2M', '20.4M', '47.9M',\n",
       "       '42.9M', '2.7M', '42.2M', '27.3M', '18.7M', '10.5M', '19.7M',\n",
       "       '32.7M', '41.9M', '11.8M', '11.3M', '31.2M', '127.2M', '28.6M',\n",
       "       '52.9M', '22.5M', '23.9M', '4M', '29.4M', '487.2M', '17.9M',\n",
       "       '27.8M', '5.3M', '59.3M', '19.4M', '14.5M', '19.5M', '49.1M',\n",
       "       '41.2M', '51.9M', '64.8M', '12.5M', '40.1M', '11.7M', '21.3M',\n",
       "       '200.8M', '15.5M', '19.1M', '21.7M', '45.8M', '3.5M', '4.7M',\n",
       "       '12.2M', '30.2M', '33.7M', '9.9M', '35.8M', '227M', '64.2M',\n",
       "       '5.2M', '68.9M', '39.8M', '47.4M', '50.8M', '23.8M', '25.7M',\n",
       "       '62.9M', '156.6M', '227.4M', '140.2M', '33.3M', '73.9M', '230.2M',\n",
       "       '33.9M', '296.4M', '11.6M', '116.6M', '8.7M', '166.4M', '46.6M',\n",
       "       '47.3M', '11.2M', '323.3M', '75.7M', '31.6M', '10.9M', '44.8M',\n",
       "       '315.4M', '52.8M', '26.5M', '27.5M', '8.4M', '26.9M', '36.7M',\n",
       "       '19.6M', '16.9M', '24.3M', '28.2M', '31.7M', '43M', '21.6M',\n",
       "       '8.6M', '24M', '30.6M', '42M', '61.6M', '56.5M', '53M', '19.9M',\n",
       "       '29.2M', '15.6M', '62.7M', '36.1M', '35.3M', '27.7M', '163.8M',\n",
       "       '48.2M', '3.3M', '26.6M', '4.6M', '4.4M', '49M', '18M', '32.4M',\n",
       "       '66.5M', '75.3M', '6.9M', '37.5M', '214.6M', '45.4M', '65.8M',\n",
       "       '68.5M', '29.5M', '29.9M', '172M', '181.6M', '32.3M', '42.7M',\n",
       "       '208.9M', '44.3M', '38.6M', '43.5M', '5.4M', '22.9M', '33.6M',\n",
       "       '35.2M', '7.6M', '22.3M', '55.4M', '58M', '20.8M', '22.8M',\n",
       "       '60.6M', '30.4M', '38.9M', '17.5M', '113M', '27.6M', '30.3M',\n",
       "       '13.8M', '65.1M', '37.9M', '27.1M', '20.9M', '39.7M', '30.8M',\n",
       "       '13.1M', '29.3M', '308.2M', '67.4M', '32.6M', '70.5M', '71.8M',\n",
       "       '31.9M', '58.6M', '41.1M', '51.5M', '22M', '52.1M', '204.7M',\n",
       "       '37.7M', '116.8M', '45M', '307M', '38.1M', '33.8M', '17.4M',\n",
       "       '24.6M', '32.2M', '42.4M', '40.9M', '21.8M', '79M', '188.1M',\n",
       "       '57.9M', '62.4M', '3.8M', '17.1M', '136.1M'], dtype=object)"
      ]
     },
     "execution_count": 17,
     "metadata": {},
     "output_type": "execute_result"
    }
   ],
   "source": [
    "insta_data['Followers'].unique()"
   ]
  },
  {
   "cell_type": "code",
   "execution_count": 18,
   "id": "2711be68",
   "metadata": {},
   "outputs": [
    {
     "data": {
      "text/plain": [
       "6M        11\n",
       "9.7M      10\n",
       "13.9M      9\n",
       "5.5M       9\n",
       "8.2M       9\n",
       "          ..\n",
       "41.2M      1\n",
       "64.8M      1\n",
       "40.1M      1\n",
       "21.3M      1\n",
       "136.1M     1\n",
       "Name: Followers, Length: 411, dtype: int64"
      ]
     },
     "execution_count": 18,
     "metadata": {},
     "output_type": "execute_result"
    }
   ],
   "source": [
    "insta_data['Followers'].value_counts()"
   ]
  },
  {
   "cell_type": "code",
   "execution_count": 19,
   "id": "cc3905d1",
   "metadata": {},
   "outputs": [
    {
     "data": {
      "text/plain": [
       "array(['M'], dtype=object)"
      ]
     },
     "execution_count": 19,
     "metadata": {},
     "output_type": "execute_result"
    }
   ],
   "source": [
    "insta_data['Followers'].str[-1].unique()\n"
   ]
  },
  {
   "cell_type": "code",
   "execution_count": 20,
   "id": "c51da548",
   "metadata": {},
   "outputs": [],
   "source": [
    "insta_data['newFollowers']=insta_data['newFollowers']/1000000"
   ]
  },
  {
   "cell_type": "code",
   "execution_count": 21,
   "id": "cbeb7879",
   "metadata": {},
   "outputs": [],
   "source": [
    "insta_data = insta_data.drop(['Engagement avg\\r\\n','newEngagement avg\\r\\n'],axis=1)"
   ]
  },
  {
   "cell_type": "code",
   "execution_count": 22,
   "id": "280884ed",
   "metadata": {},
   "outputs": [],
   "source": [
    "insta_data = insta_data.drop(['category_2'],axis=1)"
   ]
  },
  {
   "cell_type": "code",
   "execution_count": 23,
   "id": "ed14f2bf",
   "metadata": {},
   "outputs": [
    {
     "data": {
      "text/html": [
       "<div>\n",
       "<style scoped>\n",
       "    .dataframe tbody tr th:only-of-type {\n",
       "        vertical-align: middle;\n",
       "    }\n",
       "\n",
       "    .dataframe tbody tr th {\n",
       "        vertical-align: top;\n",
       "    }\n",
       "\n",
       "    .dataframe thead th {\n",
       "        text-align: right;\n",
       "    }\n",
       "</style>\n",
       "<table border=\"1\" class=\"dataframe\">\n",
       "  <thead>\n",
       "    <tr style=\"text-align: right;\">\n",
       "      <th></th>\n",
       "      <th>instagram name</th>\n",
       "      <th>Category</th>\n",
       "      <th>Followers</th>\n",
       "      <th>Audience Country</th>\n",
       "      <th>newFollowers</th>\n",
       "      <th>Engagement Rate</th>\n",
       "    </tr>\n",
       "  </thead>\n",
       "  <tbody>\n",
       "    <tr>\n",
       "      <th>0</th>\n",
       "      <td>433</td>\n",
       "      <td>Sports with a ball</td>\n",
       "      <td>48.5M</td>\n",
       "      <td>Spain</td>\n",
       "      <td>48.5</td>\n",
       "      <td>1.313</td>\n",
       "    </tr>\n",
       "    <tr>\n",
       "      <th>1</th>\n",
       "      <td>TAEYANG</td>\n",
       "      <td>Music</td>\n",
       "      <td>12.7M</td>\n",
       "      <td>Indonesia</td>\n",
       "      <td>12.7</td>\n",
       "      <td>4.270</td>\n",
       "    </tr>\n",
       "    <tr>\n",
       "      <th>2</th>\n",
       "      <td>НАСТЯ ИВЛЕЕВА</td>\n",
       "      <td>Shows</td>\n",
       "      <td>18.8M</td>\n",
       "      <td>Russia</td>\n",
       "      <td>18.8</td>\n",
       "      <td>2.010</td>\n",
       "    </tr>\n",
       "    <tr>\n",
       "      <th>3</th>\n",
       "      <td>Joy</td>\n",
       "      <td>Lifestyle</td>\n",
       "      <td>13.5M</td>\n",
       "      <td>Indonesia</td>\n",
       "      <td>13.5</td>\n",
       "      <td>10.370</td>\n",
       "    </tr>\n",
       "    <tr>\n",
       "      <th>4</th>\n",
       "      <td>Jaehyun</td>\n",
       "      <td>NaN</td>\n",
       "      <td>11.1M</td>\n",
       "      <td>Indonesia</td>\n",
       "      <td>11.1</td>\n",
       "      <td>27.928</td>\n",
       "    </tr>\n",
       "  </tbody>\n",
       "</table>\n",
       "</div>"
      ],
      "text/plain": [
       "  instagram name            Category Followers Audience Country  newFollowers  \\\n",
       "0            433  Sports with a ball     48.5M            Spain          48.5   \n",
       "1        TAEYANG               Music     12.7M        Indonesia          12.7   \n",
       "2  НАСТЯ ИВЛЕЕВА               Shows     18.8M           Russia          18.8   \n",
       "3            Joy           Lifestyle     13.5M        Indonesia          13.5   \n",
       "4        Jaehyun                 NaN     11.1M        Indonesia          11.1   \n",
       "\n",
       "   Engagement Rate  \n",
       "0            1.313  \n",
       "1            4.270  \n",
       "2            2.010  \n",
       "3           10.370  \n",
       "4           27.928  "
      ]
     },
     "execution_count": 23,
     "metadata": {},
     "output_type": "execute_result"
    }
   ],
   "source": [
    "insta_data.head()"
   ]
  },
  {
   "cell_type": "code",
   "execution_count": 24,
   "id": "5ce988d2",
   "metadata": {},
   "outputs": [
    {
     "data": {
      "text/html": [
       "<div>\n",
       "<style scoped>\n",
       "    .dataframe tbody tr th:only-of-type {\n",
       "        vertical-align: middle;\n",
       "    }\n",
       "\n",
       "    .dataframe tbody tr th {\n",
       "        vertical-align: top;\n",
       "    }\n",
       "\n",
       "    .dataframe thead th {\n",
       "        text-align: right;\n",
       "    }\n",
       "</style>\n",
       "<table border=\"1\" class=\"dataframe\">\n",
       "  <thead>\n",
       "    <tr style=\"text-align: right;\">\n",
       "      <th></th>\n",
       "      <th>instagram name</th>\n",
       "      <th>Category</th>\n",
       "      <th>Followers</th>\n",
       "      <th>Audience Country</th>\n",
       "      <th>newFollowers</th>\n",
       "      <th>Engagement Rate</th>\n",
       "    </tr>\n",
       "  </thead>\n",
       "  <tbody>\n",
       "    <tr>\n",
       "      <th>0</th>\n",
       "      <td>Instagram</td>\n",
       "      <td>Photography</td>\n",
       "      <td>487.2M</td>\n",
       "      <td>India</td>\n",
       "      <td>487.2</td>\n",
       "      <td>0.096</td>\n",
       "    </tr>\n",
       "    <tr>\n",
       "      <th>1</th>\n",
       "      <td>Cristiano Ronaldo</td>\n",
       "      <td>Sports with a ball</td>\n",
       "      <td>419.6M</td>\n",
       "      <td>India</td>\n",
       "      <td>419.6</td>\n",
       "      <td>1.668</td>\n",
       "    </tr>\n",
       "    <tr>\n",
       "      <th>2</th>\n",
       "      <td>Kylie 🤍</td>\n",
       "      <td>Fashion</td>\n",
       "      <td>323.3M</td>\n",
       "      <td>United States</td>\n",
       "      <td>323.3</td>\n",
       "      <td>3.805</td>\n",
       "    </tr>\n",
       "    <tr>\n",
       "      <th>3</th>\n",
       "      <td>Leo Messi</td>\n",
       "      <td>Sports with a ball</td>\n",
       "      <td>315.4M</td>\n",
       "      <td>Argentina</td>\n",
       "      <td>315.4</td>\n",
       "      <td>1.680</td>\n",
       "    </tr>\n",
       "    <tr>\n",
       "      <th>4</th>\n",
       "      <td>Selena Gomez</td>\n",
       "      <td>Music</td>\n",
       "      <td>308.2M</td>\n",
       "      <td>United States</td>\n",
       "      <td>308.2</td>\n",
       "      <td>1.428</td>\n",
       "    </tr>\n",
       "    <tr>\n",
       "      <th>...</th>\n",
       "      <td>...</td>\n",
       "      <td>...</td>\n",
       "      <td>...</td>\n",
       "      <td>...</td>\n",
       "      <td>...</td>\n",
       "      <td>...</td>\n",
       "    </tr>\n",
       "    <tr>\n",
       "      <th>992</th>\n",
       "      <td>Drew Starkey</td>\n",
       "      <td>NaN</td>\n",
       "      <td>3.2M</td>\n",
       "      <td>United States</td>\n",
       "      <td>3.2</td>\n",
       "      <td>37.500</td>\n",
       "    </tr>\n",
       "    <tr>\n",
       "      <th>993</th>\n",
       "      <td>GeorgeNotFound</td>\n",
       "      <td>NaN</td>\n",
       "      <td>3.1M</td>\n",
       "      <td>United States</td>\n",
       "      <td>3.1</td>\n",
       "      <td>35.484</td>\n",
       "    </tr>\n",
       "    <tr>\n",
       "      <th>994</th>\n",
       "      <td>설인아 sᴇᴏʀɪɴᴀ</td>\n",
       "      <td>Lifestyle</td>\n",
       "      <td>3M</td>\n",
       "      <td>South Korea</td>\n",
       "      <td>3.0</td>\n",
       "      <td>33.260</td>\n",
       "    </tr>\n",
       "    <tr>\n",
       "      <th>995</th>\n",
       "      <td>HAECHAN</td>\n",
       "      <td>NaN</td>\n",
       "      <td>2.7M</td>\n",
       "      <td>NaN</td>\n",
       "      <td>2.7</td>\n",
       "      <td>77.778</td>\n",
       "    </tr>\n",
       "    <tr>\n",
       "      <th>996</th>\n",
       "      <td>NaN</td>\n",
       "      <td>NaN</td>\n",
       "      <td>2.6M</td>\n",
       "      <td>United States</td>\n",
       "      <td>2.6</td>\n",
       "      <td>42.308</td>\n",
       "    </tr>\n",
       "  </tbody>\n",
       "</table>\n",
       "<p>997 rows × 6 columns</p>\n",
       "</div>"
      ],
      "text/plain": [
       "        instagram name            Category Followers Audience Country  \\\n",
       "0            Instagram         Photography    487.2M            India   \n",
       "1    Cristiano Ronaldo  Sports with a ball    419.6M            India   \n",
       "2              Kylie 🤍             Fashion    323.3M    United States   \n",
       "3            Leo Messi  Sports with a ball    315.4M        Argentina   \n",
       "4         Selena Gomez               Music    308.2M    United States   \n",
       "..                 ...                 ...       ...              ...   \n",
       "992       Drew Starkey                 NaN      3.2M    United States   \n",
       "993     GeorgeNotFound                 NaN      3.1M    United States   \n",
       "994   설인아 sᴇᴏʀɪɴᴀ           Lifestyle        3M      South Korea   \n",
       "995            HAECHAN                 NaN      2.7M              NaN   \n",
       "996                NaN                 NaN      2.6M    United States   \n",
       "\n",
       "     newFollowers  Engagement Rate  \n",
       "0           487.2            0.096  \n",
       "1           419.6            1.668  \n",
       "2           323.3            3.805  \n",
       "3           315.4            1.680  \n",
       "4           308.2            1.428  \n",
       "..            ...              ...  \n",
       "992           3.2           37.500  \n",
       "993           3.1           35.484  \n",
       "994           3.0           33.260  \n",
       "995           2.7           77.778  \n",
       "996           2.6           42.308  \n",
       "\n",
       "[997 rows x 6 columns]"
      ]
     },
     "execution_count": 24,
     "metadata": {},
     "output_type": "execute_result"
    }
   ],
   "source": [
    "insta_data.sort_values(by='newFollowers',ascending=False,ignore_index=True)"
   ]
  },
  {
   "cell_type": "code",
   "execution_count": 28,
   "id": "732af057",
   "metadata": {},
   "outputs": [
    {
     "data": {
      "image/png": "[encoded data removed]",
      "text/plain": [
       "<Figure size 1080x432 with 1 Axes>"
      ]
     },
     "metadata": {
      "needs_background": "light"
     },
     "output_type": "display_data"
    }
   ],
   "source": [
    "plt.figure(figsize=(15,6))\n",
    "sns.barplot(x='instagram name',y='newFollowers',data=insta_data.sort_values(by='newFollowers', ascending=False).head(15))\n",
    "plt.xticks(rotation = 90)\n",
    "plt.title('Top 15 most followed celebrity on instagram')\n",
    "plt.xlabel('Followers in Million')\n",
    "plt.show()"
   ]
  },
  {
   "cell_type": "code",
   "execution_count": 29,
   "id": "fe4e3aaf",
   "metadata": {},
   "outputs": [
    {
     "data": {
      "image/png": "[encoded data removed]",
      "text/plain": [
       "<Figure size 1080x432 with 1 Axes>"
      ]
     },
     "metadata": {
      "needs_background": "light"
     },
     "output_type": "display_data"
    }
   ],
   "source": [
    "plt.figure(figsize=(15,6))\n",
    "sns.countplot(x = 'Category', data=insta_data)\n",
    "plt.xticks(rotation = 90)\n",
    "plt.title('Total Number of Categories')\n",
    "plt.xlabel('Catogories')\n",
    "plt.show()"
   ]
  },
  {
   "cell_type": "code",
   "execution_count": 30,
   "id": "5eff6d6c",
   "metadata": {},
   "outputs": [
    {
     "data": {
      "text/plain": [
       "array(['Spain', 'Indonesia', 'Russia', 'Brazil', 'Poland', 'South Korea',\n",
       "       'United States', 'Thailand', 'India', 'Iraq', 'Morocco', 'Turkey',\n",
       "       nan, 'Mexico', 'Chile', 'Iran', 'Italy', 'Colombia', 'Argentina',\n",
       "       'Philippines', 'United Kingdom', 'Germany', 'Nigeria', 'Serbia',\n",
       "       'Albania', 'United Arab Emirates', 'China', 'France', 'Japan',\n",
       "       'Egypt', 'Syria', 'Algeria', 'Ukraine'], dtype=object)"
      ]
     },
     "execution_count": 30,
     "metadata": {},
     "output_type": "execute_result"
    }
   ],
   "source": [
    "insta_data['Audience Country'].unique()"
   ]
  },
  {
   "cell_type": "code",
   "execution_count": 31,
   "id": "ee7d55c9",
   "metadata": {},
   "outputs": [
    {
     "data": {
      "text/plain": [
       "United States           279\n",
       "Brazil                  151\n",
       "India                   148\n",
       "Indonesia               134\n",
       "Mexico                   45\n",
       "Spain                    34\n",
       "Russia                   24\n",
       "Argentina                23\n",
       "Iran                     23\n",
       "United Kingdom           20\n",
       "Turkey                   16\n",
       "Italy                    13\n",
       "Colombia                 13\n",
       "South Korea              13\n",
       "Philippines               7\n",
       "France                    6\n",
       "Thailand                  6\n",
       "Iraq                      5\n",
       "Egypt                     5\n",
       "Germany                   3\n",
       "Morocco                   3\n",
       "Nigeria                   2\n",
       "Japan                     2\n",
       "Chile                     1\n",
       "Algeria                   1\n",
       "Syria                     1\n",
       "Serbia                    1\n",
       "China                     1\n",
       "United Arab Emirates      1\n",
       "Albania                   1\n",
       "Poland                    1\n",
       "Ukraine                   1\n",
       "Name: Audience Country, dtype: int64"
      ]
     },
     "execution_count": 31,
     "metadata": {},
     "output_type": "execute_result"
    }
   ],
   "source": [
    "insta_data['Audience Country'].value_counts()"
   ]
  },
  {
   "cell_type": "code",
   "execution_count": 32,
   "id": "228693bc",
   "metadata": {},
   "outputs": [
    {
     "data": {
      "image/png": "[encoded data removed]",
      "text/plain": [
       "<Figure size 1080x432 with 1 Axes>"
      ]
     },
     "metadata": {
      "needs_background": "light"
     },
     "output_type": "display_data"
    }
   ],
   "source": [
    "plt.figure(figsize=(15,6))\n",
    "sns.countplot(x = 'Audience Country', data=insta_data)\n",
    "plt.xticks(rotation = 90)\n",
    "plt.title('Audience Country')\n",
    "plt.xlabel('Countries')\n",
    "plt.show()"
   ]
  },
  {
   "cell_type": "code",
   "execution_count": 33,
   "id": "9366265c",
   "metadata": {},
   "outputs": [
    {
     "data": {
      "image/png": "[encoded data removed]",
      "text/plain": [
       "<Figure size 432x288 with 1 Axes>"
      ]
     },
     "metadata": {
      "needs_background": "light"
     },
     "output_type": "display_data"
    }
   ],
   "source": [
    "sns.kdeplot(x='Engagement Rate', data=insta_data, shade=True);"
   ]
  },
  {
   "cell_type": "code",
   "execution_count": 34,
   "id": "f26801c4",
   "metadata": {},
   "outputs": [
    {
     "name": "stdout",
     "output_type": "stream",
     "text": [
      "<class 'pandas.core.series.Series'>\n",
      "Int64Index: 997 entries, 0 to 999\n",
      "Series name: newFollowers\n",
      "Non-Null Count  Dtype  \n",
      "--------------  -----  \n",
      "997 non-null    float64\n",
      "dtypes: float64(1)\n",
      "memory usage: 15.6 KB\n"
     ]
    }
   ],
   "source": [
    "insta_data['newFollowers'].info()"
   ]
  },
  {
   "cell_type": "code",
   "execution_count": 35,
   "id": "26d3d6ae",
   "metadata": {},
   "outputs": [
    {
     "data": {
      "text/plain": [
       "count    997.000000\n",
       "mean      25.539619\n",
       "std       40.586338\n",
       "min        2.600000\n",
       "25%        9.000000\n",
       "50%       14.600000\n",
       "75%       26.500000\n",
       "max      487.200000\n",
       "Name: newFollowers, dtype: float64"
      ]
     },
     "execution_count": 35,
     "metadata": {},
     "output_type": "execute_result"
    }
   ],
   "source": [
    "insta_data['newFollowers'].describe()"
   ]
  },
  {
   "cell_type": "code",
   "execution_count": 36,
   "id": "b1b93a47",
   "metadata": {},
   "outputs": [
    {
     "data": {
      "text/plain": [
       "47.7"
      ]
     },
     "execution_count": 36,
     "metadata": {},
     "output_type": "execute_result"
    }
   ],
   "source": [
    "insta_data['newFollowers'].quantile(0.9)"
   ]
  },
  {
   "cell_type": "code",
   "execution_count": 37,
   "id": "7e401255",
   "metadata": {},
   "outputs": [],
   "source": [
    "def for_mini_followers_instagram(coun,cat):\n",
    "    data1=insta_data[insta_data['Audience Country']==coun]\n",
    "    data_mini=data1[data1['newFollowers']<60]\n",
    "    return data_mini.sort_values(by='Engagement Rate',ascending=False).groupby('Category').get_group(cat).iloc[:,[0,3,-1]]"
   ]
  },
  {
   "cell_type": "code",
   "execution_count": 38,
   "id": "1b9a535f",
   "metadata": {},
   "outputs": [
    {
     "data": {
      "text/html": [
       "<div>\n",
       "<style scoped>\n",
       "    .dataframe tbody tr th:only-of-type {\n",
       "        vertical-align: middle;\n",
       "    }\n",
       "\n",
       "    .dataframe tbody tr th {\n",
       "        vertical-align: top;\n",
       "    }\n",
       "\n",
       "    .dataframe thead th {\n",
       "        text-align: right;\n",
       "    }\n",
       "</style>\n",
       "<table border=\"1\" class=\"dataframe\">\n",
       "  <thead>\n",
       "    <tr style=\"text-align: right;\">\n",
       "      <th></th>\n",
       "      <th>instagram name</th>\n",
       "      <th>Audience Country</th>\n",
       "      <th>Engagement Rate</th>\n",
       "    </tr>\n",
       "  </thead>\n",
       "  <tbody>\n",
       "    <tr>\n",
       "      <th>558</th>\n",
       "      <td>loren gray</td>\n",
       "      <td>United States</td>\n",
       "      <td>1.01</td>\n",
       "    </tr>\n",
       "  </tbody>\n",
       "</table>\n",
       "</div>"
      ],
      "text/plain": [
       "    instagram name Audience Country  Engagement Rate\n",
       "558     loren gray    United States             1.01"
      ]
     },
     "execution_count": 38,
     "metadata": {},
     "output_type": "execute_result"
    }
   ],
   "source": [
    "for_mini_followers_instagram('United States','Fashion')"
   ]
  },
  {
   "cell_type": "code",
   "execution_count": 39,
   "id": "f757d428",
   "metadata": {},
   "outputs": [
    {
     "data": {
      "text/html": [
       "<div>\n",
       "<style scoped>\n",
       "    .dataframe tbody tr th:only-of-type {\n",
       "        vertical-align: middle;\n",
       "    }\n",
       "\n",
       "    .dataframe tbody tr th {\n",
       "        vertical-align: top;\n",
       "    }\n",
       "\n",
       "    .dataframe thead th {\n",
       "        text-align: right;\n",
       "    }\n",
       "</style>\n",
       "<table border=\"1\" class=\"dataframe\">\n",
       "  <thead>\n",
       "    <tr style=\"text-align: right;\">\n",
       "      <th></th>\n",
       "      <th>instagram name</th>\n",
       "      <th>Audience Country</th>\n",
       "      <th>Engagement Rate</th>\n",
       "    </tr>\n",
       "  </thead>\n",
       "  <tbody>\n",
       "    <tr>\n",
       "      <th>705</th>\n",
       "      <td>Olivia Rodrigo</td>\n",
       "      <td>India</td>\n",
       "      <td>15.284</td>\n",
       "    </tr>\n",
       "    <tr>\n",
       "      <th>992</th>\n",
       "      <td>Zayn Malik</td>\n",
       "      <td>India</td>\n",
       "      <td>12.918</td>\n",
       "    </tr>\n",
       "    <tr>\n",
       "      <th>242</th>\n",
       "      <td>djsnake</td>\n",
       "      <td>India</td>\n",
       "      <td>4.721</td>\n",
       "    </tr>\n",
       "    <tr>\n",
       "      <th>118</th>\n",
       "      <td>Bebe Rexha</td>\n",
       "      <td>India</td>\n",
       "      <td>3.028</td>\n",
       "    </tr>\n",
       "    <tr>\n",
       "      <th>876</th>\n",
       "      <td>Tamannaah Bhatia</td>\n",
       "      <td>India</td>\n",
       "      <td>2.528</td>\n",
       "    </tr>\n",
       "    <tr>\n",
       "      <th>216</th>\n",
       "      <td>Darshan Raval #Goriye</td>\n",
       "      <td>India</td>\n",
       "      <td>1.683</td>\n",
       "    </tr>\n",
       "    <tr>\n",
       "      <th>604</th>\n",
       "      <td>marshmello</td>\n",
       "      <td>India</td>\n",
       "      <td>1.392</td>\n",
       "    </tr>\n",
       "    <tr>\n",
       "      <th>581</th>\n",
       "      <td>Madhuri Dixit</td>\n",
       "      <td>India</td>\n",
       "      <td>1.121</td>\n",
       "    </tr>\n",
       "    <tr>\n",
       "      <th>824</th>\n",
       "      <td>shreyaghoshal</td>\n",
       "      <td>India</td>\n",
       "      <td>0.601</td>\n",
       "    </tr>\n",
       "    <tr>\n",
       "      <th>333</th>\n",
       "      <td>Guru Randhawa</td>\n",
       "      <td>India</td>\n",
       "      <td>0.430</td>\n",
       "    </tr>\n",
       "  </tbody>\n",
       "</table>\n",
       "</div>"
      ],
      "text/plain": [
       "            instagram name Audience Country  Engagement Rate\n",
       "705         Olivia Rodrigo            India           15.284\n",
       "992             Zayn Malik            India           12.918\n",
       "242                djsnake            India            4.721\n",
       "118             Bebe Rexha            India            3.028\n",
       "876       Tamannaah Bhatia            India            2.528\n",
       "216  Darshan Raval #Goriye            India            1.683\n",
       "604             marshmello            India            1.392\n",
       "581          Madhuri Dixit            India            1.121\n",
       "824          shreyaghoshal            India            0.601\n",
       "333          Guru Randhawa            India            0.430"
      ]
     },
     "execution_count": 39,
     "metadata": {},
     "output_type": "execute_result"
    }
   ],
   "source": [
    "for_mini_followers_instagram('India','Music')"
   ]
  },
  {
   "cell_type": "code",
   "execution_count": 40,
   "id": "8860420b",
   "metadata": {},
   "outputs": [
    {
     "data": {
      "text/html": [
       "<div>\n",
       "<style scoped>\n",
       "    .dataframe tbody tr th:only-of-type {\n",
       "        vertical-align: middle;\n",
       "    }\n",
       "\n",
       "    .dataframe tbody tr th {\n",
       "        vertical-align: top;\n",
       "    }\n",
       "\n",
       "    .dataframe thead th {\n",
       "        text-align: right;\n",
       "    }\n",
       "</style>\n",
       "<table border=\"1\" class=\"dataframe\">\n",
       "  <thead>\n",
       "    <tr style=\"text-align: right;\">\n",
       "      <th></th>\n",
       "      <th>instagram name</th>\n",
       "      <th>Audience Country</th>\n",
       "      <th>Engagement Rate</th>\n",
       "    </tr>\n",
       "  </thead>\n",
       "  <tbody>\n",
       "    <tr>\n",
       "      <th>534</th>\n",
       "      <td>Валерия Чекалина</td>\n",
       "      <td>Russia</td>\n",
       "      <td>8.793</td>\n",
       "    </tr>\n",
       "  </tbody>\n",
       "</table>\n",
       "</div>"
      ],
      "text/plain": [
       "       instagram name Audience Country  Engagement Rate\n",
       "534  Валерия Чекалина           Russia            8.793"
      ]
     },
     "execution_count": 40,
     "metadata": {},
     "output_type": "execute_result"
    }
   ],
   "source": [
    "for_mini_followers_instagram('Russia','Lifestyle')"
   ]
  },
  {
   "cell_type": "code",
   "execution_count": 41,
   "id": "f4d420ed",
   "metadata": {},
   "outputs": [],
   "source": [
    "def for_mega_followers_instagram(coun,cat):\n",
    "    data1=insta_data[insta_data['Audience Country']==coun]\n",
    "    data_mega=data1[data1['newFollowers']>60]\n",
    "    return data_mega.sort_values(by='Engagement Rate',ascending=False).groupby('Category').get_group(cat).iloc[:,[0,3,-1]]"
   ]
  },
  {
   "cell_type": "code",
   "execution_count": 42,
   "id": "aa2b70a6",
   "metadata": {},
   "outputs": [
    {
     "data": {
      "text/html": [
       "<div>\n",
       "<style scoped>\n",
       "    .dataframe tbody tr th:only-of-type {\n",
       "        vertical-align: middle;\n",
       "    }\n",
       "\n",
       "    .dataframe tbody tr th {\n",
       "        vertical-align: top;\n",
       "    }\n",
       "\n",
       "    .dataframe thead th {\n",
       "        text-align: right;\n",
       "    }\n",
       "</style>\n",
       "<table border=\"1\" class=\"dataframe\">\n",
       "  <thead>\n",
       "    <tr style=\"text-align: right;\">\n",
       "      <th></th>\n",
       "      <th>instagram name</th>\n",
       "      <th>Audience Country</th>\n",
       "      <th>Engagement Rate</th>\n",
       "    </tr>\n",
       "  </thead>\n",
       "  <tbody>\n",
       "    <tr>\n",
       "      <th>510</th>\n",
       "      <td>Kylie 🤍</td>\n",
       "      <td>United States</td>\n",
       "      <td>3.805</td>\n",
       "    </tr>\n",
       "    <tr>\n",
       "      <th>494</th>\n",
       "      <td>Kim Kardashian</td>\n",
       "      <td>United States</td>\n",
       "      <td>0.978</td>\n",
       "    </tr>\n",
       "  </tbody>\n",
       "</table>\n",
       "</div>"
      ],
      "text/plain": [
       "     instagram name Audience Country  Engagement Rate\n",
       "510         Kylie 🤍    United States            3.805\n",
       "494  Kim Kardashian    United States            0.978"
      ]
     },
     "execution_count": 42,
     "metadata": {},
     "output_type": "execute_result"
    }
   ],
   "source": [
    "for_mega_followers_instagram('United States','Fashion')"
   ]
  },
  {
   "cell_type": "code",
   "execution_count": 43,
   "id": "fbf6a49a",
   "metadata": {},
   "outputs": [
    {
     "data": {
      "text/html": [
       "<div>\n",
       "<style scoped>\n",
       "    .dataframe tbody tr th:only-of-type {\n",
       "        vertical-align: middle;\n",
       "    }\n",
       "\n",
       "    .dataframe tbody tr th {\n",
       "        vertical-align: top;\n",
       "    }\n",
       "\n",
       "    .dataframe thead th {\n",
       "        text-align: right;\n",
       "    }\n",
       "</style>\n",
       "<table border=\"1\" class=\"dataframe\">\n",
       "  <thead>\n",
       "    <tr style=\"text-align: right;\">\n",
       "      <th></th>\n",
       "      <th>instagram name</th>\n",
       "      <th>Audience Country</th>\n",
       "      <th>Engagement Rate</th>\n",
       "    </tr>\n",
       "  </thead>\n",
       "  <tbody>\n",
       "    <tr>\n",
       "      <th>818</th>\n",
       "      <td>Shakira</td>\n",
       "      <td>India</td>\n",
       "      <td>1.317</td>\n",
       "    </tr>\n",
       "    <tr>\n",
       "      <th>670</th>\n",
       "      <td>Neha Kakkar (Mrs. Singh)</td>\n",
       "      <td>India</td>\n",
       "      <td>1.131</td>\n",
       "    </tr>\n",
       "    <tr>\n",
       "      <th>458</th>\n",
       "      <td>Justin Bieber</td>\n",
       "      <td>India</td>\n",
       "      <td>0.281</td>\n",
       "    </tr>\n",
       "  </tbody>\n",
       "</table>\n",
       "</div>"
      ],
      "text/plain": [
       "               instagram name Audience Country  Engagement Rate\n",
       "818                   Shakira            India            1.317\n",
       "670  Neha Kakkar (Mrs. Singh)            India            1.131\n",
       "458             Justin Bieber            India            0.281"
      ]
     },
     "execution_count": 43,
     "metadata": {},
     "output_type": "execute_result"
    }
   ],
   "source": [
    "for_mega_followers_instagram('India','Music')"
   ]
  }
 ],
 "metadata": {
  "kernelspec": {
   "display_name": "Python 3 (ipykernel)",
   "language": "python",
   "name": "python3"
  },
  "language_info": {
   "codemirror_mode": {
    "name": "ipython",
    "version": 3
   },
   "file_extension": ".py",
   "mimetype": "text/x-python",
   "name": "python",
   "nbconvert_exporter": "python",
   "pygments_lexer": "ipython3",
   "version": "3.8.8"
  }
 },
 "nbformat": 4,
 "nbformat_minor": 5
}
