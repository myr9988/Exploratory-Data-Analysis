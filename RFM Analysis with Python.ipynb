{
 "cells": [
  {
   "cell_type": "markdown",
   "id": "4cd8ba6a",
   "metadata": {},
   "source": [
    "RFM analysis is a marketing technique used to quantitatively determine who the best customers are by looking at what date a customer bought (recency), how often they buy (frequency) and how much the customer is spending (in money). In RFM analysis, RFM stands for recency, frequency, and monetary."
   ]
  },
  {
   "cell_type": "markdown",
   "id": "172c5443",
   "metadata": {},
   "source": [
    "### RFM Analysis\n",
    "In this article, I will introduce you to a data science task on RFM analysis using Python. Let’s do an RFM analysis using retail data. It contains customer-level data on transactions by date. He also obtained information on responses to a promotional campaign conducted by the organization. Now let’s start with importing the necessary libraries:"
   ]
  },
  {
   "cell_type": "code",
   "execution_count": 1,
   "id": "2ccb0735",
   "metadata": {},
   "outputs": [],
   "source": [
    "import pandas as pd\n",
    "import datetime as dt\n",
    "import numpy as np\n",
    "import matplotlib.pyplot as plt"
   ]
  },
  {
   "cell_type": "markdown",
   "id": "1bc2c821",
   "metadata": {},
   "source": [
    "Now let’s read the dataset using the pandas package in python:"
   ]
  },
  {
   "cell_type": "code",
   "execution_count": 2,
   "id": "76730732",
   "metadata": {},
   "outputs": [],
   "source": [
    "df = pd.read_csv(r'C:\\Users\\SHREE\\Downloads\\Python CODES\\RFM Analysis with Python\\Retail_Data_Transactions.csv', parse_dates=['trans_date'])"
   ]
  },
  {
   "cell_type": "markdown",
   "id": "e6a60992",
   "metadata": {},
   "source": [
    "Suppose the study is performed from 01 / April / 2015. We will identify the oldest and most recent transaction dates:"
   ]
  },
  {
   "cell_type": "code",
   "execution_count": 3,
   "id": "5deda40a",
   "metadata": {},
   "outputs": [
    {
     "name": "stdout",
     "output_type": "stream",
     "text": [
      "2011-05-16 00:00:00 2015-03-16 00:00:00\n"
     ]
    }
   ],
   "source": [
    "print(df['trans_date'].min(), df['trans_date'].max())"
   ]
  },
  {
   "cell_type": "markdown",
   "id": "47b64424",
   "metadata": {},
   "source": [
    "The number of days from the date of the study is calculated as below:"
   ]
  },
  {
   "cell_type": "code",
   "execution_count": 4,
   "id": "af98abe7",
   "metadata": {},
   "outputs": [],
   "source": [
    "sd = dt.datetime(2015,4,1)\n",
    "df['hist']=sd - df['trans_date']\n",
    "df['hist'].astype('timedelta64[D]')\n",
    "df['hist']=df['hist'] / np.timedelta64(1, 'D')"
   ]
  },
  {
   "cell_type": "markdown",
   "id": "fd599b48",
   "metadata": {},
   "source": [
    "Only transactions carried out in the last 2 years are taken into account for the RFM analysis:"
   ]
  },
  {
   "cell_type": "code",
   "execution_count": 5,
   "id": "12fea437",
   "metadata": {},
   "outputs": [],
   "source": [
    "df=df[df['hist'] < 730]"
   ]
  },
  {
   "cell_type": "markdown",
   "id": "d5ef2252",
   "metadata": {},
   "source": [
    "The data will be summarized at the customer level by taking the number of days until the last transaction, the sum of the total transaction amount and the total transaction number:"
   ]
  },
  {
   "cell_type": "code",
   "execution_count": 6,
   "id": "a5e14b53",
   "metadata": {},
   "outputs": [],
   "source": [
    "rfmTable = df.groupby('customer_id').agg({'hist': lambda x:x.min(), # Recency\n",
    "                                        'customer_id': lambda x: len(x),               # Frequency\n",
    "                                        'tran_amount': lambda x: x.sum()})          # Monetary Value\n",
    "\n",
    "rfmTable.rename(columns={'hist': 'recency', \n",
    "                         'customer_id': 'frequency', \n",
    "                         'tran_amount': 'monetary_value'}, inplace=True)"
   ]
  },
  {
   "cell_type": "markdown",
   "id": "499296eb",
   "metadata": {},
   "source": [
    "RFM analysis consists of classifying R, F and M into 3 or more categories. For simplicity, I will create 4 categories based on the quartiles:"
   ]
  },
  {
   "cell_type": "code",
   "execution_count": 7,
   "id": "ba44d61c",
   "metadata": {},
   "outputs": [],
   "source": [
    "quartiles = rfmTable.quantile(q=[0.25,0.50,0.75])"
   ]
  },
  {
   "cell_type": "markdown",
   "id": "1b834fca",
   "metadata": {},
   "source": [
    "Let’s convert the quartile information into a dictionary so that the thresholds can be raised:"
   ]
  },
  {
   "cell_type": "code",
   "execution_count": 8,
   "id": "43799693",
   "metadata": {},
   "outputs": [],
   "source": [
    "quartiles=quartiles.to_dict()"
   ]
  },
  {
   "cell_type": "markdown",
   "id": "b5229e80",
   "metadata": {},
   "source": [
    "In the case of recency, the lower the better and therefore our categorization system must be reversed:"
   ]
  },
  {
   "cell_type": "code",
   "execution_count": 9,
   "id": "d11720b2",
   "metadata": {},
   "outputs": [],
   "source": [
    "def RClass(x,p,d):\n",
    "    if x <= d[p][0.25]:\n",
    "        return 1\n",
    "    elif x <= d[p][0.50]:\n",
    "        return 2\n",
    "    elif x <= d[p][0.75]: \n",
    "        return 3\n",
    "    else:\n",
    "        return 4\n",
    "    \n",
    "## for Frequency and Monetary value \n",
    "\n",
    "def FMClass(x,p,d):\n",
    "    if x <= d[p][0.25]:\n",
    "        return 4\n",
    "    elif x <= d[p][0.50]:\n",
    "        return 3\n",
    "    elif x <= d[p][0.75]: \n",
    "        return 2\n",
    "    else:\n",
    "        return 1\n",
    "rfmSeg = rfmTable\n",
    "rfmSeg['R_Quartile'] = rfmSeg['recency'].apply(RClass, args=('recency',quartiles,))\n",
    "rfmSeg['F_Quartile'] = rfmSeg['frequency'].apply(FMClass, args=('frequency',quartiles,))\n",
    "rfmSeg['M_Quartile'] = rfmSeg['monetary_value'].apply(FMClass, args=('monetary_value',quartiles,))"
   ]
  },
  {
   "cell_type": "markdown",
   "id": "dadf19be",
   "metadata": {},
   "source": [
    "For RFM analysis, it is essential to combine scores to create a single score. There are a few approaches. One simple way is to join the scores to create a 3-digit number between 111 and 444. The downside here is too many categories (4x4x4). Also, not easy to prioritize scores like 421 versus 412:"
   ]
  },
  {
   "cell_type": "code",
   "execution_count": 11,
   "id": "f2471f41",
   "metadata": {},
   "outputs": [
    {
     "data": {
      "text/html": [
       "<div>\n",
       "<style scoped>\n",
       "    .dataframe tbody tr th:only-of-type {\n",
       "        vertical-align: middle;\n",
       "    }\n",
       "\n",
       "    .dataframe tbody tr th {\n",
       "        vertical-align: top;\n",
       "    }\n",
       "\n",
       "    .dataframe thead th {\n",
       "        text-align: right;\n",
       "    }\n",
       "</style>\n",
       "<table border=\"1\" class=\"dataframe\">\n",
       "  <thead>\n",
       "    <tr style=\"text-align: right;\">\n",
       "      <th></th>\n",
       "      <th>recency</th>\n",
       "      <th>frequency</th>\n",
       "      <th>monetary_value</th>\n",
       "      <th>R_Quartile</th>\n",
       "      <th>F_Quartile</th>\n",
       "      <th>M_Quartile</th>\n",
       "      <th>RFMClass</th>\n",
       "    </tr>\n",
       "    <tr>\n",
       "      <th>customer_id</th>\n",
       "      <th></th>\n",
       "      <th></th>\n",
       "      <th></th>\n",
       "      <th></th>\n",
       "      <th></th>\n",
       "      <th></th>\n",
       "      <th></th>\n",
       "    </tr>\n",
       "  </thead>\n",
       "  <tbody>\n",
       "    <tr>\n",
       "      <th>CS4640</th>\n",
       "      <td>34.0</td>\n",
       "      <td>21</td>\n",
       "      <td>1610</td>\n",
       "      <td>1</td>\n",
       "      <td>1</td>\n",
       "      <td>1</td>\n",
       "      <td>111</td>\n",
       "    </tr>\n",
       "    <tr>\n",
       "      <th>CS5343</th>\n",
       "      <td>29.0</td>\n",
       "      <td>20</td>\n",
       "      <td>1585</td>\n",
       "      <td>1</td>\n",
       "      <td>1</td>\n",
       "      <td>1</td>\n",
       "      <td>111</td>\n",
       "    </tr>\n",
       "    <tr>\n",
       "      <th>CS3622</th>\n",
       "      <td>29.0</td>\n",
       "      <td>20</td>\n",
       "      <td>1549</td>\n",
       "      <td>1</td>\n",
       "      <td>1</td>\n",
       "      <td>1</td>\n",
       "      <td>111</td>\n",
       "    </tr>\n",
       "    <tr>\n",
       "      <th>CS2316</th>\n",
       "      <td>19.0</td>\n",
       "      <td>21</td>\n",
       "      <td>1446</td>\n",
       "      <td>1</td>\n",
       "      <td>1</td>\n",
       "      <td>1</td>\n",
       "      <td>111</td>\n",
       "    </tr>\n",
       "    <tr>\n",
       "      <th>CS3270</th>\n",
       "      <td>19.0</td>\n",
       "      <td>20</td>\n",
       "      <td>1436</td>\n",
       "      <td>1</td>\n",
       "      <td>1</td>\n",
       "      <td>1</td>\n",
       "      <td>111</td>\n",
       "    </tr>\n",
       "    <tr>\n",
       "      <th>...</th>\n",
       "      <td>...</td>\n",
       "      <td>...</td>\n",
       "      <td>...</td>\n",
       "      <td>...</td>\n",
       "      <td>...</td>\n",
       "      <td>...</td>\n",
       "      <td>...</td>\n",
       "    </tr>\n",
       "    <tr>\n",
       "      <th>CS8033</th>\n",
       "      <td>499.0</td>\n",
       "      <td>1</td>\n",
       "      <td>24</td>\n",
       "      <td>4</td>\n",
       "      <td>4</td>\n",
       "      <td>4</td>\n",
       "      <td>444</td>\n",
       "    </tr>\n",
       "    <tr>\n",
       "      <th>CS8400</th>\n",
       "      <td>462.0</td>\n",
       "      <td>1</td>\n",
       "      <td>19</td>\n",
       "      <td>4</td>\n",
       "      <td>4</td>\n",
       "      <td>4</td>\n",
       "      <td>444</td>\n",
       "    </tr>\n",
       "    <tr>\n",
       "      <th>CS8760</th>\n",
       "      <td>463.0</td>\n",
       "      <td>1</td>\n",
       "      <td>19</td>\n",
       "      <td>4</td>\n",
       "      <td>4</td>\n",
       "      <td>4</td>\n",
       "      <td>444</td>\n",
       "    </tr>\n",
       "    <tr>\n",
       "      <th>CS8740</th>\n",
       "      <td>485.0</td>\n",
       "      <td>1</td>\n",
       "      <td>17</td>\n",
       "      <td>4</td>\n",
       "      <td>4</td>\n",
       "      <td>4</td>\n",
       "      <td>444</td>\n",
       "    </tr>\n",
       "    <tr>\n",
       "      <th>CS7129</th>\n",
       "      <td>398.0</td>\n",
       "      <td>1</td>\n",
       "      <td>14</td>\n",
       "      <td>4</td>\n",
       "      <td>4</td>\n",
       "      <td>4</td>\n",
       "      <td>444</td>\n",
       "    </tr>\n",
       "  </tbody>\n",
       "</table>\n",
       "<p>6884 rows × 7 columns</p>\n",
       "</div>"
      ],
      "text/plain": [
       "             recency  frequency  monetary_value  R_Quartile  F_Quartile  \\\n",
       "customer_id                                                               \n",
       "CS4640          34.0         21            1610           1           1   \n",
       "CS5343          29.0         20            1585           1           1   \n",
       "CS3622          29.0         20            1549           1           1   \n",
       "CS2316          19.0         21            1446           1           1   \n",
       "CS3270          19.0         20            1436           1           1   \n",
       "...              ...        ...             ...         ...         ...   \n",
       "CS8033         499.0          1              24           4           4   \n",
       "CS8400         462.0          1              19           4           4   \n",
       "CS8760         463.0          1              19           4           4   \n",
       "CS8740         485.0          1              17           4           4   \n",
       "CS7129         398.0          1              14           4           4   \n",
       "\n",
       "             M_Quartile RFMClass  \n",
       "customer_id                       \n",
       "CS4640                1      111  \n",
       "CS5343                1      111  \n",
       "CS3622                1      111  \n",
       "CS2316                1      111  \n",
       "CS3270                1      111  \n",
       "...                 ...      ...  \n",
       "CS8033                4      444  \n",
       "CS8400                4      444  \n",
       "CS8760                4      444  \n",
       "CS8740                4      444  \n",
       "CS7129                4      444  \n",
       "\n",
       "[6884 rows x 7 columns]"
      ]
     },
     "execution_count": 11,
     "metadata": {},
     "output_type": "execute_result"
    }
   ],
   "source": [
    "rfmSeg['RFMClass'] = rfmSeg.R_Quartile.map(str) + rfmSeg.F_Quartile.map(str) + rfmSeg.M_Quartile.map(str)\n",
    "rfmSeg.sort_values(by=['RFMClass', 'monetary_value'], ascending=[True, False])"
   ]
  },
  {
   "cell_type": "markdown",
   "id": "aba0ef6c",
   "metadata": {},
   "source": [
    "Another possibility is to combine the scores to create a score (eg 4 + 1 + 1). Here the advantage is that each of the scores has the same importance. However, some scores will have many locations as constituents (eg – 413 and 431):"
   ]
  },
  {
   "cell_type": "code",
   "execution_count": 12,
   "id": "d138dddb",
   "metadata": {},
   "outputs": [],
   "source": [
    "rfmSeg['Total Score'] = rfmSeg['R_Quartile'] + rfmSeg['F_Quartile'] +rfmSeg['M_Quartile']"
   ]
  },
  {
   "cell_type": "markdown",
   "id": "49f8e825",
   "metadata": {},
   "source": [
    "Let’s check how the combined score arranges R, F and M:"
   ]
  },
  {
   "cell_type": "code",
   "execution_count": 13,
   "id": "e2a3acda",
   "metadata": {},
   "outputs": [
    {
     "data": {
      "text/plain": [
       "<AxesSubplot:xlabel='Total Score'>"
      ]
     },
     "execution_count": 13,
     "metadata": {},
     "output_type": "execute_result"
    },
    {
     "data": {
      "image/png": "[encoded data removed]",
      "text/plain": [
       "<Figure size 432x288 with 1 Axes>"
      ]
     },
     "metadata": {
      "needs_background": "light"
     },
     "output_type": "display_data"
    }
   ],
   "source": [
    "rfmSeg.groupby('Total Score').agg('monetary_value').mean().plot(kind='bar', colormap='Blues_r')"
   ]
  },
  {
   "cell_type": "code",
   "execution_count": 14,
   "id": "ecfe3a46",
   "metadata": {},
   "outputs": [
    {
     "data": {
      "text/plain": [
       "<AxesSubplot:xlabel='Total Score'>"
      ]
     },
     "execution_count": 14,
     "metadata": {},
     "output_type": "execute_result"
    },
    {
     "data": {
      "image/png": "[encoded data removed]",
      "text/plain": [
       "<Figure size 432x288 with 1 Axes>"
      ]
     },
     "metadata": {
      "needs_background": "light"
     },
     "output_type": "display_data"
    }
   ],
   "source": [
    "rfmSeg.groupby('Total Score').agg('frequency').mean().plot(kind='bar', colormap='Blues_r')"
   ]
  },
  {
   "cell_type": "markdown",
   "id": "354648f5",
   "metadata": {},
   "source": [
    "The ultimate test of the RFM analysis is the impact on any consumer behaviour. Let’s check its impact on customer response to a promotional campaign:"
   ]
  },
  {
   "cell_type": "code",
   "execution_count": 15,
   "id": "a7401560",
   "metadata": {},
   "outputs": [
    {
     "data": {
      "text/plain": [
       "Text(0, 0.5, 'Proportion of Responders')"
      ]
     },
     "execution_count": 15,
     "metadata": {},
     "output_type": "execute_result"
    },
    {
     "data": {
      "image/png": "[encoded data removed]",
      "text/plain": [
       "<Figure size 432x288 with 1 Axes>"
      ]
     },
     "metadata": {
      "needs_background": "light"
     },
     "output_type": "display_data"
    }
   ],
   "source": [
    "res = pd.read_csv(r'C:\\Users\\SHREE\\Downloads\\Python CODES\\RFM Analysis with Python\\Retail_Data_Response.csv')\n",
    "res.sort_values('customer_id', inplace=True)\n",
    "rfmSeg.reset_index(inplace=True)\n",
    "rfmSeg.sort_values('customer_id', inplace=True)\n",
    "rfm2=pd.merge(rfmSeg, res, on='customer_id')\n",
    "\n",
    "ax=rfm2.groupby('Total Score').agg('response').mean().plot(kind='bar', colormap='copper_r')\n",
    "ax.set_xlabel(\"Total Score\")\n",
    "ax.set_ylabel(\"Proportion of Responders\")"
   ]
  },
  {
   "cell_type": "markdown",
   "id": "73305371",
   "metadata": {},
   "source": [
    "The graph shows that response behaviour is strongly related to the combined score. However, there is not much difference between scores of 3,4,5 and 6. While the performance of RFM scores is much lower for scores greater than 6."
   ]
  }
 ],
 "metadata": {
  "kernelspec": {
   "display_name": "Python 3 (ipykernel)",
   "language": "python",
   "name": "python3"
  },
  "language_info": {
   "codemirror_mode": {
    "name": "ipython",
    "version": 3
   },
   "file_extension": ".py",
   "mimetype": "text/x-python",
   "name": "python",
   "nbconvert_exporter": "python",
   "pygments_lexer": "ipython3",
   "version": "3.8.8"
  }
 },
 "nbformat": 4,
 "nbformat_minor": 5
}
