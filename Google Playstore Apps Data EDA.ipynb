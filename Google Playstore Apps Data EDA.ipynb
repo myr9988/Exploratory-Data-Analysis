{
 "cells": [
  {
   "cell_type": "markdown",
   "id": "3d3eef56",
   "metadata": {
    "papermill": {
     "duration": 0.027138,
     "end_time": "2022-10-19T11:25:39.456895",
     "exception": false,
     "start_time": "2022-10-19T11:25:39.429757",
     "status": "completed"
    },
    "tags": []
   },
   "source": [
    "# Import Libraries"
   ]
  },
  {
   "cell_type": "code",
   "execution_count": 1,
   "id": "9d5c6c95",
   "metadata": {
    "execution": {
     "iopub.execute_input": "2022-10-19T11:25:39.507513Z",
     "iopub.status.busy": "2022-10-19T11:25:39.506620Z",
     "iopub.status.idle": "2022-10-19T11:25:40.704188Z",
     "shell.execute_reply": "2022-10-19T11:25:40.702713Z"
    },
    "papermill": {
     "duration": 1.226216,
     "end_time": "2022-10-19T11:25:40.707684",
     "exception": false,
     "start_time": "2022-10-19T11:25:39.481468",
     "status": "completed"
    },
    "tags": []
   },
   "outputs": [],
   "source": [
    "# Import all the required libraries and modules\n",
    "import pandas as pd\n",
    "import numpy as np\n",
    "import seaborn as sns\n",
    "import matplotlib.pyplot as plt\n",
    "%matplotlib inline\n",
    "import plotly\n",
    "import plotly.graph_objects as go\n",
    "import missingno as msno\n",
    "import warnings\n",
    "warnings.filterwarnings(\"ignore\", category=FutureWarning)"
   ]
  },
  {
   "cell_type": "code",
   "execution_count": 2,
   "id": "e5dbb646",
   "metadata": {
    "execution": {
     "iopub.execute_input": "2022-10-19T11:25:40.754778Z",
     "iopub.status.busy": "2022-10-19T11:25:40.754297Z",
     "iopub.status.idle": "2022-10-19T11:25:40.842666Z",
     "shell.execute_reply": "2022-10-19T11:25:40.841392Z"
    },
    "papermill": {
     "duration": 0.11547,
     "end_time": "2022-10-19T11:25:40.845909",
     "exception": false,
     "start_time": "2022-10-19T11:25:40.730439",
     "status": "completed"
    },
    "tags": []
   },
   "outputs": [],
   "source": [
    "# Read files using pandas modules\n",
    "df=pd.read_csv(r'C:\\Users\\SHREE\\Downloads\\Mentorships\\Analyze Mobile App Data on various platforms and generate recommendations based on the analysis and various metrics available in the datasets using Python\\googleplaystore.csv\\googleplaystore.csv')"
   ]
  },
  {
   "cell_type": "markdown",
   "id": "1b9b9420",
   "metadata": {
    "papermill": {
     "duration": 0.02253,
     "end_time": "2022-10-19T11:25:40.890169",
     "exception": false,
     "start_time": "2022-10-19T11:25:40.867639",
     "status": "completed"
    },
    "tags": []
   },
   "source": [
    "# Data Analysis and Data Cleaning"
   ]
  },
  {
   "cell_type": "code",
   "execution_count": 3,
   "id": "bc2e8c5b",
   "metadata": {
    "execution": {
     "iopub.execute_input": "2022-10-19T11:25:40.934606Z",
     "iopub.status.busy": "2022-10-19T11:25:40.934077Z",
     "iopub.status.idle": "2022-10-19T11:25:40.964306Z",
     "shell.execute_reply": "2022-10-19T11:25:40.963103Z"
    },
    "papermill": {
     "duration": 0.056109,
     "end_time": "2022-10-19T11:25:40.967695",
     "exception": false,
     "start_time": "2022-10-19T11:25:40.911586",
     "status": "completed"
    },
    "tags": []
   },
   "outputs": [
    {
     "data": {
      "text/html": [
       "<div>\n",
       "<style scoped>\n",
       "    .dataframe tbody tr th:only-of-type {\n",
       "        vertical-align: middle;\n",
       "    }\n",
       "\n",
       "    .dataframe tbody tr th {\n",
       "        vertical-align: top;\n",
       "    }\n",
       "\n",
       "    .dataframe thead th {\n",
       "        text-align: right;\n",
       "    }\n",
       "</style>\n",
       "<table border=\"1\" class=\"dataframe\">\n",
       "  <thead>\n",
       "    <tr style=\"text-align: right;\">\n",
       "      <th></th>\n",
       "      <th>App</th>\n",
       "      <th>Category</th>\n",
       "      <th>Rating</th>\n",
       "      <th>Reviews</th>\n",
       "      <th>Size</th>\n",
       "      <th>Installs</th>\n",
       "      <th>Type</th>\n",
       "      <th>Price</th>\n",
       "      <th>Content Rating</th>\n",
       "      <th>Genres</th>\n",
       "      <th>Last Updated</th>\n",
       "      <th>Current Ver</th>\n",
       "      <th>Android Ver</th>\n",
       "    </tr>\n",
       "  </thead>\n",
       "  <tbody>\n",
       "    <tr>\n",
       "      <th>0</th>\n",
       "      <td>Photo Editor &amp; Candy Camera &amp; Grid &amp; ScrapBook</td>\n",
       "      <td>ART_AND_DESIGN</td>\n",
       "      <td>4.1</td>\n",
       "      <td>159</td>\n",
       "      <td>19M</td>\n",
       "      <td>10,000+</td>\n",
       "      <td>Free</td>\n",
       "      <td>0</td>\n",
       "      <td>Everyone</td>\n",
       "      <td>Art &amp; Design</td>\n",
       "      <td>January 7, 2018</td>\n",
       "      <td>1.0.0</td>\n",
       "      <td>4.0.3 and up</td>\n",
       "    </tr>\n",
       "    <tr>\n",
       "      <th>1</th>\n",
       "      <td>Coloring book moana</td>\n",
       "      <td>ART_AND_DESIGN</td>\n",
       "      <td>3.9</td>\n",
       "      <td>967</td>\n",
       "      <td>14M</td>\n",
       "      <td>500,000+</td>\n",
       "      <td>Free</td>\n",
       "      <td>0</td>\n",
       "      <td>Everyone</td>\n",
       "      <td>Art &amp; Design;Pretend Play</td>\n",
       "      <td>January 15, 2018</td>\n",
       "      <td>2.0.0</td>\n",
       "      <td>4.0.3 and up</td>\n",
       "    </tr>\n",
       "    <tr>\n",
       "      <th>2</th>\n",
       "      <td>U Launcher Lite – FREE Live Cool Themes, Hide ...</td>\n",
       "      <td>ART_AND_DESIGN</td>\n",
       "      <td>4.7</td>\n",
       "      <td>87510</td>\n",
       "      <td>8.7M</td>\n",
       "      <td>5,000,000+</td>\n",
       "      <td>Free</td>\n",
       "      <td>0</td>\n",
       "      <td>Everyone</td>\n",
       "      <td>Art &amp; Design</td>\n",
       "      <td>August 1, 2018</td>\n",
       "      <td>1.2.4</td>\n",
       "      <td>4.0.3 and up</td>\n",
       "    </tr>\n",
       "    <tr>\n",
       "      <th>3</th>\n",
       "      <td>Sketch - Draw &amp; Paint</td>\n",
       "      <td>ART_AND_DESIGN</td>\n",
       "      <td>4.5</td>\n",
       "      <td>215644</td>\n",
       "      <td>25M</td>\n",
       "      <td>50,000,000+</td>\n",
       "      <td>Free</td>\n",
       "      <td>0</td>\n",
       "      <td>Teen</td>\n",
       "      <td>Art &amp; Design</td>\n",
       "      <td>June 8, 2018</td>\n",
       "      <td>Varies with device</td>\n",
       "      <td>4.2 and up</td>\n",
       "    </tr>\n",
       "    <tr>\n",
       "      <th>4</th>\n",
       "      <td>Pixel Draw - Number Art Coloring Book</td>\n",
       "      <td>ART_AND_DESIGN</td>\n",
       "      <td>4.3</td>\n",
       "      <td>967</td>\n",
       "      <td>2.8M</td>\n",
       "      <td>100,000+</td>\n",
       "      <td>Free</td>\n",
       "      <td>0</td>\n",
       "      <td>Everyone</td>\n",
       "      <td>Art &amp; Design;Creativity</td>\n",
       "      <td>June 20, 2018</td>\n",
       "      <td>1.1</td>\n",
       "      <td>4.4 and up</td>\n",
       "    </tr>\n",
       "  </tbody>\n",
       "</table>\n",
       "</div>"
      ],
      "text/plain": [
       "                                                 App        Category  Rating  \\\n",
       "0     Photo Editor & Candy Camera & Grid & ScrapBook  ART_AND_DESIGN     4.1   \n",
       "1                                Coloring book moana  ART_AND_DESIGN     3.9   \n",
       "2  U Launcher Lite – FREE Live Cool Themes, Hide ...  ART_AND_DESIGN     4.7   \n",
       "3                              Sketch - Draw & Paint  ART_AND_DESIGN     4.5   \n",
       "4              Pixel Draw - Number Art Coloring Book  ART_AND_DESIGN     4.3   \n",
       "\n",
       "  Reviews  Size     Installs  Type Price Content Rating  \\\n",
       "0     159   19M      10,000+  Free     0       Everyone   \n",
       "1     967   14M     500,000+  Free     0       Everyone   \n",
       "2   87510  8.7M   5,000,000+  Free     0       Everyone   \n",
       "3  215644   25M  50,000,000+  Free     0           Teen   \n",
       "4     967  2.8M     100,000+  Free     0       Everyone   \n",
       "\n",
       "                      Genres      Last Updated         Current Ver  \\\n",
       "0               Art & Design   January 7, 2018               1.0.0   \n",
       "1  Art & Design;Pretend Play  January 15, 2018               2.0.0   \n",
       "2               Art & Design    August 1, 2018               1.2.4   \n",
       "3               Art & Design      June 8, 2018  Varies with device   \n",
       "4    Art & Design;Creativity     June 20, 2018                 1.1   \n",
       "\n",
       "    Android Ver  \n",
       "0  4.0.3 and up  \n",
       "1  4.0.3 and up  \n",
       "2  4.0.3 and up  \n",
       "3    4.2 and up  \n",
       "4    4.4 and up  "
      ]
     },
     "execution_count": 3,
     "metadata": {},
     "output_type": "execute_result"
    }
   ],
   "source": [
    "# read first five row in data \n",
    "df.head()"
   ]
  },
  {
   "cell_type": "code",
   "execution_count": 4,
   "id": "f54efb65",
   "metadata": {
    "execution": {
     "iopub.execute_input": "2022-10-19T11:25:41.013540Z",
     "iopub.status.busy": "2022-10-19T11:25:41.013025Z",
     "iopub.status.idle": "2022-10-19T11:25:41.020513Z",
     "shell.execute_reply": "2022-10-19T11:25:41.019394Z"
    },
    "papermill": {
     "duration": 0.033017,
     "end_time": "2022-10-19T11:25:41.022858",
     "exception": false,
     "start_time": "2022-10-19T11:25:40.989841",
     "status": "completed"
    },
    "tags": []
   },
   "outputs": [
    {
     "data": {
      "text/plain": [
       "(10841, 13)"
      ]
     },
     "execution_count": 4,
     "metadata": {},
     "output_type": "execute_result"
    }
   ],
   "source": [
    "#Check the shape of the data\n",
    "df.shape"
   ]
  },
  {
   "cell_type": "code",
   "execution_count": 5,
   "id": "35d0b912",
   "metadata": {
    "execution": {
     "iopub.execute_input": "2022-10-19T11:25:41.068960Z",
     "iopub.status.busy": "2022-10-19T11:25:41.068472Z",
     "iopub.status.idle": "2022-10-19T11:25:41.104276Z",
     "shell.execute_reply": "2022-10-19T11:25:41.102879Z"
    },
    "papermill": {
     "duration": 0.062195,
     "end_time": "2022-10-19T11:25:41.107414",
     "exception": false,
     "start_time": "2022-10-19T11:25:41.045219",
     "status": "completed"
    },
    "tags": []
   },
   "outputs": [
    {
     "name": "stdout",
     "output_type": "stream",
     "text": [
      "<class 'pandas.core.frame.DataFrame'>\n",
      "RangeIndex: 10841 entries, 0 to 10840\n",
      "Data columns (total 13 columns):\n",
      " #   Column          Non-Null Count  Dtype  \n",
      "---  ------          --------------  -----  \n",
      " 0   App             10841 non-null  object \n",
      " 1   Category        10841 non-null  object \n",
      " 2   Rating          9367 non-null   float64\n",
      " 3   Reviews         10841 non-null  object \n",
      " 4   Size            10841 non-null  object \n",
      " 5   Installs        10841 non-null  object \n",
      " 6   Type            10840 non-null  object \n",
      " 7   Price           10841 non-null  object \n",
      " 8   Content Rating  10840 non-null  object \n",
      " 9   Genres          10841 non-null  object \n",
      " 10  Last Updated    10841 non-null  object \n",
      " 11  Current Ver     10833 non-null  object \n",
      " 12  Android Ver     10838 non-null  object \n",
      "dtypes: float64(1), object(12)\n",
      "memory usage: 1.1+ MB\n"
     ]
    }
   ],
   "source": [
    "# Check the information in the data\n",
    "df.info()"
   ]
  },
  {
   "cell_type": "code",
   "execution_count": 6,
   "id": "b76dcef1",
   "metadata": {
    "execution": {
     "iopub.execute_input": "2022-10-19T11:25:41.154229Z",
     "iopub.status.busy": "2022-10-19T11:25:41.153737Z",
     "iopub.status.idle": "2022-10-19T11:25:41.161394Z",
     "shell.execute_reply": "2022-10-19T11:25:41.160186Z"
    },
    "papermill": {
     "duration": 0.033707,
     "end_time": "2022-10-19T11:25:41.164023",
     "exception": false,
     "start_time": "2022-10-19T11:25:41.130316",
     "status": "completed"
    },
    "tags": []
   },
   "outputs": [
    {
     "data": {
      "text/plain": [
       "Index(['App', 'Category', 'Rating', 'Reviews', 'Size', 'Installs', 'Type',\n",
       "       'Price', 'Content Rating', 'Genres', 'Last Updated', 'Current Ver',\n",
       "       'Android Ver'],\n",
       "      dtype='object')"
      ]
     },
     "execution_count": 6,
     "metadata": {},
     "output_type": "execute_result"
    }
   ],
   "source": [
    "#Checking column names in the dataset\n",
    "df.columns"
   ]
  },
  {
   "cell_type": "code",
   "execution_count": 7,
   "id": "cb69ac79",
   "metadata": {
    "execution": {
     "iopub.execute_input": "2022-10-19T11:25:41.210024Z",
     "iopub.status.busy": "2022-10-19T11:25:41.209562Z",
     "iopub.status.idle": "2022-10-19T11:25:41.220547Z",
     "shell.execute_reply": "2022-10-19T11:25:41.219356Z"
    },
    "papermill": {
     "duration": 0.037145,
     "end_time": "2022-10-19T11:25:41.223137",
     "exception": false,
     "start_time": "2022-10-19T11:25:41.185992",
     "status": "completed"
    },
    "tags": []
   },
   "outputs": [
    {
     "data": {
      "text/plain": [
       "9660"
      ]
     },
     "execution_count": 7,
     "metadata": {},
     "output_type": "execute_result"
    }
   ],
   "source": [
    "#Look for the number of unique Apps\n",
    "df['App'].nunique()"
   ]
  },
  {
   "cell_type": "code",
   "execution_count": 8,
   "id": "46131f67",
   "metadata": {
    "execution": {
     "iopub.execute_input": "2022-10-19T11:25:41.272219Z",
     "iopub.status.busy": "2022-10-19T11:25:41.271096Z",
     "iopub.status.idle": "2022-10-19T11:25:41.281002Z",
     "shell.execute_reply": "2022-10-19T11:25:41.279731Z"
    },
    "papermill": {
     "duration": 0.038789,
     "end_time": "2022-10-19T11:25:41.284110",
     "exception": false,
     "start_time": "2022-10-19T11:25:41.245321",
     "status": "completed"
    },
    "tags": []
   },
   "outputs": [
    {
     "data": {
      "text/plain": [
       "array(['ART_AND_DESIGN', 'AUTO_AND_VEHICLES', 'BEAUTY',\n",
       "       'BOOKS_AND_REFERENCE', 'BUSINESS', 'COMICS', 'COMMUNICATION',\n",
       "       'DATING', 'EDUCATION', 'ENTERTAINMENT', 'EVENTS', 'FINANCE',\n",
       "       'FOOD_AND_DRINK', 'HEALTH_AND_FITNESS', 'HOUSE_AND_HOME',\n",
       "       'LIBRARIES_AND_DEMO', 'LIFESTYLE', 'GAME', 'FAMILY', 'MEDICAL',\n",
       "       'SOCIAL', 'SHOPPING', 'PHOTOGRAPHY', 'SPORTS', 'TRAVEL_AND_LOCAL',\n",
       "       'TOOLS', 'PERSONALIZATION', 'PRODUCTIVITY', 'PARENTING', 'WEATHER',\n",
       "       'VIDEO_PLAYERS', 'NEWS_AND_MAGAZINES', 'MAPS_AND_NAVIGATION',\n",
       "       '1.9'], dtype=object)"
      ]
     },
     "execution_count": 8,
     "metadata": {},
     "output_type": "execute_result"
    }
   ],
   "source": [
    "#Checking unique categories in the data\n",
    "df['Category'].unique()"
   ]
  },
  {
   "cell_type": "code",
   "execution_count": 9,
   "id": "11be2042",
   "metadata": {
    "execution": {
     "iopub.execute_input": "2022-10-19T11:25:41.331040Z",
     "iopub.status.busy": "2022-10-19T11:25:41.330588Z",
     "iopub.status.idle": "2022-10-19T11:25:41.339063Z",
     "shell.execute_reply": "2022-10-19T11:25:41.337922Z"
    },
    "papermill": {
     "duration": 0.03462,
     "end_time": "2022-10-19T11:25:41.341466",
     "exception": false,
     "start_time": "2022-10-19T11:25:41.306846",
     "status": "completed"
    },
    "tags": []
   },
   "outputs": [
    {
     "data": {
      "text/plain": [
       "34"
      ]
     },
     "execution_count": 9,
     "metadata": {},
     "output_type": "execute_result"
    }
   ],
   "source": [
    "#Total number of unique categories\n",
    "df['Category'].nunique()"
   ]
  },
  {
   "cell_type": "markdown",
   "id": "32935f50",
   "metadata": {
    "papermill": {
     "duration": 0.021612,
     "end_time": "2022-10-19T11:25:41.385083",
     "exception": false,
     "start_time": "2022-10-19T11:25:41.363471",
     "status": "completed"
    },
    "tags": []
   },
   "source": [
    "- There are 34 different categoris"
   ]
  },
  {
   "cell_type": "code",
   "execution_count": 10,
   "id": "d8f9bfcc",
   "metadata": {
    "execution": {
     "iopub.execute_input": "2022-10-19T11:25:41.432632Z",
     "iopub.status.busy": "2022-10-19T11:25:41.432168Z",
     "iopub.status.idle": "2022-10-19T11:25:41.441355Z",
     "shell.execute_reply": "2022-10-19T11:25:41.440113Z"
    },
    "papermill": {
     "duration": 0.035417,
     "end_time": "2022-10-19T11:25:41.443819",
     "exception": false,
     "start_time": "2022-10-19T11:25:41.408402",
     "status": "completed"
    },
    "tags": []
   },
   "outputs": [
    {
     "data": {
      "text/plain": [
       "array(['10,000+', '500,000+', '5,000,000+', '50,000,000+', '100,000+',\n",
       "       '50,000+', '1,000,000+', '10,000,000+', '5,000+', '100,000,000+',\n",
       "       '1,000,000,000+', '1,000+', '500,000,000+', '50+', '100+', '500+',\n",
       "       '10+', '1+', '5+', '0+', '0', 'Free'], dtype=object)"
      ]
     },
     "execution_count": 10,
     "metadata": {},
     "output_type": "execute_result"
    }
   ],
   "source": [
    "# The gradation of installations in the dataframe\n",
    "df.Installs.unique()"
   ]
  },
  {
   "cell_type": "code",
   "execution_count": 11,
   "id": "e99d65c0",
   "metadata": {
    "execution": {
     "iopub.execute_input": "2022-10-19T11:25:41.493077Z",
     "iopub.status.busy": "2022-10-19T11:25:41.491885Z",
     "iopub.status.idle": "2022-10-19T11:25:41.501710Z",
     "shell.execute_reply": "2022-10-19T11:25:41.500552Z"
    },
    "papermill": {
     "duration": 0.037598,
     "end_time": "2022-10-19T11:25:41.504395",
     "exception": false,
     "start_time": "2022-10-19T11:25:41.466797",
     "status": "completed"
    },
    "tags": []
   },
   "outputs": [
    {
     "data": {
      "text/plain": [
       "462"
      ]
     },
     "execution_count": 11,
     "metadata": {},
     "output_type": "execute_result"
    }
   ],
   "source": [
    "# There are a lot of app sizes\n",
    "df[\"Size\"].nunique()"
   ]
  },
  {
   "cell_type": "code",
   "execution_count": 12,
   "id": "adb25c00",
   "metadata": {
    "execution": {
     "iopub.execute_input": "2022-10-19T11:25:41.551589Z",
     "iopub.status.busy": "2022-10-19T11:25:41.550626Z",
     "iopub.status.idle": "2022-10-19T11:25:41.559941Z",
     "shell.execute_reply": "2022-10-19T11:25:41.559090Z"
    },
    "papermill": {
     "duration": 0.035584,
     "end_time": "2022-10-19T11:25:41.562402",
     "exception": false,
     "start_time": "2022-10-19T11:25:41.526818",
     "status": "completed"
    },
    "tags": []
   },
   "outputs": [
    {
     "data": {
      "text/plain": [
       "array([ 4.1,  3.9,  4.7,  4.5,  4.3,  4.4,  3.8,  4.2,  4.6,  3.2,  4. ,\n",
       "        nan,  4.8,  4.9,  3.6,  3.7,  3.3,  3.4,  3.5,  3.1,  5. ,  2.6,\n",
       "        3. ,  1.9,  2.5,  2.8,  2.7,  1. ,  2.9,  2.3,  2.2,  1.7,  2. ,\n",
       "        1.8,  2.4,  1.6,  2.1,  1.4,  1.5,  1.2, 19. ])"
      ]
     },
     "execution_count": 12,
     "metadata": {},
     "output_type": "execute_result"
    }
   ],
   "source": [
    "# Looking unique ratings in the dataframe\n",
    "df['Rating'].unique()"
   ]
  },
  {
   "cell_type": "code",
   "execution_count": 13,
   "id": "aa441b86",
   "metadata": {
    "execution": {
     "iopub.execute_input": "2022-10-19T11:25:41.610693Z",
     "iopub.status.busy": "2022-10-19T11:25:41.609314Z",
     "iopub.status.idle": "2022-10-19T11:25:41.618177Z",
     "shell.execute_reply": "2022-10-19T11:25:41.616925Z"
    },
    "papermill": {
     "duration": 0.035518,
     "end_time": "2022-10-19T11:25:41.620765",
     "exception": false,
     "start_time": "2022-10-19T11:25:41.585247",
     "status": "completed"
    },
    "tags": []
   },
   "outputs": [
    {
     "data": {
      "text/plain": [
       "40"
      ]
     },
     "execution_count": 13,
     "metadata": {},
     "output_type": "execute_result"
    }
   ],
   "source": [
    "#Checking number of unique values for the rating\n",
    "df['Rating'].nunique()"
   ]
  },
  {
   "cell_type": "markdown",
   "id": "be999535",
   "metadata": {
    "papermill": {
     "duration": 0.022846,
     "end_time": "2022-10-19T11:25:41.666220",
     "exception": false,
     "start_time": "2022-10-19T11:25:41.643374",
     "status": "completed"
    },
    "tags": []
   },
   "source": [
    "- There are 40 unique ratings in the dataframe"
   ]
  },
  {
   "cell_type": "code",
   "execution_count": 14,
   "id": "021b752c",
   "metadata": {
    "execution": {
     "iopub.execute_input": "2022-10-19T11:25:41.714150Z",
     "iopub.status.busy": "2022-10-19T11:25:41.713398Z",
     "iopub.status.idle": "2022-10-19T11:25:41.721932Z",
     "shell.execute_reply": "2022-10-19T11:25:41.720716Z"
    },
    "papermill": {
     "duration": 0.035543,
     "end_time": "2022-10-19T11:25:41.724394",
     "exception": false,
     "start_time": "2022-10-19T11:25:41.688851",
     "status": "completed"
    },
    "tags": []
   },
   "outputs": [
    {
     "data": {
      "text/plain": [
       "array(['Everyone', 'Teen', 'Everyone 10+', 'Mature 17+',\n",
       "       'Adults only 18+', 'Unrated', nan], dtype=object)"
      ]
     },
     "execution_count": 14,
     "metadata": {},
     "output_type": "execute_result"
    }
   ],
   "source": [
    "# Viewing the content rating; who is permitted to download these apps\n",
    "df[\"Content Rating\"].unique()"
   ]
  },
  {
   "cell_type": "code",
   "execution_count": 15,
   "id": "fac1cdd9",
   "metadata": {
    "execution": {
     "iopub.execute_input": "2022-10-19T11:25:41.772702Z",
     "iopub.status.busy": "2022-10-19T11:25:41.771931Z",
     "iopub.status.idle": "2022-10-19T11:25:41.780220Z",
     "shell.execute_reply": "2022-10-19T11:25:41.779143Z"
    },
    "papermill": {
     "duration": 0.035242,
     "end_time": "2022-10-19T11:25:41.782511",
     "exception": false,
     "start_time": "2022-10-19T11:25:41.747269",
     "status": "completed"
    },
    "tags": []
   },
   "outputs": [
    {
     "data": {
      "text/plain": [
       "7"
      ]
     },
     "execution_count": 15,
     "metadata": {},
     "output_type": "execute_result"
    }
   ],
   "source": [
    "# the number of categories of the age content rating\n",
    "\n",
    "len(df[\"Content Rating\"].unique())"
   ]
  },
  {
   "cell_type": "markdown",
   "id": "3d862eb1",
   "metadata": {
    "papermill": {
     "duration": 0.02238,
     "end_time": "2022-10-19T11:25:41.827716",
     "exception": false,
     "start_time": "2022-10-19T11:25:41.805336",
     "status": "completed"
    },
    "tags": []
   },
   "source": [
    "# Data Cleaning"
   ]
  },
  {
   "cell_type": "code",
   "execution_count": 16,
   "id": "fa657ccb",
   "metadata": {
    "execution": {
     "iopub.execute_input": "2022-10-19T11:25:41.875844Z",
     "iopub.status.busy": "2022-10-19T11:25:41.875096Z",
     "iopub.status.idle": "2022-10-19T11:25:41.894604Z",
     "shell.execute_reply": "2022-10-19T11:25:41.893442Z"
    },
    "papermill": {
     "duration": 0.046892,
     "end_time": "2022-10-19T11:25:41.897326",
     "exception": false,
     "start_time": "2022-10-19T11:25:41.850434",
     "status": "completed"
    },
    "tags": []
   },
   "outputs": [],
   "source": [
    "#Dropping duplicated rows\n",
    "#On play store, two apps may have same name, but all the size, installs, rating, reviews, price need not be same. so using these categories, we will drop the duplicates in the data\n",
    "df.drop_duplicates(['App','Size','Installs','Reviews','Rating','Price','Android Ver'], inplace=True)"
   ]
  },
  {
   "cell_type": "code",
   "execution_count": 17,
   "id": "4a6afbdf",
   "metadata": {
    "execution": {
     "iopub.execute_input": "2022-10-19T11:25:41.945445Z",
     "iopub.status.busy": "2022-10-19T11:25:41.944684Z",
     "iopub.status.idle": "2022-10-19T11:25:41.960745Z",
     "shell.execute_reply": "2022-10-19T11:25:41.959394Z"
    },
    "papermill": {
     "duration": 0.043136,
     "end_time": "2022-10-19T11:25:41.963351",
     "exception": false,
     "start_time": "2022-10-19T11:25:41.920215",
     "status": "completed"
    },
    "tags": []
   },
   "outputs": [
    {
     "data": {
      "text/plain": [
       "App                  0\n",
       "Category             0\n",
       "Rating            1465\n",
       "Reviews              0\n",
       "Size                 0\n",
       "Installs             0\n",
       "Type                 1\n",
       "Price                0\n",
       "Content Rating       1\n",
       "Genres               0\n",
       "Last Updated         0\n",
       "Current Ver          8\n",
       "Android Ver          3\n",
       "dtype: int64"
      ]
     },
     "execution_count": 17,
     "metadata": {},
     "output_type": "execute_result"
    }
   ],
   "source": [
    "#Checking each column in the data for null values\n",
    "df.isnull().sum()\n"
   ]
  },
  {
   "cell_type": "code",
   "execution_count": 18,
   "id": "1c23ed06",
   "metadata": {
    "execution": {
     "iopub.execute_input": "2022-10-19T11:25:42.012143Z",
     "iopub.status.busy": "2022-10-19T11:25:42.011367Z",
     "iopub.status.idle": "2022-10-19T11:25:42.027698Z",
     "shell.execute_reply": "2022-10-19T11:25:42.026711Z"
    },
    "papermill": {
     "duration": 0.043979,
     "end_time": "2022-10-19T11:25:42.030442",
     "exception": false,
     "start_time": "2022-10-19T11:25:41.986463",
     "status": "completed"
    },
    "tags": []
   },
   "outputs": [],
   "source": [
    "# Dropping the entries where there are missing values\n",
    "df=df.dropna()"
   ]
  },
  {
   "cell_type": "code",
   "execution_count": 19,
   "id": "2bd6b961",
   "metadata": {
    "execution": {
     "iopub.execute_input": "2022-10-19T11:25:42.078780Z",
     "iopub.status.busy": "2022-10-19T11:25:42.078025Z",
     "iopub.status.idle": "2022-10-19T11:25:42.093251Z",
     "shell.execute_reply": "2022-10-19T11:25:42.092079Z"
    },
    "papermill": {
     "duration": 0.042197,
     "end_time": "2022-10-19T11:25:42.095617",
     "exception": false,
     "start_time": "2022-10-19T11:25:42.053420",
     "status": "completed"
    },
    "tags": []
   },
   "outputs": [
    {
     "data": {
      "text/plain": [
       "App               0\n",
       "Category          0\n",
       "Rating            0\n",
       "Reviews           0\n",
       "Size              0\n",
       "Installs          0\n",
       "Type              0\n",
       "Price             0\n",
       "Content Rating    0\n",
       "Genres            0\n",
       "Last Updated      0\n",
       "Current Ver       0\n",
       "Android Ver       0\n",
       "dtype: int64"
      ]
     },
     "execution_count": 19,
     "metadata": {},
     "output_type": "execute_result"
    }
   ],
   "source": [
    "df.isnull().sum()"
   ]
  },
  {
   "cell_type": "markdown",
   "id": "ace97124",
   "metadata": {
    "papermill": {
     "duration": 0.022542,
     "end_time": "2022-10-19T11:25:42.141388",
     "exception": false,
     "start_time": "2022-10-19T11:25:42.118846",
     "status": "completed"
    },
    "tags": []
   },
   "source": [
    "# Exploring the Data"
   ]
  },
  {
   "cell_type": "code",
   "execution_count": 20,
   "id": "b9515fda",
   "metadata": {
    "execution": {
     "iopub.execute_input": "2022-10-19T11:25:42.189720Z",
     "iopub.status.busy": "2022-10-19T11:25:42.188968Z",
     "iopub.status.idle": "2022-10-19T11:25:42.198567Z",
     "shell.execute_reply": "2022-10-19T11:25:42.197275Z"
    },
    "papermill": {
     "duration": 0.036717,
     "end_time": "2022-10-19T11:25:42.201001",
     "exception": false,
     "start_time": "2022-10-19T11:25:42.164284",
     "status": "completed"
    },
    "tags": []
   },
   "outputs": [
    {
     "data": {
      "text/plain": [
       "Free    8268\n",
       "Paid     610\n",
       "Name: Type, dtype: int64"
      ]
     },
     "execution_count": 20,
     "metadata": {},
     "output_type": "execute_result"
    }
   ],
   "source": [
    "#Checking unique categories in the Type of the Apps\n",
    "df[\"Type\"].value_counts()"
   ]
  },
  {
   "cell_type": "code",
   "execution_count": 21,
   "id": "0bf7fafc",
   "metadata": {
    "execution": {
     "iopub.execute_input": "2022-10-19T11:25:42.251330Z",
     "iopub.status.busy": "2022-10-19T11:25:42.250538Z",
     "iopub.status.idle": "2022-10-19T11:25:42.455691Z",
     "shell.execute_reply": "2022-10-19T11:25:42.454376Z"
    },
    "papermill": {
     "duration": 0.234543,
     "end_time": "2022-10-19T11:25:42.458666",
     "exception": false,
     "start_time": "2022-10-19T11:25:42.224123",
     "status": "completed"
    },
    "tags": []
   },
   "outputs": [
    {
     "data": {
      "image/png": "[encoded data removed]",
      "text/plain": [
       "<Figure size 432x288 with 1 Axes>"
      ]
     },
     "metadata": {
      "needs_background": "light"
     },
     "output_type": "display_data"
    }
   ],
   "source": [
    "df[\"Type\"].value_counts().plot.bar()\n",
    "plt.ylabel(\"Count\")\n",
    "plt.xlabel(\"Type\")\n",
    "plt.title(\"Value count for the type of app \")\n",
    "plt.xticks(rotation=45)\n",
    "\n",
    "plt.show()"
   ]
  },
  {
   "cell_type": "code",
   "execution_count": 22,
   "id": "e9fc3ed6",
   "metadata": {
    "execution": {
     "iopub.execute_input": "2022-10-19T11:25:42.509741Z",
     "iopub.status.busy": "2022-10-19T11:25:42.509253Z",
     "iopub.status.idle": "2022-10-19T11:25:42.528192Z",
     "shell.execute_reply": "2022-10-19T11:25:42.526973Z"
    },
    "papermill": {
     "duration": 0.047583,
     "end_time": "2022-10-19T11:25:42.531010",
     "exception": false,
     "start_time": "2022-10-19T11:25:42.483427",
     "status": "completed"
    },
    "tags": []
   },
   "outputs": [
    {
     "data": {
      "text/html": [
       "<div>\n",
       "<style scoped>\n",
       "    .dataframe tbody tr th:only-of-type {\n",
       "        vertical-align: middle;\n",
       "    }\n",
       "\n",
       "    .dataframe tbody tr th {\n",
       "        vertical-align: top;\n",
       "    }\n",
       "\n",
       "    .dataframe thead th {\n",
       "        text-align: right;\n",
       "    }\n",
       "</style>\n",
       "<table border=\"1\" class=\"dataframe\">\n",
       "  <thead>\n",
       "    <tr style=\"text-align: right;\">\n",
       "      <th></th>\n",
       "      <th>Rating</th>\n",
       "    </tr>\n",
       "  </thead>\n",
       "  <tbody>\n",
       "    <tr>\n",
       "      <th>count</th>\n",
       "      <td>8878.000000</td>\n",
       "    </tr>\n",
       "    <tr>\n",
       "      <th>mean</th>\n",
       "      <td>4.187745</td>\n",
       "    </tr>\n",
       "    <tr>\n",
       "      <th>std</th>\n",
       "      <td>0.522572</td>\n",
       "    </tr>\n",
       "    <tr>\n",
       "      <th>min</th>\n",
       "      <td>1.000000</td>\n",
       "    </tr>\n",
       "    <tr>\n",
       "      <th>25%</th>\n",
       "      <td>4.000000</td>\n",
       "    </tr>\n",
       "    <tr>\n",
       "      <th>50%</th>\n",
       "      <td>4.300000</td>\n",
       "    </tr>\n",
       "    <tr>\n",
       "      <th>75%</th>\n",
       "      <td>4.500000</td>\n",
       "    </tr>\n",
       "    <tr>\n",
       "      <th>max</th>\n",
       "      <td>5.000000</td>\n",
       "    </tr>\n",
       "  </tbody>\n",
       "</table>\n",
       "</div>"
      ],
      "text/plain": [
       "            Rating\n",
       "count  8878.000000\n",
       "mean      4.187745\n",
       "std       0.522572\n",
       "min       1.000000\n",
       "25%       4.000000\n",
       "50%       4.300000\n",
       "75%       4.500000\n",
       "max       5.000000"
      ]
     },
     "execution_count": 22,
     "metadata": {},
     "output_type": "execute_result"
    }
   ],
   "source": [
    "#Looking for the description of data set\n",
    "df.describe()"
   ]
  },
  {
   "cell_type": "code",
   "execution_count": 23,
   "id": "565df500",
   "metadata": {
    "execution": {
     "iopub.execute_input": "2022-10-19T11:25:42.581994Z",
     "iopub.status.busy": "2022-10-19T11:25:42.580643Z",
     "iopub.status.idle": "2022-10-19T11:25:42.590143Z",
     "shell.execute_reply": "2022-10-19T11:25:42.589133Z"
    },
    "papermill": {
     "duration": 0.037315,
     "end_time": "2022-10-19T11:25:42.592636",
     "exception": false,
     "start_time": "2022-10-19T11:25:42.555321",
     "status": "completed"
    },
    "tags": []
   },
   "outputs": [],
   "source": [
    "# Converting the data in the column \"Reviews\" to float to that we can apply statistics\n",
    "df.Reviews= df.Reviews.astype(float) "
   ]
  },
  {
   "cell_type": "code",
   "execution_count": 24,
   "id": "466ffc29",
   "metadata": {
    "execution": {
     "iopub.execute_input": "2022-10-19T11:25:42.643490Z",
     "iopub.status.busy": "2022-10-19T11:25:42.642166Z",
     "iopub.status.idle": "2022-10-19T11:25:42.664168Z",
     "shell.execute_reply": "2022-10-19T11:25:42.663139Z"
    },
    "papermill": {
     "duration": 0.049359,
     "end_time": "2022-10-19T11:25:42.666456",
     "exception": false,
     "start_time": "2022-10-19T11:25:42.617097",
     "status": "completed"
    },
    "tags": []
   },
   "outputs": [
    {
     "data": {
      "text/html": [
       "<div>\n",
       "<style scoped>\n",
       "    .dataframe tbody tr th:only-of-type {\n",
       "        vertical-align: middle;\n",
       "    }\n",
       "\n",
       "    .dataframe tbody tr th {\n",
       "        vertical-align: top;\n",
       "    }\n",
       "\n",
       "    .dataframe thead th {\n",
       "        text-align: right;\n",
       "    }\n",
       "</style>\n",
       "<table border=\"1\" class=\"dataframe\">\n",
       "  <thead>\n",
       "    <tr style=\"text-align: right;\">\n",
       "      <th></th>\n",
       "      <th>Rating</th>\n",
       "      <th>Reviews</th>\n",
       "    </tr>\n",
       "  </thead>\n",
       "  <tbody>\n",
       "    <tr>\n",
       "      <th>count</th>\n",
       "      <td>8878.000000</td>\n",
       "      <td>8.878000e+03</td>\n",
       "    </tr>\n",
       "    <tr>\n",
       "      <th>mean</th>\n",
       "      <td>4.187745</td>\n",
       "      <td>4.729619e+05</td>\n",
       "    </tr>\n",
       "    <tr>\n",
       "      <th>std</th>\n",
       "      <td>0.522572</td>\n",
       "      <td>2.906987e+06</td>\n",
       "    </tr>\n",
       "    <tr>\n",
       "      <th>min</th>\n",
       "      <td>1.000000</td>\n",
       "      <td>1.000000e+00</td>\n",
       "    </tr>\n",
       "    <tr>\n",
       "      <th>25%</th>\n",
       "      <td>4.000000</td>\n",
       "      <td>1.640000e+02</td>\n",
       "    </tr>\n",
       "    <tr>\n",
       "      <th>50%</th>\n",
       "      <td>4.300000</td>\n",
       "      <td>4.708000e+03</td>\n",
       "    </tr>\n",
       "    <tr>\n",
       "      <th>75%</th>\n",
       "      <td>4.500000</td>\n",
       "      <td>7.119725e+04</td>\n",
       "    </tr>\n",
       "    <tr>\n",
       "      <th>max</th>\n",
       "      <td>5.000000</td>\n",
       "      <td>7.815831e+07</td>\n",
       "    </tr>\n",
       "  </tbody>\n",
       "</table>\n",
       "</div>"
      ],
      "text/plain": [
       "            Rating       Reviews\n",
       "count  8878.000000  8.878000e+03\n",
       "mean      4.187745  4.729619e+05\n",
       "std       0.522572  2.906987e+06\n",
       "min       1.000000  1.000000e+00\n",
       "25%       4.000000  1.640000e+02\n",
       "50%       4.300000  4.708000e+03\n",
       "75%       4.500000  7.119725e+04\n",
       "max       5.000000  7.815831e+07"
      ]
     },
     "execution_count": 24,
     "metadata": {},
     "output_type": "execute_result"
    }
   ],
   "source": [
    "df.describe()"
   ]
  },
  {
   "cell_type": "code",
   "execution_count": 25,
   "id": "88f8dd1e",
   "metadata": {
    "execution": {
     "iopub.execute_input": "2022-10-19T11:25:42.716468Z",
     "iopub.status.busy": "2022-10-19T11:25:42.715653Z",
     "iopub.status.idle": "2022-10-19T11:25:42.733788Z",
     "shell.execute_reply": "2022-10-19T11:25:42.732525Z"
    },
    "papermill": {
     "duration": 0.046112,
     "end_time": "2022-10-19T11:25:42.736407",
     "exception": false,
     "start_time": "2022-10-19T11:25:42.690295",
     "status": "completed"
    },
    "tags": []
   },
   "outputs": [
    {
     "data": {
      "text/html": [
       "<div>\n",
       "<style scoped>\n",
       "    .dataframe tbody tr th:only-of-type {\n",
       "        vertical-align: middle;\n",
       "    }\n",
       "\n",
       "    .dataframe tbody tr th {\n",
       "        vertical-align: top;\n",
       "    }\n",
       "\n",
       "    .dataframe thead th {\n",
       "        text-align: right;\n",
       "    }\n",
       "</style>\n",
       "<table border=\"1\" class=\"dataframe\">\n",
       "  <thead>\n",
       "    <tr style=\"text-align: right;\">\n",
       "      <th></th>\n",
       "      <th>App</th>\n",
       "      <th>Category</th>\n",
       "      <th>Rating</th>\n",
       "      <th>Reviews</th>\n",
       "      <th>Size</th>\n",
       "      <th>Installs</th>\n",
       "      <th>Type</th>\n",
       "      <th>Price</th>\n",
       "      <th>Content Rating</th>\n",
       "      <th>Genres</th>\n",
       "      <th>Last Updated</th>\n",
       "      <th>Current Ver</th>\n",
       "      <th>Android Ver</th>\n",
       "    </tr>\n",
       "  </thead>\n",
       "  <tbody>\n",
       "    <tr>\n",
       "      <th>0</th>\n",
       "      <td>Photo Editor &amp; Candy Camera &amp; Grid &amp; ScrapBook</td>\n",
       "      <td>ART_AND_DESIGN</td>\n",
       "      <td>4.1</td>\n",
       "      <td>159.0</td>\n",
       "      <td>19M</td>\n",
       "      <td>10,000+</td>\n",
       "      <td>Free</td>\n",
       "      <td>0</td>\n",
       "      <td>Everyone</td>\n",
       "      <td>Art &amp; Design</td>\n",
       "      <td>January 7, 2018</td>\n",
       "      <td>1.0.0</td>\n",
       "      <td>4.0.3 and up</td>\n",
       "    </tr>\n",
       "    <tr>\n",
       "      <th>1</th>\n",
       "      <td>Coloring book moana</td>\n",
       "      <td>ART_AND_DESIGN</td>\n",
       "      <td>3.9</td>\n",
       "      <td>967.0</td>\n",
       "      <td>14M</td>\n",
       "      <td>500,000+</td>\n",
       "      <td>Free</td>\n",
       "      <td>0</td>\n",
       "      <td>Everyone</td>\n",
       "      <td>Art &amp; Design;Pretend Play</td>\n",
       "      <td>January 15, 2018</td>\n",
       "      <td>2.0.0</td>\n",
       "      <td>4.0.3 and up</td>\n",
       "    </tr>\n",
       "  </tbody>\n",
       "</table>\n",
       "</div>"
      ],
      "text/plain": [
       "                                              App        Category  Rating  \\\n",
       "0  Photo Editor & Candy Camera & Grid & ScrapBook  ART_AND_DESIGN     4.1   \n",
       "1                             Coloring book moana  ART_AND_DESIGN     3.9   \n",
       "\n",
       "   Reviews Size  Installs  Type Price Content Rating  \\\n",
       "0    159.0  19M   10,000+  Free     0       Everyone   \n",
       "1    967.0  14M  500,000+  Free     0       Everyone   \n",
       "\n",
       "                      Genres      Last Updated Current Ver   Android Ver  \n",
       "0               Art & Design   January 7, 2018       1.0.0  4.0.3 and up  \n",
       "1  Art & Design;Pretend Play  January 15, 2018       2.0.0  4.0.3 and up  "
      ]
     },
     "execution_count": 25,
     "metadata": {},
     "output_type": "execute_result"
    }
   ],
   "source": [
    "df.head(2)"
   ]
  },
  {
   "cell_type": "code",
   "execution_count": 26,
   "id": "80bb38c6",
   "metadata": {
    "execution": {
     "iopub.execute_input": "2022-10-19T11:25:42.786984Z",
     "iopub.status.busy": "2022-10-19T11:25:42.786481Z",
     "iopub.status.idle": "2022-10-19T11:25:42.799294Z",
     "shell.execute_reply": "2022-10-19T11:25:42.797929Z"
    },
    "papermill": {
     "duration": 0.041176,
     "end_time": "2022-10-19T11:25:42.802291",
     "exception": false,
     "start_time": "2022-10-19T11:25:42.761115",
     "status": "completed"
    },
    "tags": []
   },
   "outputs": [],
   "source": [
    "# To convert the column \"Installs\" into float\n",
    "# So, firstly remove the \"+\"\n",
    "df.Installs= df[\"Installs\"].str.replace(\"+\", \"\")"
   ]
  },
  {
   "cell_type": "code",
   "execution_count": 27,
   "id": "a7d3ffd0",
   "metadata": {
    "execution": {
     "iopub.execute_input": "2022-10-19T11:25:42.854577Z",
     "iopub.status.busy": "2022-10-19T11:25:42.853151Z",
     "iopub.status.idle": "2022-10-19T11:25:42.864984Z",
     "shell.execute_reply": "2022-10-19T11:25:42.864018Z"
    },
    "papermill": {
     "duration": 0.041205,
     "end_time": "2022-10-19T11:25:42.867606",
     "exception": false,
     "start_time": "2022-10-19T11:25:42.826401",
     "status": "completed"
    },
    "tags": []
   },
   "outputs": [],
   "source": [
    "# While converting the column into float,we have to remove ',' to\n",
    "# So, removing the commas\n",
    "df.Installs= df[\"Installs\"].str.replace(\",\", \"\")"
   ]
  },
  {
   "cell_type": "code",
   "execution_count": 28,
   "id": "570869db",
   "metadata": {
    "execution": {
     "iopub.execute_input": "2022-10-19T11:25:42.917868Z",
     "iopub.status.busy": "2022-10-19T11:25:42.917107Z",
     "iopub.status.idle": "2022-10-19T11:25:42.937240Z",
     "shell.execute_reply": "2022-10-19T11:25:42.935941Z"
    },
    "papermill": {
     "duration": 0.047905,
     "end_time": "2022-10-19T11:25:42.939583",
     "exception": false,
     "start_time": "2022-10-19T11:25:42.891678",
     "status": "completed"
    },
    "tags": []
   },
   "outputs": [
    {
     "data": {
      "text/html": [
       "<div>\n",
       "<style scoped>\n",
       "    .dataframe tbody tr th:only-of-type {\n",
       "        vertical-align: middle;\n",
       "    }\n",
       "\n",
       "    .dataframe tbody tr th {\n",
       "        vertical-align: top;\n",
       "    }\n",
       "\n",
       "    .dataframe thead th {\n",
       "        text-align: right;\n",
       "    }\n",
       "</style>\n",
       "<table border=\"1\" class=\"dataframe\">\n",
       "  <thead>\n",
       "    <tr style=\"text-align: right;\">\n",
       "      <th></th>\n",
       "      <th>App</th>\n",
       "      <th>Category</th>\n",
       "      <th>Rating</th>\n",
       "      <th>Reviews</th>\n",
       "      <th>Size</th>\n",
       "      <th>Installs</th>\n",
       "      <th>Type</th>\n",
       "      <th>Price</th>\n",
       "      <th>Content Rating</th>\n",
       "      <th>Genres</th>\n",
       "      <th>Last Updated</th>\n",
       "      <th>Current Ver</th>\n",
       "      <th>Android Ver</th>\n",
       "    </tr>\n",
       "  </thead>\n",
       "  <tbody>\n",
       "    <tr>\n",
       "      <th>0</th>\n",
       "      <td>Photo Editor &amp; Candy Camera &amp; Grid &amp; ScrapBook</td>\n",
       "      <td>ART_AND_DESIGN</td>\n",
       "      <td>4.1</td>\n",
       "      <td>159.0</td>\n",
       "      <td>19M</td>\n",
       "      <td>10000</td>\n",
       "      <td>Free</td>\n",
       "      <td>0</td>\n",
       "      <td>Everyone</td>\n",
       "      <td>Art &amp; Design</td>\n",
       "      <td>January 7, 2018</td>\n",
       "      <td>1.0.0</td>\n",
       "      <td>4.0.3 and up</td>\n",
       "    </tr>\n",
       "    <tr>\n",
       "      <th>1</th>\n",
       "      <td>Coloring book moana</td>\n",
       "      <td>ART_AND_DESIGN</td>\n",
       "      <td>3.9</td>\n",
       "      <td>967.0</td>\n",
       "      <td>14M</td>\n",
       "      <td>500000</td>\n",
       "      <td>Free</td>\n",
       "      <td>0</td>\n",
       "      <td>Everyone</td>\n",
       "      <td>Art &amp; Design;Pretend Play</td>\n",
       "      <td>January 15, 2018</td>\n",
       "      <td>2.0.0</td>\n",
       "      <td>4.0.3 and up</td>\n",
       "    </tr>\n",
       "  </tbody>\n",
       "</table>\n",
       "</div>"
      ],
      "text/plain": [
       "                                              App        Category  Rating  \\\n",
       "0  Photo Editor & Candy Camera & Grid & ScrapBook  ART_AND_DESIGN     4.1   \n",
       "1                             Coloring book moana  ART_AND_DESIGN     3.9   \n",
       "\n",
       "   Reviews Size Installs  Type Price Content Rating  \\\n",
       "0    159.0  19M    10000  Free     0       Everyone   \n",
       "1    967.0  14M   500000  Free     0       Everyone   \n",
       "\n",
       "                      Genres      Last Updated Current Ver   Android Ver  \n",
       "0               Art & Design   January 7, 2018       1.0.0  4.0.3 and up  \n",
       "1  Art & Design;Pretend Play  January 15, 2018       2.0.0  4.0.3 and up  "
      ]
     },
     "execution_count": 28,
     "metadata": {},
     "output_type": "execute_result"
    }
   ],
   "source": [
    "df.head(2)"
   ]
  },
  {
   "cell_type": "code",
   "execution_count": 29,
   "id": "848485dd",
   "metadata": {
    "execution": {
     "iopub.execute_input": "2022-10-19T11:25:42.991074Z",
     "iopub.status.busy": "2022-10-19T11:25:42.990592Z",
     "iopub.status.idle": "2022-10-19T11:25:43.003184Z",
     "shell.execute_reply": "2022-10-19T11:25:43.001854Z"
    },
    "papermill": {
     "duration": 0.041697,
     "end_time": "2022-10-19T11:25:43.005822",
     "exception": false,
     "start_time": "2022-10-19T11:25:42.964125",
     "status": "completed"
    },
    "tags": []
   },
   "outputs": [],
   "source": [
    "df[\"Installs\"] = pd.to_numeric(df[\"Installs\"])"
   ]
  },
  {
   "cell_type": "code",
   "execution_count": 30,
   "id": "e05359c1",
   "metadata": {
    "execution": {
     "iopub.execute_input": "2022-10-19T11:25:43.058094Z",
     "iopub.status.busy": "2022-10-19T11:25:43.057588Z",
     "iopub.status.idle": "2022-10-19T11:25:43.069040Z",
     "shell.execute_reply": "2022-10-19T11:25:43.067435Z"
    },
    "papermill": {
     "duration": 0.040871,
     "end_time": "2022-10-19T11:25:43.071688",
     "exception": false,
     "start_time": "2022-10-19T11:25:43.030817",
     "status": "completed"
    },
    "tags": []
   },
   "outputs": [],
   "source": [
    "# Removing \"$\" from the data entries in the column \"Price\" so that it can be converted to float\n",
    "df[\"Price\"]= df[\"Price\"].str.replace(\"$\", \"\")"
   ]
  },
  {
   "cell_type": "code",
   "execution_count": 31,
   "id": "994ba400",
   "metadata": {
    "execution": {
     "iopub.execute_input": "2022-10-19T11:25:43.126588Z",
     "iopub.status.busy": "2022-10-19T11:25:43.126134Z",
     "iopub.status.idle": "2022-10-19T11:25:43.136564Z",
     "shell.execute_reply": "2022-10-19T11:25:43.135342Z"
    },
    "papermill": {
     "duration": 0.041548,
     "end_time": "2022-10-19T11:25:43.139269",
     "exception": false,
     "start_time": "2022-10-19T11:25:43.097721",
     "status": "completed"
    },
    "tags": []
   },
   "outputs": [],
   "source": [
    "# Convert the data in \"Price\" to float\n",
    "df[\"Price\"]= df.Price.astype(float)"
   ]
  },
  {
   "cell_type": "code",
   "execution_count": 32,
   "id": "5de75fd4",
   "metadata": {
    "execution": {
     "iopub.execute_input": "2022-10-19T11:25:43.198782Z",
     "iopub.status.busy": "2022-10-19T11:25:43.197685Z",
     "iopub.status.idle": "2022-10-19T11:25:43.227697Z",
     "shell.execute_reply": "2022-10-19T11:25:43.226376Z"
    },
    "papermill": {
     "duration": 0.065742,
     "end_time": "2022-10-19T11:25:43.230340",
     "exception": false,
     "start_time": "2022-10-19T11:25:43.164598",
     "status": "completed"
    },
    "tags": []
   },
   "outputs": [
    {
     "data": {
      "text/html": [
       "<div>\n",
       "<style scoped>\n",
       "    .dataframe tbody tr th:only-of-type {\n",
       "        vertical-align: middle;\n",
       "    }\n",
       "\n",
       "    .dataframe tbody tr th {\n",
       "        vertical-align: top;\n",
       "    }\n",
       "\n",
       "    .dataframe thead th {\n",
       "        text-align: right;\n",
       "    }\n",
       "</style>\n",
       "<table border=\"1\" class=\"dataframe\">\n",
       "  <thead>\n",
       "    <tr style=\"text-align: right;\">\n",
       "      <th></th>\n",
       "      <th>Rating</th>\n",
       "      <th>Reviews</th>\n",
       "      <th>Installs</th>\n",
       "      <th>Price</th>\n",
       "    </tr>\n",
       "  </thead>\n",
       "  <tbody>\n",
       "    <tr>\n",
       "      <th>count</th>\n",
       "      <td>8878.000000</td>\n",
       "      <td>8.878000e+03</td>\n",
       "      <td>8.878000e+03</td>\n",
       "      <td>8878.000000</td>\n",
       "    </tr>\n",
       "    <tr>\n",
       "      <th>mean</th>\n",
       "      <td>4.187745</td>\n",
       "      <td>4.729619e+05</td>\n",
       "      <td>1.649903e+07</td>\n",
       "      <td>0.963719</td>\n",
       "    </tr>\n",
       "    <tr>\n",
       "      <th>std</th>\n",
       "      <td>0.522572</td>\n",
       "      <td>2.906987e+06</td>\n",
       "      <td>8.643798e+07</td>\n",
       "      <td>16.201978</td>\n",
       "    </tr>\n",
       "    <tr>\n",
       "      <th>min</th>\n",
       "      <td>1.000000</td>\n",
       "      <td>1.000000e+00</td>\n",
       "      <td>1.000000e+00</td>\n",
       "      <td>0.000000</td>\n",
       "    </tr>\n",
       "    <tr>\n",
       "      <th>25%</th>\n",
       "      <td>4.000000</td>\n",
       "      <td>1.640000e+02</td>\n",
       "      <td>1.000000e+04</td>\n",
       "      <td>0.000000</td>\n",
       "    </tr>\n",
       "    <tr>\n",
       "      <th>50%</th>\n",
       "      <td>4.300000</td>\n",
       "      <td>4.708000e+03</td>\n",
       "      <td>5.000000e+05</td>\n",
       "      <td>0.000000</td>\n",
       "    </tr>\n",
       "    <tr>\n",
       "      <th>75%</th>\n",
       "      <td>4.500000</td>\n",
       "      <td>7.119725e+04</td>\n",
       "      <td>5.000000e+06</td>\n",
       "      <td>0.000000</td>\n",
       "    </tr>\n",
       "    <tr>\n",
       "      <th>max</th>\n",
       "      <td>5.000000</td>\n",
       "      <td>7.815831e+07</td>\n",
       "      <td>1.000000e+09</td>\n",
       "      <td>400.000000</td>\n",
       "    </tr>\n",
       "  </tbody>\n",
       "</table>\n",
       "</div>"
      ],
      "text/plain": [
       "            Rating       Reviews      Installs        Price\n",
       "count  8878.000000  8.878000e+03  8.878000e+03  8878.000000\n",
       "mean      4.187745  4.729619e+05  1.649903e+07     0.963719\n",
       "std       0.522572  2.906987e+06  8.643798e+07    16.201978\n",
       "min       1.000000  1.000000e+00  1.000000e+00     0.000000\n",
       "25%       4.000000  1.640000e+02  1.000000e+04     0.000000\n",
       "50%       4.300000  4.708000e+03  5.000000e+05     0.000000\n",
       "75%       4.500000  7.119725e+04  5.000000e+06     0.000000\n",
       "max       5.000000  7.815831e+07  1.000000e+09   400.000000"
      ]
     },
     "execution_count": 32,
     "metadata": {},
     "output_type": "execute_result"
    }
   ],
   "source": [
    "# the data in the column \"Prics\" successfully converted to float\n",
    "# In these columns i can do various statistical applications\n",
    "df.describe()"
   ]
  },
  {
   "cell_type": "code",
   "execution_count": 33,
   "id": "0fac1ef5",
   "metadata": {
    "execution": {
     "iopub.execute_input": "2022-10-19T11:25:43.282500Z",
     "iopub.status.busy": "2022-10-19T11:25:43.282018Z",
     "iopub.status.idle": "2022-10-19T11:25:43.527643Z",
     "shell.execute_reply": "2022-10-19T11:25:43.526612Z"
    },
    "papermill": {
     "duration": 0.274418,
     "end_time": "2022-10-19T11:25:43.529986",
     "exception": false,
     "start_time": "2022-10-19T11:25:43.255568",
     "status": "completed"
    },
    "tags": []
   },
   "outputs": [
    {
     "data": {
      "image/png": "[encoded data removed]",
      "text/plain": [
       "<Figure size 720x360 with 2 Axes>"
      ]
     },
     "metadata": {
      "needs_background": "light"
     },
     "output_type": "display_data"
    }
   ],
   "source": [
    "#Correlation Heatmap\n",
    "plt.figure(figsize=(10,5))\n",
    "corr= df.corr()\n",
    "sns.heatmap(corr, annot=True)\n",
    "plt.show()"
   ]
  },
  {
   "cell_type": "code",
   "execution_count": 34,
   "id": "fd516fab",
   "metadata": {
    "execution": {
     "iopub.execute_input": "2022-10-19T11:25:43.585257Z",
     "iopub.status.busy": "2022-10-19T11:25:43.584455Z",
     "iopub.status.idle": "2022-10-19T11:25:43.595326Z",
     "shell.execute_reply": "2022-10-19T11:25:43.593697Z"
    },
    "papermill": {
     "duration": 0.04263,
     "end_time": "2022-10-19T11:25:43.598860",
     "exception": false,
     "start_time": "2022-10-19T11:25:43.556230",
     "status": "completed"
    },
    "tags": []
   },
   "outputs": [
    {
     "data": {
      "text/plain": [
       "array(['19M', '14M', '8.7M', '25M', '2.8M', '5.6M', '29M', '33M', '3.1M',\n",
       "       '28M', '12M', '20M', '21M', '37M', '5.5M', '17M', '39M', '31M',\n",
       "       '4.2M', '23M', '6.0M', '6.1M', '4.6M', '9.2M', '5.2M', '11M',\n",
       "       '24M', 'Varies with device', '9.4M', '15M', '10M', '1.2M', '26M',\n",
       "       '8.0M', '7.9M', '56M', '57M', '35M', '54M', '201k', '3.6M', '5.7M',\n",
       "       '8.6M', '2.4M', '27M', '2.7M', '2.5M', '7.0M', '16M', '3.4M',\n",
       "       '8.9M', '3.9M', '2.9M', '38M', '32M', '5.4M', '18M', '1.1M',\n",
       "       '2.2M', '4.5M', '9.8M', '52M', '9.0M', '6.7M', '30M', '2.6M',\n",
       "       '7.1M', '22M', '6.4M', '3.2M', '8.2M', '4.9M', '9.5M', '5.0M',\n",
       "       '5.9M', '13M', '73M', '6.8M', '3.5M', '4.0M', '2.3M', '2.1M',\n",
       "       '42M', '9.1M', '55M', '23k', '7.3M', '6.5M', '1.5M', '7.5M', '51M',\n",
       "       '41M', '48M', '8.5M', '46M', '8.3M', '4.3M', '4.7M', '3.3M', '40M',\n",
       "       '7.8M', '8.8M', '6.6M', '5.1M', '61M', '66M', '79k', '8.4M',\n",
       "       '3.7M', '118k', '44M', '695k', '1.6M', '6.2M', '53M', '1.4M',\n",
       "       '3.0M', '7.2M', '5.8M', '3.8M', '9.6M', '45M', '63M', '49M', '77M',\n",
       "       '4.4M', '70M', '9.3M', '8.1M', '36M', '6.9M', '7.4M', '84M', '97M',\n",
       "       '2.0M', '1.9M', '1.8M', '5.3M', '47M', '556k', '526k', '76M',\n",
       "       '7.6M', '59M', '9.7M', '78M', '72M', '43M', '7.7M', '6.3M', '334k',\n",
       "       '93M', '65M', '79M', '100M', '58M', '50M', '68M', '64M', '34M',\n",
       "       '67M', '60M', '94M', '9.9M', '232k', '99M', '624k', '95M', '8.5k',\n",
       "       '41k', '292k', '80M', '1.7M', '10.0M', '74M', '62M', '69M', '75M',\n",
       "       '98M', '85M', '82M', '96M', '87M', '71M', '86M', '91M', '81M',\n",
       "       '92M', '83M', '88M', '704k', '862k', '899k', '378k', '4.8M',\n",
       "       '266k', '375k', '1.3M', '975k', '980k', '4.1M', '89M', '696k',\n",
       "       '544k', '525k', '920k', '779k', '853k', '720k', '713k', '772k',\n",
       "       '318k', '58k', '241k', '196k', '857k', '51k', '953k', '865k',\n",
       "       '251k', '930k', '540k', '313k', '746k', '203k', '26k', '314k',\n",
       "       '239k', '371k', '220k', '730k', '756k', '91k', '293k', '17k',\n",
       "       '74k', '14k', '317k', '78k', '924k', '818k', '81k', '939k', '169k',\n",
       "       '45k', '965k', '90M', '545k', '61k', '283k', '655k', '714k', '93k',\n",
       "       '872k', '121k', '322k', '976k', '206k', '954k', '444k', '717k',\n",
       "       '210k', '609k', '308k', '306k', '175k', '350k', '383k', '454k',\n",
       "       '1.0M', '70k', '812k', '442k', '842k', '417k', '412k', '459k',\n",
       "       '478k', '335k', '782k', '721k', '430k', '429k', '192k', '460k',\n",
       "       '728k', '496k', '816k', '414k', '506k', '887k', '613k', '778k',\n",
       "       '683k', '592k', '186k', '840k', '647k', '373k', '437k', '598k',\n",
       "       '716k', '585k', '982k', '219k', '55k', '323k', '691k', '511k',\n",
       "       '951k', '963k', '25k', '554k', '351k', '27k', '82k', '208k',\n",
       "       '551k', '29k', '103k', '116k', '153k', '209k', '499k', '173k',\n",
       "       '597k', '809k', '122k', '411k', '400k', '801k', '787k', '50k',\n",
       "       '643k', '986k', '516k', '837k', '780k', '20k', '498k', '600k',\n",
       "       '656k', '221k', '228k', '176k', '34k', '259k', '164k', '458k',\n",
       "       '629k', '28k', '288k', '775k', '785k', '636k', '916k', '994k',\n",
       "       '309k', '485k', '914k', '903k', '608k', '500k', '54k', '562k',\n",
       "       '847k', '948k', '811k', '270k', '48k', '523k', '784k', '280k',\n",
       "       '24k', '892k', '154k', '18k', '33k', '860k', '364k', '387k',\n",
       "       '626k', '161k', '879k', '39k', '170k', '141k', '160k', '144k',\n",
       "       '143k', '190k', '376k', '193k', '473k', '246k', '73k', '253k',\n",
       "       '957k', '420k', '72k', '404k', '470k', '226k', '240k', '89k',\n",
       "       '234k', '257k', '861k', '467k', '676k', '552k', '582k', '619k'],\n",
       "      dtype=object)"
      ]
     },
     "execution_count": 34,
     "metadata": {},
     "output_type": "execute_result"
    }
   ],
   "source": [
    "# procedure for converting the column \"Size\" to float\n",
    "# there are sizes counted in mb, kb, in numbers without measurement unit and with \"varies with device\"\n",
    "df.Size.unique()"
   ]
  },
  {
   "cell_type": "code",
   "execution_count": 35,
   "id": "6e1a42a5",
   "metadata": {
    "execution": {
     "iopub.execute_input": "2022-10-19T11:25:43.652992Z",
     "iopub.status.busy": "2022-10-19T11:25:43.652478Z",
     "iopub.status.idle": "2022-10-19T11:25:43.672657Z",
     "shell.execute_reply": "2022-10-19T11:25:43.671224Z"
    },
    "papermill": {
     "duration": 0.050319,
     "end_time": "2022-10-19T11:25:43.675458",
     "exception": false,
     "start_time": "2022-10-19T11:25:43.625139",
     "status": "completed"
    },
    "tags": []
   },
   "outputs": [],
   "source": [
    "# removing the \"m\" which is the mb for the size\n",
    "df.Size= df[\"Size\"].str.replace(\"M\", \"\")\n",
    "df.Size= df['Size'].str.replace(\"Varies with device\",\"-1\")"
   ]
  },
  {
   "cell_type": "code",
   "execution_count": 36,
   "id": "c460204a",
   "metadata": {
    "execution": {
     "iopub.execute_input": "2022-10-19T11:25:43.730411Z",
     "iopub.status.busy": "2022-10-19T11:25:43.728970Z",
     "iopub.status.idle": "2022-10-19T11:25:43.740126Z",
     "shell.execute_reply": "2022-10-19T11:25:43.739133Z"
    },
    "papermill": {
     "duration": 0.041241,
     "end_time": "2022-10-19T11:25:43.742901",
     "exception": false,
     "start_time": "2022-10-19T11:25:43.701660",
     "status": "completed"
    },
    "tags": []
   },
   "outputs": [],
   "source": [
    "#Here we replace k and change the unit to Mb\n",
    "df['Size']=df['Size'].apply(lambda x: str(round((float(x.rstrip('k'))/1024),1) )if x[-1]=='k' else x)"
   ]
  },
  {
   "cell_type": "code",
   "execution_count": 37,
   "id": "6eac1075",
   "metadata": {
    "execution": {
     "iopub.execute_input": "2022-10-19T11:25:43.796260Z",
     "iopub.status.busy": "2022-10-19T11:25:43.795769Z",
     "iopub.status.idle": "2022-10-19T11:25:43.805541Z",
     "shell.execute_reply": "2022-10-19T11:25:43.804562Z"
    },
    "papermill": {
     "duration": 0.039196,
     "end_time": "2022-10-19T11:25:43.807861",
     "exception": false,
     "start_time": "2022-10-19T11:25:43.768665",
     "status": "completed"
    },
    "tags": []
   },
   "outputs": [
    {
     "data": {
      "text/plain": [
       "array(['19', '14', '8.7', '25', '2.8', '5.6', '29', '33', '3.1', '28',\n",
       "       '12', '20', '21', '37', '5.5', '17', '39', '31', '4.2', '23',\n",
       "       '6.0', '6.1', '4.6', '9.2', '5.2', '11', '24', '-1', '9.4', '15',\n",
       "       '10', '1.2', '26', '8.0', '7.9', '56', '57', '35', '54', '0.2',\n",
       "       '3.6', '5.7', '8.6', '2.4', '27', '2.7', '2.5', '7.0', '16', '3.4',\n",
       "       '8.9', '3.9', '2.9', '38', '32', '5.4', '18', '1.1', '2.2', '4.5',\n",
       "       '9.8', '52', '9.0', '6.7', '30', '2.6', '7.1', '22', '6.4', '3.2',\n",
       "       '8.2', '4.9', '9.5', '5.0', '5.9', '13', '73', '6.8', '3.5', '4.0',\n",
       "       '2.3', '2.1', '42', '9.1', '55', '0.0', '7.3', '6.5', '1.5', '7.5',\n",
       "       '51', '41', '48', '8.5', '46', '8.3', '4.3', '4.7', '3.3', '40',\n",
       "       '7.8', '8.8', '6.6', '5.1', '61', '66', '0.1', '8.4', '3.7', '44',\n",
       "       '0.7', '1.6', '6.2', '53', '1.4', '3.0', '7.2', '5.8', '3.8',\n",
       "       '9.6', '45', '63', '49', '77', '4.4', '70', '9.3', '8.1', '36',\n",
       "       '6.9', '7.4', '84', '97', '2.0', '1.9', '1.8', '5.3', '47', '0.5',\n",
       "       '76', '7.6', '59', '9.7', '78', '72', '43', '7.7', '6.3', '0.3',\n",
       "       '93', '65', '79', '100', '58', '50', '68', '64', '34', '67', '60',\n",
       "       '94', '9.9', '99', '0.6', '95', '80', '1.7', '10.0', '74', '62',\n",
       "       '69', '75', '98', '85', '82', '96', '87', '71', '86', '91', '81',\n",
       "       '92', '83', '88', '0.8', '0.9', '0.4', '4.8', '1.3', '1.0', '4.1',\n",
       "       '89', '90'], dtype=object)"
      ]
     },
     "execution_count": 37,
     "metadata": {},
     "output_type": "execute_result"
    }
   ],
   "source": [
    "df.Size.unique()"
   ]
  },
  {
   "cell_type": "code",
   "execution_count": 38,
   "id": "8936d922",
   "metadata": {
    "execution": {
     "iopub.execute_input": "2022-10-19T11:25:43.861217Z",
     "iopub.status.busy": "2022-10-19T11:25:43.860363Z",
     "iopub.status.idle": "2022-10-19T11:25:43.867929Z",
     "shell.execute_reply": "2022-10-19T11:25:43.867043Z"
    },
    "papermill": {
     "duration": 0.037163,
     "end_time": "2022-10-19T11:25:43.870401",
     "exception": false,
     "start_time": "2022-10-19T11:25:43.833238",
     "status": "completed"
    },
    "tags": []
   },
   "outputs": [],
   "source": [
    "#As the columns of Genres is same as the column for category, we drop the column for Genres.\n",
    "#Also, the column of android version, current version, Last updated are not of our use, so we drop these columns.\n",
    "df.drop(['Genres','Last Updated','Current Ver',\"Android Ver\"],axis=1,inplace=True)"
   ]
  },
  {
   "cell_type": "code",
   "execution_count": 39,
   "id": "37142ce5",
   "metadata": {
    "execution": {
     "iopub.execute_input": "2022-10-19T11:25:43.926100Z",
     "iopub.status.busy": "2022-10-19T11:25:43.925516Z",
     "iopub.status.idle": "2022-10-19T11:25:43.944152Z",
     "shell.execute_reply": "2022-10-19T11:25:43.942871Z"
    },
    "papermill": {
     "duration": 0.049998,
     "end_time": "2022-10-19T11:25:43.946842",
     "exception": false,
     "start_time": "2022-10-19T11:25:43.896844",
     "status": "completed"
    },
    "tags": []
   },
   "outputs": [
    {
     "data": {
      "text/html": [
       "<div>\n",
       "<style scoped>\n",
       "    .dataframe tbody tr th:only-of-type {\n",
       "        vertical-align: middle;\n",
       "    }\n",
       "\n",
       "    .dataframe tbody tr th {\n",
       "        vertical-align: top;\n",
       "    }\n",
       "\n",
       "    .dataframe thead th {\n",
       "        text-align: right;\n",
       "    }\n",
       "</style>\n",
       "<table border=\"1\" class=\"dataframe\">\n",
       "  <thead>\n",
       "    <tr style=\"text-align: right;\">\n",
       "      <th></th>\n",
       "      <th>App</th>\n",
       "      <th>Category</th>\n",
       "      <th>Rating</th>\n",
       "      <th>Reviews</th>\n",
       "      <th>Size</th>\n",
       "      <th>Installs</th>\n",
       "      <th>Type</th>\n",
       "      <th>Price</th>\n",
       "      <th>Content Rating</th>\n",
       "    </tr>\n",
       "  </thead>\n",
       "  <tbody>\n",
       "    <tr>\n",
       "      <th>0</th>\n",
       "      <td>Photo Editor &amp; Candy Camera &amp; Grid &amp; ScrapBook</td>\n",
       "      <td>ART_AND_DESIGN</td>\n",
       "      <td>4.1</td>\n",
       "      <td>159.0</td>\n",
       "      <td>19</td>\n",
       "      <td>10000</td>\n",
       "      <td>Free</td>\n",
       "      <td>0.0</td>\n",
       "      <td>Everyone</td>\n",
       "    </tr>\n",
       "    <tr>\n",
       "      <th>1</th>\n",
       "      <td>Coloring book moana</td>\n",
       "      <td>ART_AND_DESIGN</td>\n",
       "      <td>3.9</td>\n",
       "      <td>967.0</td>\n",
       "      <td>14</td>\n",
       "      <td>500000</td>\n",
       "      <td>Free</td>\n",
       "      <td>0.0</td>\n",
       "      <td>Everyone</td>\n",
       "    </tr>\n",
       "    <tr>\n",
       "      <th>2</th>\n",
       "      <td>U Launcher Lite – FREE Live Cool Themes, Hide ...</td>\n",
       "      <td>ART_AND_DESIGN</td>\n",
       "      <td>4.7</td>\n",
       "      <td>87510.0</td>\n",
       "      <td>8.7</td>\n",
       "      <td>5000000</td>\n",
       "      <td>Free</td>\n",
       "      <td>0.0</td>\n",
       "      <td>Everyone</td>\n",
       "    </tr>\n",
       "    <tr>\n",
       "      <th>3</th>\n",
       "      <td>Sketch - Draw &amp; Paint</td>\n",
       "      <td>ART_AND_DESIGN</td>\n",
       "      <td>4.5</td>\n",
       "      <td>215644.0</td>\n",
       "      <td>25</td>\n",
       "      <td>50000000</td>\n",
       "      <td>Free</td>\n",
       "      <td>0.0</td>\n",
       "      <td>Teen</td>\n",
       "    </tr>\n",
       "    <tr>\n",
       "      <th>4</th>\n",
       "      <td>Pixel Draw - Number Art Coloring Book</td>\n",
       "      <td>ART_AND_DESIGN</td>\n",
       "      <td>4.3</td>\n",
       "      <td>967.0</td>\n",
       "      <td>2.8</td>\n",
       "      <td>100000</td>\n",
       "      <td>Free</td>\n",
       "      <td>0.0</td>\n",
       "      <td>Everyone</td>\n",
       "    </tr>\n",
       "  </tbody>\n",
       "</table>\n",
       "</div>"
      ],
      "text/plain": [
       "                                                 App        Category  Rating  \\\n",
       "0     Photo Editor & Candy Camera & Grid & ScrapBook  ART_AND_DESIGN     4.1   \n",
       "1                                Coloring book moana  ART_AND_DESIGN     3.9   \n",
       "2  U Launcher Lite – FREE Live Cool Themes, Hide ...  ART_AND_DESIGN     4.7   \n",
       "3                              Sketch - Draw & Paint  ART_AND_DESIGN     4.5   \n",
       "4              Pixel Draw - Number Art Coloring Book  ART_AND_DESIGN     4.3   \n",
       "\n",
       "    Reviews Size  Installs  Type  Price Content Rating  \n",
       "0     159.0   19     10000  Free    0.0       Everyone  \n",
       "1     967.0   14    500000  Free    0.0       Everyone  \n",
       "2   87510.0  8.7   5000000  Free    0.0       Everyone  \n",
       "3  215644.0   25  50000000  Free    0.0           Teen  \n",
       "4     967.0  2.8    100000  Free    0.0       Everyone  "
      ]
     },
     "execution_count": 39,
     "metadata": {},
     "output_type": "execute_result"
    }
   ],
   "source": [
    "df.head()"
   ]
  },
  {
   "cell_type": "code",
   "execution_count": 40,
   "id": "54d1c04d",
   "metadata": {
    "execution": {
     "iopub.execute_input": "2022-10-19T11:25:44.001557Z",
     "iopub.status.busy": "2022-10-19T11:25:44.000648Z",
     "iopub.status.idle": "2022-10-19T11:25:44.008701Z",
     "shell.execute_reply": "2022-10-19T11:25:44.007769Z"
    },
    "papermill": {
     "duration": 0.038547,
     "end_time": "2022-10-19T11:25:44.011363",
     "exception": false,
     "start_time": "2022-10-19T11:25:43.972816",
     "status": "completed"
    },
    "tags": []
   },
   "outputs": [],
   "source": [
    "# Here we find the count of rating for each possible mean rating\n",
    "rating_most=df.Rating.value_counts()"
   ]
  },
  {
   "cell_type": "code",
   "execution_count": 41,
   "id": "1c91fbcf",
   "metadata": {
    "execution": {
     "iopub.execute_input": "2022-10-19T11:25:44.066081Z",
     "iopub.status.busy": "2022-10-19T11:25:44.065265Z",
     "iopub.status.idle": "2022-10-19T11:25:44.076972Z",
     "shell.execute_reply": "2022-10-19T11:25:44.075612Z"
    },
    "papermill": {
     "duration": 0.043073,
     "end_time": "2022-10-19T11:25:44.080201",
     "exception": false,
     "start_time": "2022-10-19T11:25:44.037128",
     "status": "completed"
    },
    "tags": []
   },
   "outputs": [
    {
     "data": {
      "text/plain": [
       "4.4    1030\n",
       "4.3    1016\n",
       "4.5     975\n",
       "4.2     885\n",
       "4.6     767\n",
       "4.1     655\n",
       "4.0     538\n",
       "4.7     482\n",
       "3.9     372\n",
       "3.8     293\n",
       "5.0     271\n",
       "3.7     231\n",
       "4.8     228\n",
       "3.6     169\n",
       "3.5     157\n",
       "3.4     127\n",
       "3.3     101\n",
       "4.9      87\n",
       "3.0      82\n",
       "3.1      69\n",
       "3.2      63\n",
       "2.9      45\n",
       "2.8      40\n",
       "2.6      24\n",
       "2.7      23\n",
       "2.5      20\n",
       "2.3      20\n",
       "2.4      19\n",
       "1.0      16\n",
       "2.2      14\n",
       "1.9      12\n",
       "2.0      12\n",
       "1.7       8\n",
       "1.8       8\n",
       "2.1       8\n",
       "1.6       4\n",
       "1.4       3\n",
       "1.5       3\n",
       "1.2       1\n",
       "Name: Rating, dtype: int64"
      ]
     },
     "execution_count": 41,
     "metadata": {},
     "output_type": "execute_result"
    }
   ],
   "source": [
    "df.Rating.value_counts()"
   ]
  },
  {
   "cell_type": "code",
   "execution_count": 42,
   "id": "36c174b0",
   "metadata": {
    "execution": {
     "iopub.execute_input": "2022-10-19T11:25:44.138392Z",
     "iopub.status.busy": "2022-10-19T11:25:44.137399Z",
     "iopub.status.idle": "2022-10-19T11:25:44.289619Z",
     "shell.execute_reply": "2022-10-19T11:25:44.288638Z"
    },
    "papermill": {
     "duration": 0.184254,
     "end_time": "2022-10-19T11:25:44.292082",
     "exception": false,
     "start_time": "2022-10-19T11:25:44.107828",
     "status": "completed"
    },
    "tags": []
   },
   "outputs": [
    {
     "data": {
      "image/png": "[encoded data removed]",
      "text/plain": [
       "<Figure size 432x288 with 1 Axes>"
      ]
     },
     "metadata": {
      "needs_background": "light"
     },
     "output_type": "display_data"
    }
   ],
   "source": [
    "# figure related code\n",
    "fig = plt.figure()\n",
    "fig.suptitle('Boxplot', fontsize=14, fontweight='bold')\n",
    "ax = fig.add_subplot(111)\n",
    "ax.boxplot(df['Rating'])\n",
    "ax.set_title('Rating class v/s rating')\n",
    "ax.set_xlabel('Rating class')\n",
    "ax.set_ylabel('Rating')\n",
    "plt.show()"
   ]
  },
  {
   "cell_type": "code",
   "execution_count": 43,
   "id": "94927fc1",
   "metadata": {
    "execution": {
     "iopub.execute_input": "2022-10-19T11:25:44.347863Z",
     "iopub.status.busy": "2022-10-19T11:25:44.347118Z",
     "iopub.status.idle": "2022-10-19T11:25:44.935452Z",
     "shell.execute_reply": "2022-10-19T11:25:44.934114Z"
    },
    "papermill": {
     "duration": 0.619017,
     "end_time": "2022-10-19T11:25:44.937983",
     "exception": false,
     "start_time": "2022-10-19T11:25:44.318966",
     "status": "completed"
    },
    "tags": []
   },
   "outputs": [
    {
     "data": {
      "image/png": "[encoded data removed]",
      "text/plain": [
       "<Figure size 1080x720 with 1 Axes>"
      ]
     },
     "metadata": {
      "needs_background": "light"
     },
     "output_type": "display_data"
    }
   ],
   "source": [
    "# Count plot for rating\n",
    "plt.figure(figsize=(15,10))\n",
    "sns.set_theme(style=\"darkgrid\")\n",
    "#dat = sns.load_dataset(\"df\")\n",
    "plt.xticks(rotation=90)\n",
    "plt.title(\"Rating V/s Count\")\n",
    "ax = sns.countplot(x=\"Rating\", data=df)"
   ]
  },
  {
   "cell_type": "code",
   "execution_count": 44,
   "id": "20a809fb",
   "metadata": {
    "execution": {
     "iopub.execute_input": "2022-10-19T11:25:44.993738Z",
     "iopub.status.busy": "2022-10-19T11:25:44.992869Z",
     "iopub.status.idle": "2022-10-19T11:25:45.160776Z",
     "shell.execute_reply": "2022-10-19T11:25:45.159774Z"
    },
    "papermill": {
     "duration": 0.198424,
     "end_time": "2022-10-19T11:25:45.163282",
     "exception": false,
     "start_time": "2022-10-19T11:25:44.964858",
     "status": "completed"
    },
    "tags": []
   },
   "outputs": [
    {
     "data": {
      "image/png": "[encoded data removed]",
      "text/plain": [
       "<Figure size 432x288 with 1 Axes>"
      ]
     },
     "metadata": {},
     "output_type": "display_data"
    }
   ],
   "source": [
    "#We look at the top five value counts  for rating \n",
    "df[\"Rating\"].value_counts().head(5).sort_values(ascending=True).plot.bar()#head()=nlargest(5)\n",
    "plt.ylabel(\"Count\")\n",
    "plt.xlabel(\"Rating\")\n",
    "plt.title(\"Playstore - Top 5 App Rating count\")\n",
    "plt.xticks(rotation=45)\n",
    "plt.show()"
   ]
  },
  {
   "cell_type": "code",
   "execution_count": 45,
   "id": "de2cb14b",
   "metadata": {
    "execution": {
     "iopub.execute_input": "2022-10-19T11:25:45.220916Z",
     "iopub.status.busy": "2022-10-19T11:25:45.219746Z",
     "iopub.status.idle": "2022-10-19T11:25:45.230408Z",
     "shell.execute_reply": "2022-10-19T11:25:45.229398Z"
    },
    "papermill": {
     "duration": 0.04278,
     "end_time": "2022-10-19T11:25:45.232979",
     "exception": false,
     "start_time": "2022-10-19T11:25:45.190199",
     "status": "completed"
    },
    "tags": []
   },
   "outputs": [],
   "source": [
    "# we make different classes/dataframes for the app rating\n",
    "app_rating1=df[df['Rating'] >= 4]\n",
    "app_rating2=df[(df['Rating'] < 4) & (df['Rating'] > 3 )]\n",
    "app_rating3= df[df['Rating'] <=3]"
   ]
  },
  {
   "cell_type": "code",
   "execution_count": 46,
   "id": "9636f33b",
   "metadata": {
    "execution": {
     "iopub.execute_input": "2022-10-19T11:25:45.290424Z",
     "iopub.status.busy": "2022-10-19T11:25:45.289461Z",
     "iopub.status.idle": "2022-10-19T11:25:45.296503Z",
     "shell.execute_reply": "2022-10-19T11:25:45.295625Z"
    },
    "papermill": {
     "duration": 0.03838,
     "end_time": "2022-10-19T11:25:45.298592",
     "exception": false,
     "start_time": "2022-10-19T11:25:45.260212",
     "status": "completed"
    },
    "tags": []
   },
   "outputs": [
    {
     "data": {
      "text/plain": [
       "((6934, 9), (1582, 9), (362, 9))"
      ]
     },
     "execution_count": 46,
     "metadata": {},
     "output_type": "execute_result"
    }
   ],
   "source": [
    "#Checking the shape of each dataframe\n",
    "app_rating1.shape,app_rating2.shape,app_rating3.shape"
   ]
  },
  {
   "cell_type": "code",
   "execution_count": 47,
   "id": "c01918f2",
   "metadata": {
    "execution": {
     "iopub.execute_input": "2022-10-19T11:25:45.355613Z",
     "iopub.status.busy": "2022-10-19T11:25:45.354385Z",
     "iopub.status.idle": "2022-10-19T11:25:45.517275Z",
     "shell.execute_reply": "2022-10-19T11:25:45.515850Z"
    },
    "papermill": {
     "duration": 0.193905,
     "end_time": "2022-10-19T11:25:45.520213",
     "exception": false,
     "start_time": "2022-10-19T11:25:45.326308",
     "status": "completed"
    },
    "tags": []
   },
   "outputs": [
    {
     "data": {
      "image/png": "[encoded data removed]",
      "text/plain": [
       "<Figure size 360x360 with 1 Axes>"
      ]
     },
     "metadata": {},
     "output_type": "display_data"
    }
   ],
   "source": [
    "# creating the dataset\n",
    "# Plot show there are more than 7000 apps having rating more than 4\n",
    "\n",
    "data = {'Rating between 4 to 5':6934, 'Rating between 4 to 3':1582, 'Rating less than 3':362,\n",
    "        }\n",
    "x = list(data.keys())\n",
    "y = list(data.values())\n",
    "\n",
    "fig = plt.figure(figsize = (5, 5))\n",
    "\n",
    "# creating the bar plot\n",
    "plt.bar(x, y, color ='green',\n",
    "        width =0.4)\n",
    "\n",
    "plt.xlabel(\"Playstore app rating\")\n",
    "plt.ylabel(\"Range\")\n",
    "plt.title(\"Google play store app\")\n",
    "plt.xticks(rotation=45)\n",
    "plt.show()"
   ]
  },
  {
   "cell_type": "code",
   "execution_count": 48,
   "id": "0bacf7cc",
   "metadata": {
    "execution": {
     "iopub.execute_input": "2022-10-19T11:25:45.577978Z",
     "iopub.status.busy": "2022-10-19T11:25:45.576791Z",
     "iopub.status.idle": "2022-10-19T11:25:45.890348Z",
     "shell.execute_reply": "2022-10-19T11:25:45.889149Z"
    },
    "papermill": {
     "duration": 0.345383,
     "end_time": "2022-10-19T11:25:45.893383",
     "exception": false,
     "start_time": "2022-10-19T11:25:45.548000",
     "status": "completed"
    },
    "tags": []
   },
   "outputs": [
    {
     "data": {
      "text/plain": [
       "<function matplotlib.pyplot.show(close=None, block=None)>"
      ]
     },
     "execution_count": 48,
     "metadata": {},
     "output_type": "execute_result"
    },
    {
     "data": {
      "image/png": "[encoded data removed]",
      "text/plain": [
       "<Figure size 432x288 with 1 Axes>"
      ]
     },
     "metadata": {},
     "output_type": "display_data"
    }
   ],
   "source": [
    "#Here we use the hist plot for the app rating\n",
    "app_rating= df[\"Rating\"]\n",
    "num_bins=7\n",
    "plt.hist(app_rating, num_bins, facecolor=\"red\", alpha = 1)\n",
    "plt.title('Playstore App Rating')\n",
    "plt.xlabel(\" Rating\")\n",
    "plt.ylabel(\"Number of Apps\")\n",
    "plt.show"
   ]
  },
  {
   "cell_type": "code",
   "execution_count": 49,
   "id": "5b1fafe0",
   "metadata": {
    "execution": {
     "iopub.execute_input": "2022-10-19T11:25:45.953560Z",
     "iopub.status.busy": "2022-10-19T11:25:45.953084Z",
     "iopub.status.idle": "2022-10-19T11:25:45.960356Z",
     "shell.execute_reply": "2022-10-19T11:25:45.959091Z"
    },
    "papermill": {
     "duration": 0.041036,
     "end_time": "2022-10-19T11:25:45.963001",
     "exception": false,
     "start_time": "2022-10-19T11:25:45.921965",
     "status": "completed"
    },
    "tags": []
   },
   "outputs": [],
   "source": [
    "#Here we try to find the apps with rating 5\n",
    "df1=df[df['Rating']==5]"
   ]
  },
  {
   "cell_type": "code",
   "execution_count": 50,
   "id": "906d8b0d",
   "metadata": {
    "execution": {
     "iopub.execute_input": "2022-10-19T11:25:46.021600Z",
     "iopub.status.busy": "2022-10-19T11:25:46.021107Z",
     "iopub.status.idle": "2022-10-19T11:25:46.039565Z",
     "shell.execute_reply": "2022-10-19T11:25:46.038365Z"
    },
    "papermill": {
     "duration": 0.050828,
     "end_time": "2022-10-19T11:25:46.041968",
     "exception": false,
     "start_time": "2022-10-19T11:25:45.991140",
     "status": "completed"
    },
    "tags": []
   },
   "outputs": [
    {
     "data": {
      "text/html": [
       "<div>\n",
       "<style scoped>\n",
       "    .dataframe tbody tr th:only-of-type {\n",
       "        vertical-align: middle;\n",
       "    }\n",
       "\n",
       "    .dataframe tbody tr th {\n",
       "        vertical-align: top;\n",
       "    }\n",
       "\n",
       "    .dataframe thead th {\n",
       "        text-align: right;\n",
       "    }\n",
       "</style>\n",
       "<table border=\"1\" class=\"dataframe\">\n",
       "  <thead>\n",
       "    <tr style=\"text-align: right;\">\n",
       "      <th></th>\n",
       "      <th>App</th>\n",
       "      <th>Category</th>\n",
       "      <th>Rating</th>\n",
       "      <th>Reviews</th>\n",
       "      <th>Size</th>\n",
       "      <th>Installs</th>\n",
       "      <th>Type</th>\n",
       "      <th>Price</th>\n",
       "      <th>Content Rating</th>\n",
       "    </tr>\n",
       "  </thead>\n",
       "  <tbody>\n",
       "    <tr>\n",
       "      <th>329</th>\n",
       "      <td>Hojiboy Tojiboyev Life Hacks</td>\n",
       "      <td>COMICS</td>\n",
       "      <td>5.0</td>\n",
       "      <td>15.0</td>\n",
       "      <td>37</td>\n",
       "      <td>1000</td>\n",
       "      <td>Free</td>\n",
       "      <td>0.0</td>\n",
       "      <td>Everyone</td>\n",
       "    </tr>\n",
       "    <tr>\n",
       "      <th>612</th>\n",
       "      <td>American Girls Mobile Numbers</td>\n",
       "      <td>DATING</td>\n",
       "      <td>5.0</td>\n",
       "      <td>5.0</td>\n",
       "      <td>4.4</td>\n",
       "      <td>1000</td>\n",
       "      <td>Free</td>\n",
       "      <td>0.0</td>\n",
       "      <td>Mature 17+</td>\n",
       "    </tr>\n",
       "    <tr>\n",
       "      <th>615</th>\n",
       "      <td>Awake Dating</td>\n",
       "      <td>DATING</td>\n",
       "      <td>5.0</td>\n",
       "      <td>2.0</td>\n",
       "      <td>70</td>\n",
       "      <td>100</td>\n",
       "      <td>Free</td>\n",
       "      <td>0.0</td>\n",
       "      <td>Mature 17+</td>\n",
       "    </tr>\n",
       "    <tr>\n",
       "      <th>633</th>\n",
       "      <td>Spine- The dating app</td>\n",
       "      <td>DATING</td>\n",
       "      <td>5.0</td>\n",
       "      <td>5.0</td>\n",
       "      <td>9.3</td>\n",
       "      <td>500</td>\n",
       "      <td>Free</td>\n",
       "      <td>0.0</td>\n",
       "      <td>Teen</td>\n",
       "    </tr>\n",
       "    <tr>\n",
       "      <th>636</th>\n",
       "      <td>Girls Live Talk - Free Text and Video Chat</td>\n",
       "      <td>DATING</td>\n",
       "      <td>5.0</td>\n",
       "      <td>6.0</td>\n",
       "      <td>5.0</td>\n",
       "      <td>100</td>\n",
       "      <td>Free</td>\n",
       "      <td>0.0</td>\n",
       "      <td>Mature 17+</td>\n",
       "    </tr>\n",
       "  </tbody>\n",
       "</table>\n",
       "</div>"
      ],
      "text/plain": [
       "                                            App Category  Rating  Reviews  \\\n",
       "329                Hojiboy Tojiboyev Life Hacks   COMICS     5.0     15.0   \n",
       "612               American Girls Mobile Numbers   DATING     5.0      5.0   \n",
       "615                                Awake Dating   DATING     5.0      2.0   \n",
       "633                       Spine- The dating app   DATING     5.0      5.0   \n",
       "636  Girls Live Talk - Free Text and Video Chat   DATING     5.0      6.0   \n",
       "\n",
       "    Size  Installs  Type  Price Content Rating  \n",
       "329   37      1000  Free    0.0       Everyone  \n",
       "612  4.4      1000  Free    0.0     Mature 17+  \n",
       "615   70       100  Free    0.0     Mature 17+  \n",
       "633  9.3       500  Free    0.0           Teen  \n",
       "636  5.0       100  Free    0.0     Mature 17+  "
      ]
     },
     "execution_count": 50,
     "metadata": {},
     "output_type": "execute_result"
    }
   ],
   "source": [
    "df1.head()"
   ]
  },
  {
   "cell_type": "code",
   "execution_count": 51,
   "id": "7cbe4512",
   "metadata": {
    "execution": {
     "iopub.execute_input": "2022-10-19T11:25:46.102511Z",
     "iopub.status.busy": "2022-10-19T11:25:46.102012Z",
     "iopub.status.idle": "2022-10-19T11:25:46.118315Z",
     "shell.execute_reply": "2022-10-19T11:25:46.116807Z"
    },
    "papermill": {
     "duration": 0.050417,
     "end_time": "2022-10-19T11:25:46.120956",
     "exception": false,
     "start_time": "2022-10-19T11:25:46.070539",
     "status": "completed"
    },
    "tags": []
   },
   "outputs": [
    {
     "name": "stdout",
     "output_type": "stream",
     "text": [
      "<class 'pandas.core.frame.DataFrame'>\n",
      "Int64Index: 271 entries, 329 to 10837\n",
      "Data columns (total 9 columns):\n",
      " #   Column          Non-Null Count  Dtype  \n",
      "---  ------          --------------  -----  \n",
      " 0   App             271 non-null    object \n",
      " 1   Category        271 non-null    object \n",
      " 2   Rating          271 non-null    float64\n",
      " 3   Reviews         271 non-null    float64\n",
      " 4   Size            271 non-null    object \n",
      " 5   Installs        271 non-null    int64  \n",
      " 6   Type            271 non-null    object \n",
      " 7   Price           271 non-null    float64\n",
      " 8   Content Rating  271 non-null    object \n",
      "dtypes: float64(3), int64(1), object(5)\n",
      "memory usage: 21.2+ KB\n"
     ]
    }
   ],
   "source": [
    "#There are 271 apps having rating 5\n",
    "df1.info()"
   ]
  },
  {
   "cell_type": "code",
   "execution_count": 52,
   "id": "71d24924",
   "metadata": {
    "execution": {
     "iopub.execute_input": "2022-10-19T11:25:46.181194Z",
     "iopub.status.busy": "2022-10-19T11:25:46.180699Z",
     "iopub.status.idle": "2022-10-19T11:25:46.210629Z",
     "shell.execute_reply": "2022-10-19T11:25:46.208809Z"
    },
    "papermill": {
     "duration": 0.065951,
     "end_time": "2022-10-19T11:25:46.214943",
     "exception": false,
     "start_time": "2022-10-19T11:25:46.148992",
     "status": "completed"
    },
    "tags": []
   },
   "outputs": [
    {
     "data": {
      "text/html": [
       "<div>\n",
       "<style scoped>\n",
       "    .dataframe tbody tr th:only-of-type {\n",
       "        vertical-align: middle;\n",
       "    }\n",
       "\n",
       "    .dataframe tbody tr th {\n",
       "        vertical-align: top;\n",
       "    }\n",
       "\n",
       "    .dataframe thead th {\n",
       "        text-align: right;\n",
       "    }\n",
       "</style>\n",
       "<table border=\"1\" class=\"dataframe\">\n",
       "  <thead>\n",
       "    <tr style=\"text-align: right;\">\n",
       "      <th></th>\n",
       "      <th>App</th>\n",
       "      <th>Category</th>\n",
       "      <th>Rating</th>\n",
       "      <th>Reviews</th>\n",
       "      <th>Size</th>\n",
       "      <th>Installs</th>\n",
       "      <th>Type</th>\n",
       "      <th>Price</th>\n",
       "      <th>Content Rating</th>\n",
       "    </tr>\n",
       "  </thead>\n",
       "  <tbody>\n",
       "    <tr>\n",
       "      <th>9511</th>\n",
       "      <td>Ek Bander Ne Kholi Dukan</td>\n",
       "      <td>FAMILY</td>\n",
       "      <td>5.0</td>\n",
       "      <td>10.0</td>\n",
       "      <td>3.0</td>\n",
       "      <td>10000</td>\n",
       "      <td>Free</td>\n",
       "      <td>0.00</td>\n",
       "      <td>Everyone</td>\n",
       "    </tr>\n",
       "    <tr>\n",
       "      <th>8058</th>\n",
       "      <td>Oración CX</td>\n",
       "      <td>LIFESTYLE</td>\n",
       "      <td>5.0</td>\n",
       "      <td>103.0</td>\n",
       "      <td>3.8</td>\n",
       "      <td>5000</td>\n",
       "      <td>Free</td>\n",
       "      <td>0.00</td>\n",
       "      <td>Everyone</td>\n",
       "    </tr>\n",
       "    <tr>\n",
       "      <th>8260</th>\n",
       "      <td>Superheroes, Marvel, DC, Comics, TV, Movies News</td>\n",
       "      <td>COMICS</td>\n",
       "      <td>5.0</td>\n",
       "      <td>34.0</td>\n",
       "      <td>12</td>\n",
       "      <td>5000</td>\n",
       "      <td>Free</td>\n",
       "      <td>0.00</td>\n",
       "      <td>Everyone</td>\n",
       "    </tr>\n",
       "    <tr>\n",
       "      <th>7514</th>\n",
       "      <td>CL Keyboard - Myanmar Keyboard (No Ads)</td>\n",
       "      <td>TOOLS</td>\n",
       "      <td>5.0</td>\n",
       "      <td>24.0</td>\n",
       "      <td>3.2</td>\n",
       "      <td>5000</td>\n",
       "      <td>Free</td>\n",
       "      <td>0.00</td>\n",
       "      <td>Everyone</td>\n",
       "    </tr>\n",
       "    <tr>\n",
       "      <th>10357</th>\n",
       "      <td>Ríos de Fe</td>\n",
       "      <td>LIFESTYLE</td>\n",
       "      <td>5.0</td>\n",
       "      <td>141.0</td>\n",
       "      <td>15</td>\n",
       "      <td>1000</td>\n",
       "      <td>Free</td>\n",
       "      <td>0.00</td>\n",
       "      <td>Everyone</td>\n",
       "    </tr>\n",
       "    <tr>\n",
       "      <th>...</th>\n",
       "      <td>...</td>\n",
       "      <td>...</td>\n",
       "      <td>...</td>\n",
       "      <td>...</td>\n",
       "      <td>...</td>\n",
       "      <td>...</td>\n",
       "      <td>...</td>\n",
       "      <td>...</td>\n",
       "      <td>...</td>\n",
       "    </tr>\n",
       "    <tr>\n",
       "      <th>2459</th>\n",
       "      <td>Anatomy &amp; Physiology Vocabulary Exam Review App</td>\n",
       "      <td>MEDICAL</td>\n",
       "      <td>5.0</td>\n",
       "      <td>1.0</td>\n",
       "      <td>4.6</td>\n",
       "      <td>5</td>\n",
       "      <td>Free</td>\n",
       "      <td>0.00</td>\n",
       "      <td>Everyone</td>\n",
       "    </tr>\n",
       "    <tr>\n",
       "      <th>9218</th>\n",
       "      <td>EB Cash Collections</td>\n",
       "      <td>BUSINESS</td>\n",
       "      <td>5.0</td>\n",
       "      <td>1.0</td>\n",
       "      <td>4.3</td>\n",
       "      <td>5</td>\n",
       "      <td>Free</td>\n",
       "      <td>0.00</td>\n",
       "      <td>Everyone</td>\n",
       "    </tr>\n",
       "    <tr>\n",
       "      <th>2454</th>\n",
       "      <td>KBA-EZ Health Guide</td>\n",
       "      <td>MEDICAL</td>\n",
       "      <td>5.0</td>\n",
       "      <td>4.0</td>\n",
       "      <td>25</td>\n",
       "      <td>1</td>\n",
       "      <td>Free</td>\n",
       "      <td>0.00</td>\n",
       "      <td>Everyone</td>\n",
       "    </tr>\n",
       "    <tr>\n",
       "      <th>5917</th>\n",
       "      <td>Ra Ga Ba</td>\n",
       "      <td>GAME</td>\n",
       "      <td>5.0</td>\n",
       "      <td>2.0</td>\n",
       "      <td>20</td>\n",
       "      <td>1</td>\n",
       "      <td>Paid</td>\n",
       "      <td>1.49</td>\n",
       "      <td>Everyone</td>\n",
       "    </tr>\n",
       "    <tr>\n",
       "      <th>10697</th>\n",
       "      <td>Mu.F.O.</td>\n",
       "      <td>GAME</td>\n",
       "      <td>5.0</td>\n",
       "      <td>2.0</td>\n",
       "      <td>16</td>\n",
       "      <td>1</td>\n",
       "      <td>Paid</td>\n",
       "      <td>0.99</td>\n",
       "      <td>Everyone</td>\n",
       "    </tr>\n",
       "  </tbody>\n",
       "</table>\n",
       "<p>271 rows × 9 columns</p>\n",
       "</div>"
      ],
      "text/plain": [
       "                                                    App   Category  Rating  \\\n",
       "9511                           Ek Bander Ne Kholi Dukan     FAMILY     5.0   \n",
       "8058                                         Oración CX  LIFESTYLE     5.0   \n",
       "8260   Superheroes, Marvel, DC, Comics, TV, Movies News     COMICS     5.0   \n",
       "7514            CL Keyboard - Myanmar Keyboard (No Ads)      TOOLS     5.0   \n",
       "10357                                        Ríos de Fe  LIFESTYLE     5.0   \n",
       "...                                                 ...        ...     ...   \n",
       "2459    Anatomy & Physiology Vocabulary Exam Review App    MEDICAL     5.0   \n",
       "9218                                EB Cash Collections   BUSINESS     5.0   \n",
       "2454                                KBA-EZ Health Guide    MEDICAL     5.0   \n",
       "5917                                           Ra Ga Ba       GAME     5.0   \n",
       "10697                                           Mu.F.O.       GAME     5.0   \n",
       "\n",
       "       Reviews Size  Installs  Type  Price Content Rating  \n",
       "9511      10.0  3.0     10000  Free   0.00       Everyone  \n",
       "8058     103.0  3.8      5000  Free   0.00       Everyone  \n",
       "8260      34.0   12      5000  Free   0.00       Everyone  \n",
       "7514      24.0  3.2      5000  Free   0.00       Everyone  \n",
       "10357    141.0   15      1000  Free   0.00       Everyone  \n",
       "...        ...  ...       ...   ...    ...            ...  \n",
       "2459       1.0  4.6         5  Free   0.00       Everyone  \n",
       "9218       1.0  4.3         5  Free   0.00       Everyone  \n",
       "2454       4.0   25         1  Free   0.00       Everyone  \n",
       "5917       2.0   20         1  Paid   1.49       Everyone  \n",
       "10697      2.0   16         1  Paid   0.99       Everyone  \n",
       "\n",
       "[271 rows x 9 columns]"
      ]
     },
     "execution_count": 52,
     "metadata": {},
     "output_type": "execute_result"
    }
   ],
   "source": [
    "#Here I try to sort app with rating 5 corresponding to installs and reviews\n",
    "df1=df1.sort_values(by=['Installs','Reviews'], ascending=False)\n",
    "df1"
   ]
  },
  {
   "cell_type": "code",
   "execution_count": 53,
   "id": "89624d16",
   "metadata": {
    "execution": {
     "iopub.execute_input": "2022-10-19T11:25:46.284618Z",
     "iopub.status.busy": "2022-10-19T11:25:46.284129Z",
     "iopub.status.idle": "2022-10-19T11:25:46.294167Z",
     "shell.execute_reply": "2022-10-19T11:25:46.292911Z"
    },
    "papermill": {
     "duration": 0.047203,
     "end_time": "2022-10-19T11:25:46.297700",
     "exception": false,
     "start_time": "2022-10-19T11:25:46.250497",
     "status": "completed"
    },
    "tags": []
   },
   "outputs": [
    {
     "data": {
      "text/plain": [
       "FAMILY                 67\n",
       "LIFESTYLE              29\n",
       "MEDICAL                25\n",
       "BUSINESS               18\n",
       "TOOLS                  17\n",
       "GAME                   12\n",
       "HEALTH_AND_FITNESS     12\n",
       "PERSONALIZATION        10\n",
       "SOCIAL                  8\n",
       "PRODUCTIVITY            8\n",
       "FINANCE                 8\n",
       "NEWS_AND_MAGAZINES      7\n",
       "BOOKS_AND_REFERENCE     6\n",
       "SHOPPING                6\n",
       "DATING                  6\n",
       "EVENTS                  6\n",
       "PHOTOGRAPHY             6\n",
       "COMMUNICATION           5\n",
       "SPORTS                  4\n",
       "TRAVEL_AND_LOCAL        3\n",
       "LIBRARIES_AND_DEMO      2\n",
       "COMICS                  2\n",
       "FOOD_AND_DRINK          2\n",
       "ART_AND_DESIGN          1\n",
       "PARENTING               1\n",
       "Name: Category, dtype: int64"
      ]
     },
     "execution_count": 53,
     "metadata": {},
     "output_type": "execute_result"
    }
   ],
   "source": [
    "#Value count of each category for the apps with rating 5\n",
    "df1.Category.value_counts(ascending=False)"
   ]
  },
  {
   "cell_type": "code",
   "execution_count": 54,
   "id": "cf2b8316",
   "metadata": {
    "execution": {
     "iopub.execute_input": "2022-10-19T11:25:46.359435Z",
     "iopub.status.busy": "2022-10-19T11:25:46.358925Z",
     "iopub.status.idle": "2022-10-19T11:25:46.535505Z",
     "shell.execute_reply": "2022-10-19T11:25:46.534139Z"
    },
    "papermill": {
     "duration": 0.210689,
     "end_time": "2022-10-19T11:25:46.538139",
     "exception": false,
     "start_time": "2022-10-19T11:25:46.327450",
     "status": "completed"
    },
    "tags": []
   },
   "outputs": [
    {
     "data": {
      "image/png": "[encoded data removed]",
      "text/plain": [
       "<Figure size 432x288 with 1 Axes>"
      ]
     },
     "metadata": {},
     "output_type": "display_data"
    }
   ],
   "source": [
    "#Top five categories with respect to value count of app (rating=5)\n",
    "df1.Category.value_counts(ascending=False).nlargest(5).sort_values(ascending=False).plot.bar()\n",
    "plt.ylabel(\"Number of Apps\")\n",
    "plt.xlabel(\"Category\")\n",
    "plt.title(\"Playstore - Category counts\")\n",
    "plt.show()"
   ]
  },
  {
   "cell_type": "code",
   "execution_count": 55,
   "id": "b1e7128c",
   "metadata": {
    "execution": {
     "iopub.execute_input": "2022-10-19T11:25:46.598548Z",
     "iopub.status.busy": "2022-10-19T11:25:46.598076Z",
     "iopub.status.idle": "2022-10-19T11:25:46.609180Z",
     "shell.execute_reply": "2022-10-19T11:25:46.607984Z"
    },
    "papermill": {
     "duration": 0.043919,
     "end_time": "2022-10-19T11:25:46.611357",
     "exception": false,
     "start_time": "2022-10-19T11:25:46.567438",
     "status": "completed"
    },
    "tags": []
   },
   "outputs": [
    {
     "data": {
      "text/plain": [
       "FAMILY          1711\n",
       "GAME            1074\n",
       "TOOLS            732\n",
       "PRODUCTIVITY     334\n",
       "FINANCE          317\n",
       "Name: Category, dtype: int64"
      ]
     },
     "execution_count": 55,
     "metadata": {},
     "output_type": "execute_result"
    }
   ],
   "source": [
    "#We read the top five categories in the apps\n",
    "df[\"Category\"].value_counts().nlargest(5).sort_values(ascending=False)"
   ]
  },
  {
   "cell_type": "code",
   "execution_count": 56,
   "id": "dde8206b",
   "metadata": {
    "execution": {
     "iopub.execute_input": "2022-10-19T11:25:46.673142Z",
     "iopub.status.busy": "2022-10-19T11:25:46.672435Z",
     "iopub.status.idle": "2022-10-19T11:25:47.247804Z",
     "shell.execute_reply": "2022-10-19T11:25:47.246649Z"
    },
    "papermill": {
     "duration": 0.610005,
     "end_time": "2022-10-19T11:25:47.250360",
     "exception": false,
     "start_time": "2022-10-19T11:25:46.640355",
     "status": "completed"
    },
    "tags": []
   },
   "outputs": [
    {
     "data": {
      "image/png": "[encoded data removed]",
      "text/plain": [
       "<Figure size 720x504 with 1 Axes>"
      ]
     },
     "metadata": {},
     "output_type": "display_data"
    }
   ],
   "source": [
    "#df.Category.value_counts()\n",
    "plt.figure(figsize=(10,7))\n",
    "sns.set_theme(style=\"darkgrid\")\n",
    "plt.xticks(rotation=90)\n",
    "plt.title(\"Category V/s Count\")\n",
    "ax = sns.countplot(x=\"Category\", data=df)"
   ]
  },
  {
   "cell_type": "code",
   "execution_count": 57,
   "id": "855f2094",
   "metadata": {
    "execution": {
     "iopub.execute_input": "2022-10-19T11:25:47.313222Z",
     "iopub.status.busy": "2022-10-19T11:25:47.311974Z",
     "iopub.status.idle": "2022-10-19T11:25:47.339124Z",
     "shell.execute_reply": "2022-10-19T11:25:47.337968Z"
    },
    "papermill": {
     "duration": 0.060891,
     "end_time": "2022-10-19T11:25:47.341690",
     "exception": false,
     "start_time": "2022-10-19T11:25:47.280799",
     "status": "completed"
    },
    "tags": []
   },
   "outputs": [
    {
     "data": {
      "text/html": [
       "<div>\n",
       "<style scoped>\n",
       "    .dataframe tbody tr th:only-of-type {\n",
       "        vertical-align: middle;\n",
       "    }\n",
       "\n",
       "    .dataframe tbody tr th {\n",
       "        vertical-align: top;\n",
       "    }\n",
       "\n",
       "    .dataframe thead th {\n",
       "        text-align: right;\n",
       "    }\n",
       "</style>\n",
       "<table border=\"1\" class=\"dataframe\">\n",
       "  <thead>\n",
       "    <tr style=\"text-align: right;\">\n",
       "      <th></th>\n",
       "      <th>min</th>\n",
       "      <th>mean</th>\n",
       "      <th>median</th>\n",
       "      <th>max</th>\n",
       "    </tr>\n",
       "    <tr>\n",
       "      <th>Category</th>\n",
       "      <th></th>\n",
       "      <th></th>\n",
       "      <th></th>\n",
       "      <th></th>\n",
       "    </tr>\n",
       "  </thead>\n",
       "  <tbody>\n",
       "    <tr>\n",
       "      <th>ART_AND_DESIGN</th>\n",
       "      <td>100</td>\n",
       "      <td>2.036526e+06</td>\n",
       "      <td>100000.0</td>\n",
       "      <td>50000000</td>\n",
       "    </tr>\n",
       "    <tr>\n",
       "      <th>AUTO_AND_VEHICLES</th>\n",
       "      <td>100</td>\n",
       "      <td>7.278055e+05</td>\n",
       "      <td>100000.0</td>\n",
       "      <td>10000000</td>\n",
       "    </tr>\n",
       "    <tr>\n",
       "      <th>BEAUTY</th>\n",
       "      <td>100</td>\n",
       "      <td>6.408619e+05</td>\n",
       "      <td>100000.0</td>\n",
       "      <td>10000000</td>\n",
       "    </tr>\n",
       "    <tr>\n",
       "      <th>BOOKS_AND_REFERENCE</th>\n",
       "      <td>5</td>\n",
       "      <td>1.082651e+07</td>\n",
       "      <td>100000.0</td>\n",
       "      <td>1000000000</td>\n",
       "    </tr>\n",
       "    <tr>\n",
       "      <th>BUSINESS</th>\n",
       "      <td>5</td>\n",
       "      <td>3.198215e+06</td>\n",
       "      <td>10000.0</td>\n",
       "      <td>100000000</td>\n",
       "    </tr>\n",
       "    <tr>\n",
       "      <th>COMICS</th>\n",
       "      <td>100</td>\n",
       "      <td>9.661397e+05</td>\n",
       "      <td>100000.0</td>\n",
       "      <td>10000000</td>\n",
       "    </tr>\n",
       "    <tr>\n",
       "      <th>COMMUNICATION</th>\n",
       "      <td>10</td>\n",
       "      <td>7.867180e+07</td>\n",
       "      <td>1000000.0</td>\n",
       "      <td>1000000000</td>\n",
       "    </tr>\n",
       "    <tr>\n",
       "      <th>DATING</th>\n",
       "      <td>10</td>\n",
       "      <td>1.298883e+06</td>\n",
       "      <td>100000.0</td>\n",
       "      <td>10000000</td>\n",
       "    </tr>\n",
       "    <tr>\n",
       "      <th>EDUCATION</th>\n",
       "      <td>1000</td>\n",
       "      <td>4.138388e+06</td>\n",
       "      <td>1000000.0</td>\n",
       "      <td>100000000</td>\n",
       "    </tr>\n",
       "    <tr>\n",
       "      <th>ENTERTAINMENT</th>\n",
       "      <td>10000</td>\n",
       "      <td>2.212306e+07</td>\n",
       "      <td>5000000.0</td>\n",
       "      <td>1000000000</td>\n",
       "    </tr>\n",
       "    <tr>\n",
       "      <th>EVENTS</th>\n",
       "      <td>10</td>\n",
       "      <td>3.544313e+05</td>\n",
       "      <td>50000.0</td>\n",
       "      <td>5000000</td>\n",
       "    </tr>\n",
       "    <tr>\n",
       "      <th>FAMILY</th>\n",
       "      <td>10</td>\n",
       "      <td>5.794903e+06</td>\n",
       "      <td>100000.0</td>\n",
       "      <td>1000000000</td>\n",
       "    </tr>\n",
       "    <tr>\n",
       "      <th>FINANCE</th>\n",
       "      <td>50</td>\n",
       "      <td>2.430008e+06</td>\n",
       "      <td>100000.0</td>\n",
       "      <td>100000000</td>\n",
       "    </tr>\n",
       "    <tr>\n",
       "      <th>FOOD_AND_DRINK</th>\n",
       "      <td>50</td>\n",
       "      <td>2.431866e+06</td>\n",
       "      <td>1000000.0</td>\n",
       "      <td>10000000</td>\n",
       "    </tr>\n",
       "    <tr>\n",
       "      <th>GAME</th>\n",
       "      <td>1</td>\n",
       "      <td>2.937045e+07</td>\n",
       "      <td>5000000.0</td>\n",
       "      <td>1000000000</td>\n",
       "    </tr>\n",
       "    <tr>\n",
       "      <th>HEALTH_AND_FITNESS</th>\n",
       "      <td>10</td>\n",
       "      <td>5.194680e+06</td>\n",
       "      <td>500000.0</td>\n",
       "      <td>500000000</td>\n",
       "    </tr>\n",
       "    <tr>\n",
       "      <th>HOUSE_AND_HOME</th>\n",
       "      <td>1000</td>\n",
       "      <td>1.839441e+06</td>\n",
       "      <td>1000000.0</td>\n",
       "      <td>10000000</td>\n",
       "    </tr>\n",
       "    <tr>\n",
       "      <th>LIBRARIES_AND_DEMO</th>\n",
       "      <td>1000</td>\n",
       "      <td>9.544219e+05</td>\n",
       "      <td>50000.0</td>\n",
       "      <td>10000000</td>\n",
       "    </tr>\n",
       "    <tr>\n",
       "      <th>LIFESTYLE</th>\n",
       "      <td>10</td>\n",
       "      <td>1.753250e+06</td>\n",
       "      <td>50000.0</td>\n",
       "      <td>100000000</td>\n",
       "    </tr>\n",
       "    <tr>\n",
       "      <th>MAPS_AND_NAVIGATION</th>\n",
       "      <td>10</td>\n",
       "      <td>5.840867e+06</td>\n",
       "      <td>500000.0</td>\n",
       "      <td>100000000</td>\n",
       "    </tr>\n",
       "    <tr>\n",
       "      <th>MEDICAL</th>\n",
       "      <td>1</td>\n",
       "      <td>1.396115e+05</td>\n",
       "      <td>10000.0</td>\n",
       "      <td>5000000</td>\n",
       "    </tr>\n",
       "    <tr>\n",
       "      <th>NEWS_AND_MAGAZINES</th>\n",
       "      <td>50</td>\n",
       "      <td>2.520145e+07</td>\n",
       "      <td>100000.0</td>\n",
       "      <td>1000000000</td>\n",
       "    </tr>\n",
       "    <tr>\n",
       "      <th>PARENTING</th>\n",
       "      <td>10</td>\n",
       "      <td>6.223222e+05</td>\n",
       "      <td>100000.0</td>\n",
       "      <td>10000000</td>\n",
       "    </tr>\n",
       "    <tr>\n",
       "      <th>PERSONALIZATION</th>\n",
       "      <td>10</td>\n",
       "      <td>6.734876e+06</td>\n",
       "      <td>100000.0</td>\n",
       "      <td>100000000</td>\n",
       "    </tr>\n",
       "    <tr>\n",
       "      <th>PHOTOGRAPHY</th>\n",
       "      <td>10</td>\n",
       "      <td>3.197777e+07</td>\n",
       "      <td>5000000.0</td>\n",
       "      <td>1000000000</td>\n",
       "    </tr>\n",
       "    <tr>\n",
       "      <th>PRODUCTIVITY</th>\n",
       "      <td>10</td>\n",
       "      <td>3.731458e+07</td>\n",
       "      <td>1000000.0</td>\n",
       "      <td>1000000000</td>\n",
       "    </tr>\n",
       "    <tr>\n",
       "      <th>SHOPPING</th>\n",
       "      <td>10</td>\n",
       "      <td>1.275289e+07</td>\n",
       "      <td>1000000.0</td>\n",
       "      <td>100000000</td>\n",
       "    </tr>\n",
       "    <tr>\n",
       "      <th>SOCIAL</th>\n",
       "      <td>5</td>\n",
       "      <td>5.128624e+07</td>\n",
       "      <td>1000000.0</td>\n",
       "      <td>1000000000</td>\n",
       "    </tr>\n",
       "    <tr>\n",
       "      <th>SPORTS</th>\n",
       "      <td>5</td>\n",
       "      <td>5.344516e+06</td>\n",
       "      <td>750000.0</td>\n",
       "      <td>100000000</td>\n",
       "    </tr>\n",
       "    <tr>\n",
       "      <th>TOOLS</th>\n",
       "      <td>10</td>\n",
       "      <td>1.562872e+07</td>\n",
       "      <td>100000.0</td>\n",
       "      <td>1000000000</td>\n",
       "    </tr>\n",
       "    <tr>\n",
       "      <th>TRAVEL_AND_LOCAL</th>\n",
       "      <td>100</td>\n",
       "      <td>3.103346e+07</td>\n",
       "      <td>1000000.0</td>\n",
       "      <td>1000000000</td>\n",
       "    </tr>\n",
       "    <tr>\n",
       "      <th>VIDEO_PLAYERS</th>\n",
       "      <td>100</td>\n",
       "      <td>3.888686e+07</td>\n",
       "      <td>1000000.0</td>\n",
       "      <td>1000000000</td>\n",
       "    </tr>\n",
       "    <tr>\n",
       "      <th>WEATHER</th>\n",
       "      <td>500</td>\n",
       "      <td>5.681287e+06</td>\n",
       "      <td>1000000.0</td>\n",
       "      <td>50000000</td>\n",
       "    </tr>\n",
       "  </tbody>\n",
       "</table>\n",
       "</div>"
      ],
      "text/plain": [
       "                       min          mean     median         max\n",
       "Category                                                       \n",
       "ART_AND_DESIGN         100  2.036526e+06   100000.0    50000000\n",
       "AUTO_AND_VEHICLES      100  7.278055e+05   100000.0    10000000\n",
       "BEAUTY                 100  6.408619e+05   100000.0    10000000\n",
       "BOOKS_AND_REFERENCE      5  1.082651e+07   100000.0  1000000000\n",
       "BUSINESS                 5  3.198215e+06    10000.0   100000000\n",
       "COMICS                 100  9.661397e+05   100000.0    10000000\n",
       "COMMUNICATION           10  7.867180e+07  1000000.0  1000000000\n",
       "DATING                  10  1.298883e+06   100000.0    10000000\n",
       "EDUCATION             1000  4.138388e+06  1000000.0   100000000\n",
       "ENTERTAINMENT        10000  2.212306e+07  5000000.0  1000000000\n",
       "EVENTS                  10  3.544313e+05    50000.0     5000000\n",
       "FAMILY                  10  5.794903e+06   100000.0  1000000000\n",
       "FINANCE                 50  2.430008e+06   100000.0   100000000\n",
       "FOOD_AND_DRINK          50  2.431866e+06  1000000.0    10000000\n",
       "GAME                     1  2.937045e+07  5000000.0  1000000000\n",
       "HEALTH_AND_FITNESS      10  5.194680e+06   500000.0   500000000\n",
       "HOUSE_AND_HOME        1000  1.839441e+06  1000000.0    10000000\n",
       "LIBRARIES_AND_DEMO    1000  9.544219e+05    50000.0    10000000\n",
       "LIFESTYLE               10  1.753250e+06    50000.0   100000000\n",
       "MAPS_AND_NAVIGATION     10  5.840867e+06   500000.0   100000000\n",
       "MEDICAL                  1  1.396115e+05    10000.0     5000000\n",
       "NEWS_AND_MAGAZINES      50  2.520145e+07   100000.0  1000000000\n",
       "PARENTING               10  6.223222e+05   100000.0    10000000\n",
       "PERSONALIZATION         10  6.734876e+06   100000.0   100000000\n",
       "PHOTOGRAPHY             10  3.197777e+07  5000000.0  1000000000\n",
       "PRODUCTIVITY            10  3.731458e+07  1000000.0  1000000000\n",
       "SHOPPING                10  1.275289e+07  1000000.0   100000000\n",
       "SOCIAL                   5  5.128624e+07  1000000.0  1000000000\n",
       "SPORTS                   5  5.344516e+06   750000.0   100000000\n",
       "TOOLS                   10  1.562872e+07   100000.0  1000000000\n",
       "TRAVEL_AND_LOCAL       100  3.103346e+07  1000000.0  1000000000\n",
       "VIDEO_PLAYERS          100  3.888686e+07  1000000.0  1000000000\n",
       "WEATHER                500  5.681287e+06  1000000.0    50000000"
      ]
     },
     "execution_count": 57,
     "metadata": {},
     "output_type": "execute_result"
    }
   ],
   "source": [
    "# Getting the measures of central tendency for all the installation grouped by \"Category\"\n",
    "df.groupby(\"Category\").Installs.agg([\"min\", \"mean\", \"median\", \"max\"])"
   ]
  },
  {
   "cell_type": "code",
   "execution_count": 58,
   "id": "29f72c0d",
   "metadata": {
    "execution": {
     "iopub.execute_input": "2022-10-19T11:25:47.405004Z",
     "iopub.status.busy": "2022-10-19T11:25:47.403816Z",
     "iopub.status.idle": "2022-10-19T11:25:47.424103Z",
     "shell.execute_reply": "2022-10-19T11:25:47.422907Z"
    },
    "papermill": {
     "duration": 0.054961,
     "end_time": "2022-10-19T11:25:47.427000",
     "exception": false,
     "start_time": "2022-10-19T11:25:47.372039",
     "status": "completed"
    },
    "tags": []
   },
   "outputs": [
    {
     "data": {
      "text/html": [
       "<div>\n",
       "<style scoped>\n",
       "    .dataframe tbody tr th:only-of-type {\n",
       "        vertical-align: middle;\n",
       "    }\n",
       "\n",
       "    .dataframe tbody tr th {\n",
       "        vertical-align: top;\n",
       "    }\n",
       "\n",
       "    .dataframe thead th {\n",
       "        text-align: right;\n",
       "    }\n",
       "</style>\n",
       "<table border=\"1\" class=\"dataframe\">\n",
       "  <thead>\n",
       "    <tr style=\"text-align: right;\">\n",
       "      <th></th>\n",
       "      <th>App</th>\n",
       "      <th>Category</th>\n",
       "      <th>Rating</th>\n",
       "      <th>Reviews</th>\n",
       "      <th>Size</th>\n",
       "      <th>Installs</th>\n",
       "      <th>Type</th>\n",
       "      <th>Price</th>\n",
       "      <th>Content Rating</th>\n",
       "    </tr>\n",
       "  </thead>\n",
       "  <tbody>\n",
       "    <tr>\n",
       "      <th>386</th>\n",
       "      <td>Hangouts</td>\n",
       "      <td>COMMUNICATION</td>\n",
       "      <td>4.0</td>\n",
       "      <td>3419433.0</td>\n",
       "      <td>-1</td>\n",
       "      <td>1000000000</td>\n",
       "      <td>Free</td>\n",
       "      <td>0.0</td>\n",
       "      <td>Everyone</td>\n",
       "    </tr>\n",
       "    <tr>\n",
       "      <th>3736</th>\n",
       "      <td>Google News</td>\n",
       "      <td>NEWS_AND_MAGAZINES</td>\n",
       "      <td>3.9</td>\n",
       "      <td>877635.0</td>\n",
       "      <td>13</td>\n",
       "      <td>1000000000</td>\n",
       "      <td>Free</td>\n",
       "      <td>0.0</td>\n",
       "      <td>Teen</td>\n",
       "    </tr>\n",
       "    <tr>\n",
       "      <th>4098</th>\n",
       "      <td>Maps - Navigate &amp; Explore</td>\n",
       "      <td>TRAVEL_AND_LOCAL</td>\n",
       "      <td>4.3</td>\n",
       "      <td>9231613.0</td>\n",
       "      <td>-1</td>\n",
       "      <td>1000000000</td>\n",
       "      <td>Free</td>\n",
       "      <td>0.0</td>\n",
       "      <td>Everyone</td>\n",
       "    </tr>\n",
       "    <tr>\n",
       "      <th>3909</th>\n",
       "      <td>Instagram</td>\n",
       "      <td>SOCIAL</td>\n",
       "      <td>4.5</td>\n",
       "      <td>66509917.0</td>\n",
       "      <td>-1</td>\n",
       "      <td>1000000000</td>\n",
       "      <td>Free</td>\n",
       "      <td>0.0</td>\n",
       "      <td>Teen</td>\n",
       "    </tr>\n",
       "    <tr>\n",
       "      <th>2604</th>\n",
       "      <td>Instagram</td>\n",
       "      <td>SOCIAL</td>\n",
       "      <td>4.5</td>\n",
       "      <td>66577446.0</td>\n",
       "      <td>-1</td>\n",
       "      <td>1000000000</td>\n",
       "      <td>Free</td>\n",
       "      <td>0.0</td>\n",
       "      <td>Teen</td>\n",
       "    </tr>\n",
       "  </tbody>\n",
       "</table>\n",
       "</div>"
      ],
      "text/plain": [
       "                            App            Category  Rating     Reviews Size  \\\n",
       "386                    Hangouts       COMMUNICATION     4.0   3419433.0   -1   \n",
       "3736                Google News  NEWS_AND_MAGAZINES     3.9    877635.0   13   \n",
       "4098  Maps - Navigate & Explore    TRAVEL_AND_LOCAL     4.3   9231613.0   -1   \n",
       "3909                  Instagram              SOCIAL     4.5  66509917.0   -1   \n",
       "2604                  Instagram              SOCIAL     4.5  66577446.0   -1   \n",
       "\n",
       "        Installs  Type  Price Content Rating  \n",
       "386   1000000000  Free    0.0       Everyone  \n",
       "3736  1000000000  Free    0.0           Teen  \n",
       "4098  1000000000  Free    0.0       Everyone  \n",
       "3909  1000000000  Free    0.0           Teen  \n",
       "2604  1000000000  Free    0.0           Teen  "
      ]
     },
     "execution_count": 58,
     "metadata": {},
     "output_type": "execute_result"
    }
   ],
   "source": [
    "# Sorting (descending sorting) the dataframe by number of installs\n",
    "df.sort_values(by=\"Installs\", ascending= False).head()"
   ]
  },
  {
   "cell_type": "code",
   "execution_count": 59,
   "id": "48ef70aa",
   "metadata": {
    "execution": {
     "iopub.execute_input": "2022-10-19T11:25:47.492652Z",
     "iopub.status.busy": "2022-10-19T11:25:47.492153Z",
     "iopub.status.idle": "2022-10-19T11:25:47.500651Z",
     "shell.execute_reply": "2022-10-19T11:25:47.499442Z"
    },
    "papermill": {
     "duration": 0.044719,
     "end_time": "2022-10-19T11:25:47.503283",
     "exception": false,
     "start_time": "2022-10-19T11:25:47.458564",
     "status": "completed"
    },
    "tags": []
   },
   "outputs": [],
   "source": [
    "#Here we make dataframe for top most installed apps\n",
    "top_installed_apps=df.sort_values(by=\"Installs\", ascending= False)"
   ]
  },
  {
   "cell_type": "code",
   "execution_count": 60,
   "id": "e6a82202",
   "metadata": {
    "execution": {
     "iopub.execute_input": "2022-10-19T11:25:47.568844Z",
     "iopub.status.busy": "2022-10-19T11:25:47.567664Z",
     "iopub.status.idle": "2022-10-19T11:25:47.585368Z",
     "shell.execute_reply": "2022-10-19T11:25:47.583939Z"
    },
    "papermill": {
     "duration": 0.053368,
     "end_time": "2022-10-19T11:25:47.588166",
     "exception": false,
     "start_time": "2022-10-19T11:25:47.534798",
     "status": "completed"
    },
    "tags": []
   },
   "outputs": [
    {
     "data": {
      "text/html": [
       "<div>\n",
       "<style scoped>\n",
       "    .dataframe tbody tr th:only-of-type {\n",
       "        vertical-align: middle;\n",
       "    }\n",
       "\n",
       "    .dataframe tbody tr th {\n",
       "        vertical-align: top;\n",
       "    }\n",
       "\n",
       "    .dataframe thead th {\n",
       "        text-align: right;\n",
       "    }\n",
       "</style>\n",
       "<table border=\"1\" class=\"dataframe\">\n",
       "  <thead>\n",
       "    <tr style=\"text-align: right;\">\n",
       "      <th></th>\n",
       "      <th>App</th>\n",
       "      <th>Category</th>\n",
       "      <th>Rating</th>\n",
       "      <th>Reviews</th>\n",
       "      <th>Size</th>\n",
       "      <th>Installs</th>\n",
       "      <th>Type</th>\n",
       "      <th>Price</th>\n",
       "      <th>Content Rating</th>\n",
       "    </tr>\n",
       "  </thead>\n",
       "  <tbody>\n",
       "    <tr>\n",
       "      <th>386</th>\n",
       "      <td>Hangouts</td>\n",
       "      <td>COMMUNICATION</td>\n",
       "      <td>4.0</td>\n",
       "      <td>3419433.0</td>\n",
       "      <td>-1</td>\n",
       "      <td>1000000000</td>\n",
       "      <td>Free</td>\n",
       "      <td>0.0</td>\n",
       "      <td>Everyone</td>\n",
       "    </tr>\n",
       "    <tr>\n",
       "      <th>3736</th>\n",
       "      <td>Google News</td>\n",
       "      <td>NEWS_AND_MAGAZINES</td>\n",
       "      <td>3.9</td>\n",
       "      <td>877635.0</td>\n",
       "      <td>13</td>\n",
       "      <td>1000000000</td>\n",
       "      <td>Free</td>\n",
       "      <td>0.0</td>\n",
       "      <td>Teen</td>\n",
       "    </tr>\n",
       "    <tr>\n",
       "      <th>4098</th>\n",
       "      <td>Maps - Navigate &amp; Explore</td>\n",
       "      <td>TRAVEL_AND_LOCAL</td>\n",
       "      <td>4.3</td>\n",
       "      <td>9231613.0</td>\n",
       "      <td>-1</td>\n",
       "      <td>1000000000</td>\n",
       "      <td>Free</td>\n",
       "      <td>0.0</td>\n",
       "      <td>Everyone</td>\n",
       "    </tr>\n",
       "    <tr>\n",
       "      <th>3909</th>\n",
       "      <td>Instagram</td>\n",
       "      <td>SOCIAL</td>\n",
       "      <td>4.5</td>\n",
       "      <td>66509917.0</td>\n",
       "      <td>-1</td>\n",
       "      <td>1000000000</td>\n",
       "      <td>Free</td>\n",
       "      <td>0.0</td>\n",
       "      <td>Teen</td>\n",
       "    </tr>\n",
       "    <tr>\n",
       "      <th>2604</th>\n",
       "      <td>Instagram</td>\n",
       "      <td>SOCIAL</td>\n",
       "      <td>4.5</td>\n",
       "      <td>66577446.0</td>\n",
       "      <td>-1</td>\n",
       "      <td>1000000000</td>\n",
       "      <td>Free</td>\n",
       "      <td>0.0</td>\n",
       "      <td>Teen</td>\n",
       "    </tr>\n",
       "  </tbody>\n",
       "</table>\n",
       "</div>"
      ],
      "text/plain": [
       "                            App            Category  Rating     Reviews Size  \\\n",
       "386                    Hangouts       COMMUNICATION     4.0   3419433.0   -1   \n",
       "3736                Google News  NEWS_AND_MAGAZINES     3.9    877635.0   13   \n",
       "4098  Maps - Navigate & Explore    TRAVEL_AND_LOCAL     4.3   9231613.0   -1   \n",
       "3909                  Instagram              SOCIAL     4.5  66509917.0   -1   \n",
       "2604                  Instagram              SOCIAL     4.5  66577446.0   -1   \n",
       "\n",
       "        Installs  Type  Price Content Rating  \n",
       "386   1000000000  Free    0.0       Everyone  \n",
       "3736  1000000000  Free    0.0           Teen  \n",
       "4098  1000000000  Free    0.0       Everyone  \n",
       "3909  1000000000  Free    0.0           Teen  \n",
       "2604  1000000000  Free    0.0           Teen  "
      ]
     },
     "execution_count": 60,
     "metadata": {},
     "output_type": "execute_result"
    }
   ],
   "source": [
    "#We read first 5 rows of this dataframe\n",
    "top_installed_apps.head()"
   ]
  },
  {
   "cell_type": "code",
   "execution_count": 61,
   "id": "f4df3c82",
   "metadata": {
    "execution": {
     "iopub.execute_input": "2022-10-19T11:25:47.654009Z",
     "iopub.status.busy": "2022-10-19T11:25:47.653149Z",
     "iopub.status.idle": "2022-10-19T11:25:47.661727Z",
     "shell.execute_reply": "2022-10-19T11:25:47.660722Z"
    },
    "papermill": {
     "duration": 0.043444,
     "end_time": "2022-10-19T11:25:47.664109",
     "exception": false,
     "start_time": "2022-10-19T11:25:47.620665",
     "status": "completed"
    },
    "tags": []
   },
   "outputs": [
    {
     "data": {
      "text/plain": [
       "49"
      ]
     },
     "execution_count": 61,
     "metadata": {},
     "output_type": "execute_result"
    }
   ],
   "source": [
    "# Apps with 1 billion installations (1b is the 1st greater class of installations in the dataset)\n",
    "len(df[df[\"Installs\"]>= 1000000000])"
   ]
  },
  {
   "cell_type": "markdown",
   "id": "d1cc786e",
   "metadata": {
    "papermill": {
     "duration": 0.030329,
     "end_time": "2022-10-19T11:25:47.725984",
     "exception": false,
     "start_time": "2022-10-19T11:25:47.695655",
     "status": "completed"
    },
    "tags": []
   },
   "source": [
    "- There are 49 apps with greater than 1 billion installation"
   ]
  },
  {
   "cell_type": "code",
   "execution_count": 62,
   "id": "66dfe3ae",
   "metadata": {
    "execution": {
     "iopub.execute_input": "2022-10-19T11:25:47.792198Z",
     "iopub.status.busy": "2022-10-19T11:25:47.791443Z",
     "iopub.status.idle": "2022-10-19T11:25:47.813161Z",
     "shell.execute_reply": "2022-10-19T11:25:47.811919Z"
    },
    "papermill": {
     "duration": 0.05787,
     "end_time": "2022-10-19T11:25:47.815663",
     "exception": false,
     "start_time": "2022-10-19T11:25:47.757793",
     "status": "completed"
    },
    "tags": []
   },
   "outputs": [
    {
     "data": {
      "text/html": [
       "<div>\n",
       "<style scoped>\n",
       "    .dataframe tbody tr th:only-of-type {\n",
       "        vertical-align: middle;\n",
       "    }\n",
       "\n",
       "    .dataframe tbody tr th {\n",
       "        vertical-align: top;\n",
       "    }\n",
       "\n",
       "    .dataframe thead th {\n",
       "        text-align: right;\n",
       "    }\n",
       "</style>\n",
       "<table border=\"1\" class=\"dataframe\">\n",
       "  <thead>\n",
       "    <tr style=\"text-align: right;\">\n",
       "      <th></th>\n",
       "      <th>App</th>\n",
       "      <th>Category</th>\n",
       "      <th>Rating</th>\n",
       "      <th>Reviews</th>\n",
       "      <th>Size</th>\n",
       "      <th>Installs</th>\n",
       "      <th>Type</th>\n",
       "      <th>Price</th>\n",
       "      <th>Content Rating</th>\n",
       "    </tr>\n",
       "  </thead>\n",
       "  <tbody>\n",
       "    <tr>\n",
       "      <th>1654</th>\n",
       "      <td>Subway Surfers</td>\n",
       "      <td>GAME</td>\n",
       "      <td>4.5</td>\n",
       "      <td>27722264.0</td>\n",
       "      <td>76</td>\n",
       "      <td>1000000000</td>\n",
       "      <td>Free</td>\n",
       "      <td>0.0</td>\n",
       "      <td>Everyone 10+</td>\n",
       "    </tr>\n",
       "    <tr>\n",
       "      <th>1700</th>\n",
       "      <td>Subway Surfers</td>\n",
       "      <td>GAME</td>\n",
       "      <td>4.5</td>\n",
       "      <td>27723193.0</td>\n",
       "      <td>76</td>\n",
       "      <td>1000000000</td>\n",
       "      <td>Free</td>\n",
       "      <td>0.0</td>\n",
       "      <td>Everyone 10+</td>\n",
       "    </tr>\n",
       "    <tr>\n",
       "      <th>1750</th>\n",
       "      <td>Subway Surfers</td>\n",
       "      <td>GAME</td>\n",
       "      <td>4.5</td>\n",
       "      <td>27724094.0</td>\n",
       "      <td>76</td>\n",
       "      <td>1000000000</td>\n",
       "      <td>Free</td>\n",
       "      <td>0.0</td>\n",
       "      <td>Everyone 10+</td>\n",
       "    </tr>\n",
       "    <tr>\n",
       "      <th>1872</th>\n",
       "      <td>Subway Surfers</td>\n",
       "      <td>GAME</td>\n",
       "      <td>4.5</td>\n",
       "      <td>27725352.0</td>\n",
       "      <td>76</td>\n",
       "      <td>1000000000</td>\n",
       "      <td>Free</td>\n",
       "      <td>0.0</td>\n",
       "      <td>Everyone 10+</td>\n",
       "    </tr>\n",
       "    <tr>\n",
       "      <th>2545</th>\n",
       "      <td>Instagram</td>\n",
       "      <td>SOCIAL</td>\n",
       "      <td>4.5</td>\n",
       "      <td>66577313.0</td>\n",
       "      <td>-1</td>\n",
       "      <td>1000000000</td>\n",
       "      <td>Free</td>\n",
       "      <td>0.0</td>\n",
       "      <td>Teen</td>\n",
       "    </tr>\n",
       "  </tbody>\n",
       "</table>\n",
       "</div>"
      ],
      "text/plain": [
       "                 App Category  Rating     Reviews Size    Installs  Type  \\\n",
       "1654  Subway Surfers     GAME     4.5  27722264.0   76  1000000000  Free   \n",
       "1700  Subway Surfers     GAME     4.5  27723193.0   76  1000000000  Free   \n",
       "1750  Subway Surfers     GAME     4.5  27724094.0   76  1000000000  Free   \n",
       "1872  Subway Surfers     GAME     4.5  27725352.0   76  1000000000  Free   \n",
       "2545       Instagram   SOCIAL     4.5  66577313.0   -1  1000000000  Free   \n",
       "\n",
       "      Price Content Rating  \n",
       "1654    0.0   Everyone 10+  \n",
       "1700    0.0   Everyone 10+  \n",
       "1750    0.0   Everyone 10+  \n",
       "1872    0.0   Everyone 10+  \n",
       "2545    0.0           Teen  "
      ]
     },
     "execution_count": 62,
     "metadata": {},
     "output_type": "execute_result"
    }
   ],
   "source": [
    "#Now making another dataframe that gives most installed and most rated apps\n",
    "top_installed_and_rated_apps = df.sort_values(by=[\"Installs\", \"Rating\"], ascending=False)\n",
    "top_installed_and_rated_apps.head() # main top apps"
   ]
  },
  {
   "cell_type": "code",
   "execution_count": 63,
   "id": "6d36b54e",
   "metadata": {
    "execution": {
     "iopub.execute_input": "2022-10-19T11:25:47.881111Z",
     "iopub.status.busy": "2022-10-19T11:25:47.880369Z",
     "iopub.status.idle": "2022-10-19T11:25:47.906987Z",
     "shell.execute_reply": "2022-10-19T11:25:47.906109Z"
    },
    "papermill": {
     "duration": 0.062257,
     "end_time": "2022-10-19T11:25:47.909225",
     "exception": false,
     "start_time": "2022-10-19T11:25:47.846968",
     "status": "completed"
    },
    "tags": []
   },
   "outputs": [
    {
     "data": {
      "text/html": [
       "<div>\n",
       "<style scoped>\n",
       "    .dataframe tbody tr th:only-of-type {\n",
       "        vertical-align: middle;\n",
       "    }\n",
       "\n",
       "    .dataframe tbody tr th {\n",
       "        vertical-align: top;\n",
       "    }\n",
       "\n",
       "    .dataframe thead th {\n",
       "        text-align: right;\n",
       "    }\n",
       "</style>\n",
       "<table border=\"1\" class=\"dataframe\">\n",
       "  <thead>\n",
       "    <tr style=\"text-align: right;\">\n",
       "      <th></th>\n",
       "      <th>App</th>\n",
       "      <th>Category</th>\n",
       "      <th>Rating</th>\n",
       "      <th>Reviews</th>\n",
       "      <th>Size</th>\n",
       "      <th>Installs</th>\n",
       "      <th>Type</th>\n",
       "      <th>Price</th>\n",
       "      <th>Content Rating</th>\n",
       "    </tr>\n",
       "  </thead>\n",
       "  <tbody>\n",
       "    <tr>\n",
       "      <th>2544</th>\n",
       "      <td>Facebook</td>\n",
       "      <td>SOCIAL</td>\n",
       "      <td>4.1</td>\n",
       "      <td>78158306.0</td>\n",
       "      <td>-1</td>\n",
       "      <td>1000000000</td>\n",
       "      <td>Free</td>\n",
       "      <td>0.0</td>\n",
       "      <td>Teen</td>\n",
       "    </tr>\n",
       "    <tr>\n",
       "      <th>3943</th>\n",
       "      <td>Facebook</td>\n",
       "      <td>SOCIAL</td>\n",
       "      <td>4.1</td>\n",
       "      <td>78128208.0</td>\n",
       "      <td>-1</td>\n",
       "      <td>1000000000</td>\n",
       "      <td>Free</td>\n",
       "      <td>0.0</td>\n",
       "      <td>Teen</td>\n",
       "    </tr>\n",
       "    <tr>\n",
       "      <th>336</th>\n",
       "      <td>WhatsApp Messenger</td>\n",
       "      <td>COMMUNICATION</td>\n",
       "      <td>4.4</td>\n",
       "      <td>69119316.0</td>\n",
       "      <td>-1</td>\n",
       "      <td>1000000000</td>\n",
       "      <td>Free</td>\n",
       "      <td>0.0</td>\n",
       "      <td>Everyone</td>\n",
       "    </tr>\n",
       "    <tr>\n",
       "      <th>3904</th>\n",
       "      <td>WhatsApp Messenger</td>\n",
       "      <td>COMMUNICATION</td>\n",
       "      <td>4.4</td>\n",
       "      <td>69109672.0</td>\n",
       "      <td>-1</td>\n",
       "      <td>1000000000</td>\n",
       "      <td>Free</td>\n",
       "      <td>0.0</td>\n",
       "      <td>Everyone</td>\n",
       "    </tr>\n",
       "    <tr>\n",
       "      <th>2604</th>\n",
       "      <td>Instagram</td>\n",
       "      <td>SOCIAL</td>\n",
       "      <td>4.5</td>\n",
       "      <td>66577446.0</td>\n",
       "      <td>-1</td>\n",
       "      <td>1000000000</td>\n",
       "      <td>Free</td>\n",
       "      <td>0.0</td>\n",
       "      <td>Teen</td>\n",
       "    </tr>\n",
       "  </tbody>\n",
       "</table>\n",
       "</div>"
      ],
      "text/plain": [
       "                     App       Category  Rating     Reviews Size    Installs  \\\n",
       "2544            Facebook         SOCIAL     4.1  78158306.0   -1  1000000000   \n",
       "3943            Facebook         SOCIAL     4.1  78128208.0   -1  1000000000   \n",
       "336   WhatsApp Messenger  COMMUNICATION     4.4  69119316.0   -1  1000000000   \n",
       "3904  WhatsApp Messenger  COMMUNICATION     4.4  69109672.0   -1  1000000000   \n",
       "2604           Instagram         SOCIAL     4.5  66577446.0   -1  1000000000   \n",
       "\n",
       "      Type  Price Content Rating  \n",
       "2544  Free    0.0           Teen  \n",
       "3943  Free    0.0           Teen  \n",
       "336   Free    0.0       Everyone  \n",
       "3904  Free    0.0       Everyone  \n",
       "2604  Free    0.0           Teen  "
      ]
     },
     "execution_count": 63,
     "metadata": {},
     "output_type": "execute_result"
    }
   ],
   "source": [
    "#Now, we make dataframe for most installed and reviewed apps\n",
    "top_installed_and_reviewed_apps = df.sort_values(by=[\"Installs\", \"Reviews\"], ascending=False)\n",
    "top_installed_and_reviewed_apps.head()"
   ]
  },
  {
   "cell_type": "code",
   "execution_count": 64,
   "id": "57d69387",
   "metadata": {
    "execution": {
     "iopub.execute_input": "2022-10-19T11:25:47.976214Z",
     "iopub.status.busy": "2022-10-19T11:25:47.975458Z",
     "iopub.status.idle": "2022-10-19T11:25:47.980487Z",
     "shell.execute_reply": "2022-10-19T11:25:47.979523Z"
    },
    "papermill": {
     "duration": 0.042048,
     "end_time": "2022-10-19T11:25:47.982983",
     "exception": false,
     "start_time": "2022-10-19T11:25:47.940935",
     "status": "completed"
    },
    "tags": []
   },
   "outputs": [],
   "source": [
    "#Making another dataframe having 10 rows of the dataframetop_installed_and_rated_apps\n",
    "top_10_installed_and_rated_apps= top_installed_and_rated_apps.head(10)"
   ]
  },
  {
   "cell_type": "code",
   "execution_count": 65,
   "id": "980d06ec",
   "metadata": {
    "execution": {
     "iopub.execute_input": "2022-10-19T11:25:48.051937Z",
     "iopub.status.busy": "2022-10-19T11:25:48.051236Z",
     "iopub.status.idle": "2022-10-19T11:25:48.059575Z",
     "shell.execute_reply": "2022-10-19T11:25:48.058667Z"
    },
    "papermill": {
     "duration": 0.045187,
     "end_time": "2022-10-19T11:25:48.061825",
     "exception": false,
     "start_time": "2022-10-19T11:25:48.016638",
     "status": "completed"
    },
    "tags": []
   },
   "outputs": [
    {
     "data": {
      "text/plain": [
       "2545         SOCIAL\n",
       "2604         SOCIAL\n",
       "2808    PHOTOGRAPHY\n",
       "2853    PHOTOGRAPHY\n",
       "2884    PHOTOGRAPHY\n",
       "1654           GAME\n",
       "1700           GAME\n",
       "1750           GAME\n",
       "1872           GAME\n",
       "3896           GAME\n",
       "Name: Category, dtype: object"
      ]
     },
     "execution_count": 65,
     "metadata": {},
     "output_type": "execute_result"
    }
   ],
   "source": [
    "#finding top 10 installed and rated app \n",
    "top_10_installed_and_rated_apps.Category.sort_values(ascending=False)"
   ]
  },
  {
   "cell_type": "code",
   "execution_count": 66,
   "id": "1b1e1829",
   "metadata": {
    "execution": {
     "iopub.execute_input": "2022-10-19T11:25:48.127768Z",
     "iopub.status.busy": "2022-10-19T11:25:48.126467Z",
     "iopub.status.idle": "2022-10-19T11:25:48.136301Z",
     "shell.execute_reply": "2022-10-19T11:25:48.135039Z"
    },
    "papermill": {
     "duration": 0.045111,
     "end_time": "2022-10-19T11:25:48.138646",
     "exception": false,
     "start_time": "2022-10-19T11:25:48.093535",
     "status": "completed"
    },
    "tags": []
   },
   "outputs": [
    {
     "data": {
      "text/plain": [
       "8190"
      ]
     },
     "execution_count": 66,
     "metadata": {},
     "output_type": "execute_result"
    }
   ],
   "source": [
    "# There are totally 8190 apps\n",
    "df[\"App\"].nunique()"
   ]
  },
  {
   "cell_type": "code",
   "execution_count": 67,
   "id": "d7a66963",
   "metadata": {
    "execution": {
     "iopub.execute_input": "2022-10-19T11:25:48.204952Z",
     "iopub.status.busy": "2022-10-19T11:25:48.204456Z",
     "iopub.status.idle": "2022-10-19T11:25:48.213515Z",
     "shell.execute_reply": "2022-10-19T11:25:48.212342Z"
    },
    "papermill": {
     "duration": 0.044612,
     "end_time": "2022-10-19T11:25:48.215795",
     "exception": false,
     "start_time": "2022-10-19T11:25:48.171183",
     "status": "completed"
    },
    "tags": []
   },
   "outputs": [
    {
     "data": {
      "text/plain": [
       "6"
      ]
     },
     "execution_count": 67,
     "metadata": {},
     "output_type": "execute_result"
    }
   ],
   "source": [
    "df[\"Content Rating\"].nunique()"
   ]
  },
  {
   "cell_type": "code",
   "execution_count": 68,
   "id": "32505ac3",
   "metadata": {
    "execution": {
     "iopub.execute_input": "2022-10-19T11:25:48.281803Z",
     "iopub.status.busy": "2022-10-19T11:25:48.281353Z",
     "iopub.status.idle": "2022-10-19T11:25:48.291692Z",
     "shell.execute_reply": "2022-10-19T11:25:48.290422Z"
    },
    "papermill": {
     "duration": 0.046349,
     "end_time": "2022-10-19T11:25:48.294203",
     "exception": false,
     "start_time": "2022-10-19T11:25:48.247854",
     "status": "completed"
    },
    "tags": []
   },
   "outputs": [
    {
     "data": {
      "text/plain": [
       "Everyone           7083\n",
       "Teen               1021\n",
       "Mature 17+          411\n",
       "Everyone 10+        359\n",
       "Adults only 18+       3\n",
       "Unrated               1\n",
       "Name: Content Rating, dtype: int64"
      ]
     },
     "execution_count": 68,
     "metadata": {},
     "output_type": "execute_result"
    }
   ],
   "source": [
    "#Count for content rating in each of the category\n",
    "df[\"Content Rating\"].value_counts(ascending=False)"
   ]
  },
  {
   "cell_type": "code",
   "execution_count": 69,
   "id": "b8f75a02",
   "metadata": {
    "execution": {
     "iopub.execute_input": "2022-10-19T11:25:48.360898Z",
     "iopub.status.busy": "2022-10-19T11:25:48.360178Z",
     "iopub.status.idle": "2022-10-19T11:25:48.585460Z",
     "shell.execute_reply": "2022-10-19T11:25:48.583722Z"
    },
    "papermill": {
     "duration": 0.262661,
     "end_time": "2022-10-19T11:25:48.589096",
     "exception": false,
     "start_time": "2022-10-19T11:25:48.326435",
     "status": "completed"
    },
    "tags": []
   },
   "outputs": [
    {
     "data": {
      "text/plain": [
       "<matplotlib.legend.Legend at 0x21f0ebd3940>"
      ]
     },
     "execution_count": 69,
     "metadata": {},
     "output_type": "execute_result"
    },
    {
     "data": {
      "image/png": "[encoded data removed]",
      "text/plain": [
       "<Figure size 432x432 with 1 Axes>"
      ]
     },
     "metadata": {},
     "output_type": "display_data"
    }
   ],
   "source": [
    "#Basic pie chart to view distribution of apps across various categories\n",
    "fig, ax = plt.subplots(figsize=(6, 6), subplot_kw=dict(aspect=\"equal\"))\n",
    "number_of_apps = df[\"Content Rating\"].value_counts()\n",
    "labels = number_of_apps.index\n",
    "sizes = number_of_apps.values\n",
    "ax.pie(sizes,labeldistance=2,autopct='%1.1f%%')\n",
    "ax.legend(labels=labels,loc=\"right\",bbox_to_anchor=(0.9, 0, 0.5, 1))"
   ]
  },
  {
   "cell_type": "code",
   "execution_count": 70,
   "id": "f4d7d691",
   "metadata": {
    "execution": {
     "iopub.execute_input": "2022-10-19T11:25:48.674179Z",
     "iopub.status.busy": "2022-10-19T11:25:48.672627Z",
     "iopub.status.idle": "2022-10-19T11:25:48.692831Z",
     "shell.execute_reply": "2022-10-19T11:25:48.691871Z"
    },
    "papermill": {
     "duration": 0.058203,
     "end_time": "2022-10-19T11:25:48.695508",
     "exception": false,
     "start_time": "2022-10-19T11:25:48.637305",
     "status": "completed"
    },
    "tags": []
   },
   "outputs": [
    {
     "data": {
      "text/html": [
       "<div>\n",
       "<style scoped>\n",
       "    .dataframe tbody tr th:only-of-type {\n",
       "        vertical-align: middle;\n",
       "    }\n",
       "\n",
       "    .dataframe tbody tr th {\n",
       "        vertical-align: top;\n",
       "    }\n",
       "\n",
       "    .dataframe thead th {\n",
       "        text-align: right;\n",
       "    }\n",
       "</style>\n",
       "<table border=\"1\" class=\"dataframe\">\n",
       "  <thead>\n",
       "    <tr style=\"text-align: right;\">\n",
       "      <th></th>\n",
       "      <th>App</th>\n",
       "      <th>Category</th>\n",
       "      <th>Rating</th>\n",
       "      <th>Reviews</th>\n",
       "      <th>Size</th>\n",
       "      <th>Installs</th>\n",
       "      <th>Type</th>\n",
       "      <th>Price</th>\n",
       "      <th>Content Rating</th>\n",
       "    </tr>\n",
       "  </thead>\n",
       "  <tbody>\n",
       "    <tr>\n",
       "      <th>1654</th>\n",
       "      <td>Subway Surfers</td>\n",
       "      <td>GAME</td>\n",
       "      <td>4.5</td>\n",
       "      <td>27722264.0</td>\n",
       "      <td>76</td>\n",
       "      <td>1000000000</td>\n",
       "      <td>Free</td>\n",
       "      <td>0.0</td>\n",
       "      <td>Everyone 10+</td>\n",
       "    </tr>\n",
       "    <tr>\n",
       "      <th>1700</th>\n",
       "      <td>Subway Surfers</td>\n",
       "      <td>GAME</td>\n",
       "      <td>4.5</td>\n",
       "      <td>27723193.0</td>\n",
       "      <td>76</td>\n",
       "      <td>1000000000</td>\n",
       "      <td>Free</td>\n",
       "      <td>0.0</td>\n",
       "      <td>Everyone 10+</td>\n",
       "    </tr>\n",
       "    <tr>\n",
       "      <th>1750</th>\n",
       "      <td>Subway Surfers</td>\n",
       "      <td>GAME</td>\n",
       "      <td>4.5</td>\n",
       "      <td>27724094.0</td>\n",
       "      <td>76</td>\n",
       "      <td>1000000000</td>\n",
       "      <td>Free</td>\n",
       "      <td>0.0</td>\n",
       "      <td>Everyone 10+</td>\n",
       "    </tr>\n",
       "    <tr>\n",
       "      <th>1872</th>\n",
       "      <td>Subway Surfers</td>\n",
       "      <td>GAME</td>\n",
       "      <td>4.5</td>\n",
       "      <td>27725352.0</td>\n",
       "      <td>76</td>\n",
       "      <td>1000000000</td>\n",
       "      <td>Free</td>\n",
       "      <td>0.0</td>\n",
       "      <td>Everyone 10+</td>\n",
       "    </tr>\n",
       "    <tr>\n",
       "      <th>2545</th>\n",
       "      <td>Instagram</td>\n",
       "      <td>SOCIAL</td>\n",
       "      <td>4.5</td>\n",
       "      <td>66577313.0</td>\n",
       "      <td>-1</td>\n",
       "      <td>1000000000</td>\n",
       "      <td>Free</td>\n",
       "      <td>0.0</td>\n",
       "      <td>Teen</td>\n",
       "    </tr>\n",
       "    <tr>\n",
       "      <th>2604</th>\n",
       "      <td>Instagram</td>\n",
       "      <td>SOCIAL</td>\n",
       "      <td>4.5</td>\n",
       "      <td>66577446.0</td>\n",
       "      <td>-1</td>\n",
       "      <td>1000000000</td>\n",
       "      <td>Free</td>\n",
       "      <td>0.0</td>\n",
       "      <td>Teen</td>\n",
       "    </tr>\n",
       "    <tr>\n",
       "      <th>2808</th>\n",
       "      <td>Google Photos</td>\n",
       "      <td>PHOTOGRAPHY</td>\n",
       "      <td>4.5</td>\n",
       "      <td>10858556.0</td>\n",
       "      <td>-1</td>\n",
       "      <td>1000000000</td>\n",
       "      <td>Free</td>\n",
       "      <td>0.0</td>\n",
       "      <td>Everyone</td>\n",
       "    </tr>\n",
       "    <tr>\n",
       "      <th>2853</th>\n",
       "      <td>Google Photos</td>\n",
       "      <td>PHOTOGRAPHY</td>\n",
       "      <td>4.5</td>\n",
       "      <td>10858538.0</td>\n",
       "      <td>-1</td>\n",
       "      <td>1000000000</td>\n",
       "      <td>Free</td>\n",
       "      <td>0.0</td>\n",
       "      <td>Everyone</td>\n",
       "    </tr>\n",
       "    <tr>\n",
       "      <th>2884</th>\n",
       "      <td>Google Photos</td>\n",
       "      <td>PHOTOGRAPHY</td>\n",
       "      <td>4.5</td>\n",
       "      <td>10859051.0</td>\n",
       "      <td>-1</td>\n",
       "      <td>1000000000</td>\n",
       "      <td>Free</td>\n",
       "      <td>0.0</td>\n",
       "      <td>Everyone</td>\n",
       "    </tr>\n",
       "    <tr>\n",
       "      <th>3896</th>\n",
       "      <td>Subway Surfers</td>\n",
       "      <td>GAME</td>\n",
       "      <td>4.5</td>\n",
       "      <td>27711703.0</td>\n",
       "      <td>76</td>\n",
       "      <td>1000000000</td>\n",
       "      <td>Free</td>\n",
       "      <td>0.0</td>\n",
       "      <td>Everyone 10+</td>\n",
       "    </tr>\n",
       "  </tbody>\n",
       "</table>\n",
       "</div>"
      ],
      "text/plain": [
       "                 App     Category  Rating     Reviews Size    Installs  Type  \\\n",
       "1654  Subway Surfers         GAME     4.5  27722264.0   76  1000000000  Free   \n",
       "1700  Subway Surfers         GAME     4.5  27723193.0   76  1000000000  Free   \n",
       "1750  Subway Surfers         GAME     4.5  27724094.0   76  1000000000  Free   \n",
       "1872  Subway Surfers         GAME     4.5  27725352.0   76  1000000000  Free   \n",
       "2545       Instagram       SOCIAL     4.5  66577313.0   -1  1000000000  Free   \n",
       "2604       Instagram       SOCIAL     4.5  66577446.0   -1  1000000000  Free   \n",
       "2808   Google Photos  PHOTOGRAPHY     4.5  10858556.0   -1  1000000000  Free   \n",
       "2853   Google Photos  PHOTOGRAPHY     4.5  10858538.0   -1  1000000000  Free   \n",
       "2884   Google Photos  PHOTOGRAPHY     4.5  10859051.0   -1  1000000000  Free   \n",
       "3896  Subway Surfers         GAME     4.5  27711703.0   76  1000000000  Free   \n",
       "\n",
       "      Price Content Rating  \n",
       "1654    0.0   Everyone 10+  \n",
       "1700    0.0   Everyone 10+  \n",
       "1750    0.0   Everyone 10+  \n",
       "1872    0.0   Everyone 10+  \n",
       "2545    0.0           Teen  \n",
       "2604    0.0           Teen  \n",
       "2808    0.0       Everyone  \n",
       "2853    0.0       Everyone  \n",
       "2884    0.0       Everyone  \n",
       "3896    0.0   Everyone 10+  "
      ]
     },
     "execution_count": 70,
     "metadata": {},
     "output_type": "execute_result"
    }
   ],
   "source": [
    "# In this and in the next 2 commands, i will try to see if there is any correlation between installations, Rating and Reviews\n",
    "\n",
    "top_10_installed_and_rated_apps"
   ]
  },
  {
   "cell_type": "code",
   "execution_count": 71,
   "id": "fd866584",
   "metadata": {
    "execution": {
     "iopub.execute_input": "2022-10-19T11:25:48.764939Z",
     "iopub.status.busy": "2022-10-19T11:25:48.763903Z",
     "iopub.status.idle": "2022-10-19T11:25:48.786299Z",
     "shell.execute_reply": "2022-10-19T11:25:48.785275Z"
    },
    "papermill": {
     "duration": 0.058901,
     "end_time": "2022-10-19T11:25:48.788609",
     "exception": false,
     "start_time": "2022-10-19T11:25:48.729708",
     "status": "completed"
    },
    "tags": []
   },
   "outputs": [
    {
     "data": {
      "text/html": [
       "<div>\n",
       "<style scoped>\n",
       "    .dataframe tbody tr th:only-of-type {\n",
       "        vertical-align: middle;\n",
       "    }\n",
       "\n",
       "    .dataframe tbody tr th {\n",
       "        vertical-align: top;\n",
       "    }\n",
       "\n",
       "    .dataframe thead th {\n",
       "        text-align: right;\n",
       "    }\n",
       "</style>\n",
       "<table border=\"1\" class=\"dataframe\">\n",
       "  <thead>\n",
       "    <tr style=\"text-align: right;\">\n",
       "      <th></th>\n",
       "      <th>App</th>\n",
       "      <th>Category</th>\n",
       "      <th>Rating</th>\n",
       "      <th>Reviews</th>\n",
       "      <th>Size</th>\n",
       "      <th>Installs</th>\n",
       "      <th>Type</th>\n",
       "      <th>Price</th>\n",
       "      <th>Content Rating</th>\n",
       "    </tr>\n",
       "  </thead>\n",
       "  <tbody>\n",
       "    <tr>\n",
       "      <th>9536</th>\n",
       "      <td>Shabad Gurubani Punjabi mp3 free - Ek Onkar Sa...</td>\n",
       "      <td>FAMILY</td>\n",
       "      <td>5.0</td>\n",
       "      <td>5.0</td>\n",
       "      <td>64</td>\n",
       "      <td>100</td>\n",
       "      <td>Free</td>\n",
       "      <td>0.00</td>\n",
       "      <td>Everyone</td>\n",
       "    </tr>\n",
       "    <tr>\n",
       "      <th>9518</th>\n",
       "      <td>Asha Ek Hope - ALS/ MND</td>\n",
       "      <td>MEDICAL</td>\n",
       "      <td>5.0</td>\n",
       "      <td>2.0</td>\n",
       "      <td>11</td>\n",
       "      <td>100</td>\n",
       "      <td>Free</td>\n",
       "      <td>0.00</td>\n",
       "      <td>Everyone</td>\n",
       "    </tr>\n",
       "    <tr>\n",
       "      <th>10166</th>\n",
       "      <td>FA Player Essentials</td>\n",
       "      <td>SPORTS</td>\n",
       "      <td>5.0</td>\n",
       "      <td>7.0</td>\n",
       "      <td>68</td>\n",
       "      <td>100</td>\n",
       "      <td>Free</td>\n",
       "      <td>0.00</td>\n",
       "      <td>Everyone</td>\n",
       "    </tr>\n",
       "    <tr>\n",
       "      <th>7418</th>\n",
       "      <td>CJ Gospel Hour</td>\n",
       "      <td>SOCIAL</td>\n",
       "      <td>5.0</td>\n",
       "      <td>7.0</td>\n",
       "      <td>18</td>\n",
       "      <td>100</td>\n",
       "      <td>Free</td>\n",
       "      <td>0.00</td>\n",
       "      <td>Everyone</td>\n",
       "    </tr>\n",
       "    <tr>\n",
       "      <th>7405</th>\n",
       "      <td>Nur təfsiri 1-ci cild</td>\n",
       "      <td>LIBRARIES_AND_DEMO</td>\n",
       "      <td>5.0</td>\n",
       "      <td>15.0</td>\n",
       "      <td>1.4</td>\n",
       "      <td>1000</td>\n",
       "      <td>Free</td>\n",
       "      <td>0.00</td>\n",
       "      <td>Everyone</td>\n",
       "    </tr>\n",
       "    <tr>\n",
       "      <th>7402</th>\n",
       "      <td>Trovami se ci riesci</td>\n",
       "      <td>GAME</td>\n",
       "      <td>5.0</td>\n",
       "      <td>11.0</td>\n",
       "      <td>6.1</td>\n",
       "      <td>10</td>\n",
       "      <td>Free</td>\n",
       "      <td>0.00</td>\n",
       "      <td>Everyone</td>\n",
       "    </tr>\n",
       "    <tr>\n",
       "      <th>5268</th>\n",
       "      <td>AJ Rafael Music Lessons</td>\n",
       "      <td>FAMILY</td>\n",
       "      <td>5.0</td>\n",
       "      <td>1.0</td>\n",
       "      <td>8.2</td>\n",
       "      <td>10</td>\n",
       "      <td>Free</td>\n",
       "      <td>0.00</td>\n",
       "      <td>Everyone</td>\n",
       "    </tr>\n",
       "    <tr>\n",
       "      <th>6604</th>\n",
       "      <td>BP Log lite</td>\n",
       "      <td>LIFESTYLE</td>\n",
       "      <td>5.0</td>\n",
       "      <td>3.0</td>\n",
       "      <td>1.5</td>\n",
       "      <td>100</td>\n",
       "      <td>Free</td>\n",
       "      <td>0.00</td>\n",
       "      <td>Everyone</td>\n",
       "    </tr>\n",
       "    <tr>\n",
       "      <th>6605</th>\n",
       "      <td>MI-BP</td>\n",
       "      <td>HEALTH_AND_FITNESS</td>\n",
       "      <td>5.0</td>\n",
       "      <td>1.0</td>\n",
       "      <td>12</td>\n",
       "      <td>50</td>\n",
       "      <td>Free</td>\n",
       "      <td>0.00</td>\n",
       "      <td>Everyone</td>\n",
       "    </tr>\n",
       "    <tr>\n",
       "      <th>5263</th>\n",
       "      <td>AJ Blue Icon Pack</td>\n",
       "      <td>PERSONALIZATION</td>\n",
       "      <td>5.0</td>\n",
       "      <td>4.0</td>\n",
       "      <td>31</td>\n",
       "      <td>50</td>\n",
       "      <td>Paid</td>\n",
       "      <td>0.99</td>\n",
       "      <td>Everyone</td>\n",
       "    </tr>\n",
       "  </tbody>\n",
       "</table>\n",
       "</div>"
      ],
      "text/plain": [
       "                                                     App            Category  \\\n",
       "9536   Shabad Gurubani Punjabi mp3 free - Ek Onkar Sa...              FAMILY   \n",
       "9518                             Asha Ek Hope - ALS/ MND             MEDICAL   \n",
       "10166                               FA Player Essentials              SPORTS   \n",
       "7418                                      CJ Gospel Hour              SOCIAL   \n",
       "7405                               Nur təfsiri 1-ci cild  LIBRARIES_AND_DEMO   \n",
       "7402                                Trovami se ci riesci                GAME   \n",
       "5268                             AJ Rafael Music Lessons              FAMILY   \n",
       "6604                                         BP Log lite           LIFESTYLE   \n",
       "6605                                               MI-BP  HEALTH_AND_FITNESS   \n",
       "5263                                   AJ Blue Icon Pack     PERSONALIZATION   \n",
       "\n",
       "       Rating  Reviews Size  Installs  Type  Price Content Rating  \n",
       "9536      5.0      5.0   64       100  Free   0.00       Everyone  \n",
       "9518      5.0      2.0   11       100  Free   0.00       Everyone  \n",
       "10166     5.0      7.0   68       100  Free   0.00       Everyone  \n",
       "7418      5.0      7.0   18       100  Free   0.00       Everyone  \n",
       "7405      5.0     15.0  1.4      1000  Free   0.00       Everyone  \n",
       "7402      5.0     11.0  6.1        10  Free   0.00       Everyone  \n",
       "5268      5.0      1.0  8.2        10  Free   0.00       Everyone  \n",
       "6604      5.0      3.0  1.5       100  Free   0.00       Everyone  \n",
       "6605      5.0      1.0   12        50  Free   0.00       Everyone  \n",
       "5263      5.0      4.0   31        50  Paid   0.99       Everyone  "
      ]
     },
     "execution_count": 71,
     "metadata": {},
     "output_type": "execute_result"
    }
   ],
   "source": [
    "# Reading top 10 apps sorted using rating\n",
    "df.sort_values(by=\"Rating\", ascending= False).head(10)"
   ]
  },
  {
   "cell_type": "code",
   "execution_count": 72,
   "id": "b5c91742",
   "metadata": {
    "execution": {
     "iopub.execute_input": "2022-10-19T11:25:48.857611Z",
     "iopub.status.busy": "2022-10-19T11:25:48.856444Z",
     "iopub.status.idle": "2022-10-19T11:25:48.877808Z",
     "shell.execute_reply": "2022-10-19T11:25:48.876593Z"
    },
    "papermill": {
     "duration": 0.058499,
     "end_time": "2022-10-19T11:25:48.880377",
     "exception": false,
     "start_time": "2022-10-19T11:25:48.821878",
     "status": "completed"
    },
    "tags": []
   },
   "outputs": [
    {
     "data": {
      "text/html": [
       "<div>\n",
       "<style scoped>\n",
       "    .dataframe tbody tr th:only-of-type {\n",
       "        vertical-align: middle;\n",
       "    }\n",
       "\n",
       "    .dataframe tbody tr th {\n",
       "        vertical-align: top;\n",
       "    }\n",
       "\n",
       "    .dataframe thead th {\n",
       "        text-align: right;\n",
       "    }\n",
       "</style>\n",
       "<table border=\"1\" class=\"dataframe\">\n",
       "  <thead>\n",
       "    <tr style=\"text-align: right;\">\n",
       "      <th></th>\n",
       "      <th>App</th>\n",
       "      <th>Category</th>\n",
       "      <th>Rating</th>\n",
       "      <th>Reviews</th>\n",
       "      <th>Size</th>\n",
       "      <th>Installs</th>\n",
       "      <th>Type</th>\n",
       "      <th>Price</th>\n",
       "      <th>Content Rating</th>\n",
       "    </tr>\n",
       "  </thead>\n",
       "  <tbody>\n",
       "    <tr>\n",
       "      <th>2544</th>\n",
       "      <td>Facebook</td>\n",
       "      <td>SOCIAL</td>\n",
       "      <td>4.1</td>\n",
       "      <td>78158306.0</td>\n",
       "      <td>-1</td>\n",
       "      <td>1000000000</td>\n",
       "      <td>Free</td>\n",
       "      <td>0.0</td>\n",
       "      <td>Teen</td>\n",
       "    </tr>\n",
       "    <tr>\n",
       "      <th>3943</th>\n",
       "      <td>Facebook</td>\n",
       "      <td>SOCIAL</td>\n",
       "      <td>4.1</td>\n",
       "      <td>78128208.0</td>\n",
       "      <td>-1</td>\n",
       "      <td>1000000000</td>\n",
       "      <td>Free</td>\n",
       "      <td>0.0</td>\n",
       "      <td>Teen</td>\n",
       "    </tr>\n",
       "    <tr>\n",
       "      <th>336</th>\n",
       "      <td>WhatsApp Messenger</td>\n",
       "      <td>COMMUNICATION</td>\n",
       "      <td>4.4</td>\n",
       "      <td>69119316.0</td>\n",
       "      <td>-1</td>\n",
       "      <td>1000000000</td>\n",
       "      <td>Free</td>\n",
       "      <td>0.0</td>\n",
       "      <td>Everyone</td>\n",
       "    </tr>\n",
       "    <tr>\n",
       "      <th>3904</th>\n",
       "      <td>WhatsApp Messenger</td>\n",
       "      <td>COMMUNICATION</td>\n",
       "      <td>4.4</td>\n",
       "      <td>69109672.0</td>\n",
       "      <td>-1</td>\n",
       "      <td>1000000000</td>\n",
       "      <td>Free</td>\n",
       "      <td>0.0</td>\n",
       "      <td>Everyone</td>\n",
       "    </tr>\n",
       "    <tr>\n",
       "      <th>2604</th>\n",
       "      <td>Instagram</td>\n",
       "      <td>SOCIAL</td>\n",
       "      <td>4.5</td>\n",
       "      <td>66577446.0</td>\n",
       "      <td>-1</td>\n",
       "      <td>1000000000</td>\n",
       "      <td>Free</td>\n",
       "      <td>0.0</td>\n",
       "      <td>Teen</td>\n",
       "    </tr>\n",
       "  </tbody>\n",
       "</table>\n",
       "</div>"
      ],
      "text/plain": [
       "                     App       Category  Rating     Reviews Size    Installs  \\\n",
       "2544            Facebook         SOCIAL     4.1  78158306.0   -1  1000000000   \n",
       "3943            Facebook         SOCIAL     4.1  78128208.0   -1  1000000000   \n",
       "336   WhatsApp Messenger  COMMUNICATION     4.4  69119316.0   -1  1000000000   \n",
       "3904  WhatsApp Messenger  COMMUNICATION     4.4  69109672.0   -1  1000000000   \n",
       "2604           Instagram         SOCIAL     4.5  66577446.0   -1  1000000000   \n",
       "\n",
       "      Type  Price Content Rating  \n",
       "2544  Free    0.0           Teen  \n",
       "3943  Free    0.0           Teen  \n",
       "336   Free    0.0       Everyone  \n",
       "3904  Free    0.0       Everyone  \n",
       "2604  Free    0.0           Teen  "
      ]
     },
     "execution_count": 72,
     "metadata": {},
     "output_type": "execute_result"
    }
   ],
   "source": [
    "#Here we read top  apps sorted by reviews\n",
    "df.sort_values(by=\"Reviews\", ascending= False).head()"
   ]
  },
  {
   "cell_type": "code",
   "execution_count": 73,
   "id": "a57b86da",
   "metadata": {
    "execution": {
     "iopub.execute_input": "2022-10-19T11:25:48.949498Z",
     "iopub.status.busy": "2022-10-19T11:25:48.948719Z",
     "iopub.status.idle": "2022-10-19T11:25:48.970311Z",
     "shell.execute_reply": "2022-10-19T11:25:48.969067Z"
    },
    "papermill": {
     "duration": 0.059141,
     "end_time": "2022-10-19T11:25:48.972813",
     "exception": false,
     "start_time": "2022-10-19T11:25:48.913672",
     "status": "completed"
    },
    "tags": []
   },
   "outputs": [
    {
     "data": {
      "text/html": [
       "<div>\n",
       "<style scoped>\n",
       "    .dataframe tbody tr th:only-of-type {\n",
       "        vertical-align: middle;\n",
       "    }\n",
       "\n",
       "    .dataframe tbody tr th {\n",
       "        vertical-align: top;\n",
       "    }\n",
       "\n",
       "    .dataframe thead th {\n",
       "        text-align: right;\n",
       "    }\n",
       "</style>\n",
       "<table border=\"1\" class=\"dataframe\">\n",
       "  <thead>\n",
       "    <tr style=\"text-align: right;\">\n",
       "      <th></th>\n",
       "      <th>App</th>\n",
       "      <th>Category</th>\n",
       "      <th>Rating</th>\n",
       "      <th>Reviews</th>\n",
       "      <th>Size</th>\n",
       "      <th>Installs</th>\n",
       "      <th>Type</th>\n",
       "      <th>Price</th>\n",
       "      <th>Content Rating</th>\n",
       "    </tr>\n",
       "  </thead>\n",
       "  <tbody>\n",
       "    <tr>\n",
       "      <th>2544</th>\n",
       "      <td>Facebook</td>\n",
       "      <td>SOCIAL</td>\n",
       "      <td>4.1</td>\n",
       "      <td>78158306.0</td>\n",
       "      <td>-1</td>\n",
       "      <td>1000000000</td>\n",
       "      <td>Free</td>\n",
       "      <td>0.0</td>\n",
       "      <td>Teen</td>\n",
       "    </tr>\n",
       "    <tr>\n",
       "      <th>3943</th>\n",
       "      <td>Facebook</td>\n",
       "      <td>SOCIAL</td>\n",
       "      <td>4.1</td>\n",
       "      <td>78128208.0</td>\n",
       "      <td>-1</td>\n",
       "      <td>1000000000</td>\n",
       "      <td>Free</td>\n",
       "      <td>0.0</td>\n",
       "      <td>Teen</td>\n",
       "    </tr>\n",
       "    <tr>\n",
       "      <th>336</th>\n",
       "      <td>WhatsApp Messenger</td>\n",
       "      <td>COMMUNICATION</td>\n",
       "      <td>4.4</td>\n",
       "      <td>69119316.0</td>\n",
       "      <td>-1</td>\n",
       "      <td>1000000000</td>\n",
       "      <td>Free</td>\n",
       "      <td>0.0</td>\n",
       "      <td>Everyone</td>\n",
       "    </tr>\n",
       "    <tr>\n",
       "      <th>3904</th>\n",
       "      <td>WhatsApp Messenger</td>\n",
       "      <td>COMMUNICATION</td>\n",
       "      <td>4.4</td>\n",
       "      <td>69109672.0</td>\n",
       "      <td>-1</td>\n",
       "      <td>1000000000</td>\n",
       "      <td>Free</td>\n",
       "      <td>0.0</td>\n",
       "      <td>Everyone</td>\n",
       "    </tr>\n",
       "    <tr>\n",
       "      <th>2604</th>\n",
       "      <td>Instagram</td>\n",
       "      <td>SOCIAL</td>\n",
       "      <td>4.5</td>\n",
       "      <td>66577446.0</td>\n",
       "      <td>-1</td>\n",
       "      <td>1000000000</td>\n",
       "      <td>Free</td>\n",
       "      <td>0.0</td>\n",
       "      <td>Teen</td>\n",
       "    </tr>\n",
       "  </tbody>\n",
       "</table>\n",
       "</div>"
      ],
      "text/plain": [
       "                     App       Category  Rating     Reviews Size    Installs  \\\n",
       "2544            Facebook         SOCIAL     4.1  78158306.0   -1  1000000000   \n",
       "3943            Facebook         SOCIAL     4.1  78128208.0   -1  1000000000   \n",
       "336   WhatsApp Messenger  COMMUNICATION     4.4  69119316.0   -1  1000000000   \n",
       "3904  WhatsApp Messenger  COMMUNICATION     4.4  69109672.0   -1  1000000000   \n",
       "2604           Instagram         SOCIAL     4.5  66577446.0   -1  1000000000   \n",
       "\n",
       "      Type  Price Content Rating  \n",
       "2544  Free    0.0           Teen  \n",
       "3943  Free    0.0           Teen  \n",
       "336   Free    0.0       Everyone  \n",
       "3904  Free    0.0       Everyone  \n",
       "2604  Free    0.0           Teen  "
      ]
     },
     "execution_count": 73,
     "metadata": {},
     "output_type": "execute_result"
    }
   ],
   "source": [
    "#Here we read top  apps sorted by reviews\n",
    "df.sort_values(by=\"Reviews\", ascending= False).head()"
   ]
  },
  {
   "cell_type": "code",
   "execution_count": 74,
   "id": "0f45cb41",
   "metadata": {
    "execution": {
     "iopub.execute_input": "2022-10-19T11:25:49.043413Z",
     "iopub.status.busy": "2022-10-19T11:25:49.042537Z",
     "iopub.status.idle": "2022-10-19T11:25:49.062220Z",
     "shell.execute_reply": "2022-10-19T11:25:49.060904Z"
    },
    "papermill": {
     "duration": 0.058044,
     "end_time": "2022-10-19T11:25:49.064805",
     "exception": false,
     "start_time": "2022-10-19T11:25:49.006761",
     "status": "completed"
    },
    "tags": []
   },
   "outputs": [
    {
     "data": {
      "text/html": [
       "<div>\n",
       "<style scoped>\n",
       "    .dataframe tbody tr th:only-of-type {\n",
       "        vertical-align: middle;\n",
       "    }\n",
       "\n",
       "    .dataframe tbody tr th {\n",
       "        vertical-align: top;\n",
       "    }\n",
       "\n",
       "    .dataframe thead th {\n",
       "        text-align: right;\n",
       "    }\n",
       "</style>\n",
       "<table border=\"1\" class=\"dataframe\">\n",
       "  <thead>\n",
       "    <tr style=\"text-align: right;\">\n",
       "      <th></th>\n",
       "      <th>App</th>\n",
       "      <th>Category</th>\n",
       "      <th>Rating</th>\n",
       "      <th>Reviews</th>\n",
       "      <th>Size</th>\n",
       "      <th>Installs</th>\n",
       "      <th>Type</th>\n",
       "      <th>Price</th>\n",
       "      <th>Content Rating</th>\n",
       "    </tr>\n",
       "  </thead>\n",
       "  <tbody>\n",
       "    <tr>\n",
       "      <th>1654</th>\n",
       "      <td>Subway Surfers</td>\n",
       "      <td>GAME</td>\n",
       "      <td>4.5</td>\n",
       "      <td>27722264.0</td>\n",
       "      <td>76</td>\n",
       "      <td>1000000000</td>\n",
       "      <td>Free</td>\n",
       "      <td>0.0</td>\n",
       "      <td>Everyone 10+</td>\n",
       "    </tr>\n",
       "    <tr>\n",
       "      <th>1700</th>\n",
       "      <td>Subway Surfers</td>\n",
       "      <td>GAME</td>\n",
       "      <td>4.5</td>\n",
       "      <td>27723193.0</td>\n",
       "      <td>76</td>\n",
       "      <td>1000000000</td>\n",
       "      <td>Free</td>\n",
       "      <td>0.0</td>\n",
       "      <td>Everyone 10+</td>\n",
       "    </tr>\n",
       "    <tr>\n",
       "      <th>1750</th>\n",
       "      <td>Subway Surfers</td>\n",
       "      <td>GAME</td>\n",
       "      <td>4.5</td>\n",
       "      <td>27724094.0</td>\n",
       "      <td>76</td>\n",
       "      <td>1000000000</td>\n",
       "      <td>Free</td>\n",
       "      <td>0.0</td>\n",
       "      <td>Everyone 10+</td>\n",
       "    </tr>\n",
       "    <tr>\n",
       "      <th>1872</th>\n",
       "      <td>Subway Surfers</td>\n",
       "      <td>GAME</td>\n",
       "      <td>4.5</td>\n",
       "      <td>27725352.0</td>\n",
       "      <td>76</td>\n",
       "      <td>1000000000</td>\n",
       "      <td>Free</td>\n",
       "      <td>0.0</td>\n",
       "      <td>Everyone 10+</td>\n",
       "    </tr>\n",
       "    <tr>\n",
       "      <th>2545</th>\n",
       "      <td>Instagram</td>\n",
       "      <td>SOCIAL</td>\n",
       "      <td>4.5</td>\n",
       "      <td>66577313.0</td>\n",
       "      <td>-1</td>\n",
       "      <td>1000000000</td>\n",
       "      <td>Free</td>\n",
       "      <td>0.0</td>\n",
       "      <td>Teen</td>\n",
       "    </tr>\n",
       "    <tr>\n",
       "      <th>2604</th>\n",
       "      <td>Instagram</td>\n",
       "      <td>SOCIAL</td>\n",
       "      <td>4.5</td>\n",
       "      <td>66577446.0</td>\n",
       "      <td>-1</td>\n",
       "      <td>1000000000</td>\n",
       "      <td>Free</td>\n",
       "      <td>0.0</td>\n",
       "      <td>Teen</td>\n",
       "    </tr>\n",
       "    <tr>\n",
       "      <th>2808</th>\n",
       "      <td>Google Photos</td>\n",
       "      <td>PHOTOGRAPHY</td>\n",
       "      <td>4.5</td>\n",
       "      <td>10858556.0</td>\n",
       "      <td>-1</td>\n",
       "      <td>1000000000</td>\n",
       "      <td>Free</td>\n",
       "      <td>0.0</td>\n",
       "      <td>Everyone</td>\n",
       "    </tr>\n",
       "    <tr>\n",
       "      <th>2853</th>\n",
       "      <td>Google Photos</td>\n",
       "      <td>PHOTOGRAPHY</td>\n",
       "      <td>4.5</td>\n",
       "      <td>10858538.0</td>\n",
       "      <td>-1</td>\n",
       "      <td>1000000000</td>\n",
       "      <td>Free</td>\n",
       "      <td>0.0</td>\n",
       "      <td>Everyone</td>\n",
       "    </tr>\n",
       "    <tr>\n",
       "      <th>2884</th>\n",
       "      <td>Google Photos</td>\n",
       "      <td>PHOTOGRAPHY</td>\n",
       "      <td>4.5</td>\n",
       "      <td>10859051.0</td>\n",
       "      <td>-1</td>\n",
       "      <td>1000000000</td>\n",
       "      <td>Free</td>\n",
       "      <td>0.0</td>\n",
       "      <td>Everyone</td>\n",
       "    </tr>\n",
       "    <tr>\n",
       "      <th>3896</th>\n",
       "      <td>Subway Surfers</td>\n",
       "      <td>GAME</td>\n",
       "      <td>4.5</td>\n",
       "      <td>27711703.0</td>\n",
       "      <td>76</td>\n",
       "      <td>1000000000</td>\n",
       "      <td>Free</td>\n",
       "      <td>0.0</td>\n",
       "      <td>Everyone 10+</td>\n",
       "    </tr>\n",
       "  </tbody>\n",
       "</table>\n",
       "</div>"
      ],
      "text/plain": [
       "                 App     Category  Rating     Reviews Size    Installs  Type  \\\n",
       "1654  Subway Surfers         GAME     4.5  27722264.0   76  1000000000  Free   \n",
       "1700  Subway Surfers         GAME     4.5  27723193.0   76  1000000000  Free   \n",
       "1750  Subway Surfers         GAME     4.5  27724094.0   76  1000000000  Free   \n",
       "1872  Subway Surfers         GAME     4.5  27725352.0   76  1000000000  Free   \n",
       "2545       Instagram       SOCIAL     4.5  66577313.0   -1  1000000000  Free   \n",
       "2604       Instagram       SOCIAL     4.5  66577446.0   -1  1000000000  Free   \n",
       "2808   Google Photos  PHOTOGRAPHY     4.5  10858556.0   -1  1000000000  Free   \n",
       "2853   Google Photos  PHOTOGRAPHY     4.5  10858538.0   -1  1000000000  Free   \n",
       "2884   Google Photos  PHOTOGRAPHY     4.5  10859051.0   -1  1000000000  Free   \n",
       "3896  Subway Surfers         GAME     4.5  27711703.0   76  1000000000  Free   \n",
       "\n",
       "      Price Content Rating  \n",
       "1654    0.0   Everyone 10+  \n",
       "1700    0.0   Everyone 10+  \n",
       "1750    0.0   Everyone 10+  \n",
       "1872    0.0   Everyone 10+  \n",
       "2545    0.0           Teen  \n",
       "2604    0.0           Teen  \n",
       "2808    0.0       Everyone  \n",
       "2853    0.0       Everyone  \n",
       "2884    0.0       Everyone  \n",
       "3896    0.0   Everyone 10+  "
      ]
     },
     "execution_count": 74,
     "metadata": {},
     "output_type": "execute_result"
    }
   ],
   "source": [
    "top_10_installed_and_rated_apps"
   ]
  },
  {
   "cell_type": "code",
   "execution_count": 75,
   "id": "061dbc38",
   "metadata": {
    "execution": {
     "iopub.execute_input": "2022-10-19T11:25:49.135266Z",
     "iopub.status.busy": "2022-10-19T11:25:49.134524Z",
     "iopub.status.idle": "2022-10-19T11:25:49.351361Z",
     "shell.execute_reply": "2022-10-19T11:25:49.350340Z"
    },
    "papermill": {
     "duration": 0.255222,
     "end_time": "2022-10-19T11:25:49.353980",
     "exception": false,
     "start_time": "2022-10-19T11:25:49.098758",
     "status": "completed"
    },
    "tags": []
   },
   "outputs": [
    {
     "data": {
      "image/png": "[encoded data removed]",
      "text/plain": [
       "<Figure size 432x288 with 1 Axes>"
      ]
     },
     "metadata": {},
     "output_type": "display_data"
    }
   ],
   "source": [
    "# We are looking for the top 10 apps that are installed and rated.\n",
    "app4= top_10_installed_and_rated_apps\n",
    "top_apps=app4.groupby([\"Installs\", \"App\"]).size().unstack()\n",
    "top_apps.plot(kind=\"bar\",stacked=True)\n",
    "plt.title('top 10 installed and rated apps')\n",
    "ax=plt.gca()\n",
    "plt.show()"
   ]
  },
  {
   "cell_type": "code",
   "execution_count": 76,
   "id": "828be58e",
   "metadata": {
    "execution": {
     "iopub.execute_input": "2022-10-19T11:25:49.427265Z",
     "iopub.status.busy": "2022-10-19T11:25:49.426533Z",
     "iopub.status.idle": "2022-10-19T11:25:49.436449Z",
     "shell.execute_reply": "2022-10-19T11:25:49.435490Z"
    },
    "papermill": {
     "duration": 0.049484,
     "end_time": "2022-10-19T11:25:49.439005",
     "exception": false,
     "start_time": "2022-10-19T11:25:49.389521",
     "status": "completed"
    },
    "tags": []
   },
   "outputs": [
    {
     "data": {
      "text/plain": [
       "0.00    8268\n",
       "2.99     110\n",
       "0.99     104\n",
       "4.99      68\n",
       "1.99      59\n",
       "3.99      55\n",
       "1.49      30\n",
       "2.49      20\n",
       "5.99      14\n",
       "9.99      14\n",
       "Name: Price, dtype: int64"
      ]
     },
     "execution_count": 76,
     "metadata": {},
     "output_type": "execute_result"
    }
   ],
   "source": [
    "# Prices of the apps\n",
    "df[\"Price\"].value_counts().sort_values(ascending=False).head(10)"
   ]
  },
  {
   "cell_type": "code",
   "execution_count": 77,
   "id": "56621505",
   "metadata": {
    "execution": {
     "iopub.execute_input": "2022-10-19T11:25:49.511850Z",
     "iopub.status.busy": "2022-10-19T11:25:49.511155Z",
     "iopub.status.idle": "2022-10-19T11:25:49.517867Z",
     "shell.execute_reply": "2022-10-19T11:25:49.516996Z"
    },
    "papermill": {
     "duration": 0.045706,
     "end_time": "2022-10-19T11:25:49.519984",
     "exception": false,
     "start_time": "2022-10-19T11:25:49.474278",
     "status": "completed"
    },
    "tags": []
   },
   "outputs": [
    {
     "data": {
      "text/plain": [
       "73"
      ]
     },
     "execution_count": 77,
     "metadata": {},
     "output_type": "execute_result"
    }
   ],
   "source": [
    "df.Price.nunique()"
   ]
  },
  {
   "cell_type": "code",
   "execution_count": 78,
   "id": "aa9772ab",
   "metadata": {
    "execution": {
     "iopub.execute_input": "2022-10-19T11:25:49.593363Z",
     "iopub.status.busy": "2022-10-19T11:25:49.592521Z",
     "iopub.status.idle": "2022-10-19T11:25:49.602224Z",
     "shell.execute_reply": "2022-10-19T11:25:49.601001Z"
    },
    "papermill": {
     "duration": 0.049624,
     "end_time": "2022-10-19T11:25:49.604813",
     "exception": false,
     "start_time": "2022-10-19T11:25:49.555189",
     "status": "completed"
    },
    "tags": []
   },
   "outputs": [
    {
     "data": {
      "text/plain": [
       "Free    8268\n",
       "Paid     610\n",
       "Name: Type, dtype: int64"
      ]
     },
     "execution_count": 78,
     "metadata": {},
     "output_type": "execute_result"
    }
   ],
   "source": [
    "df.Type.value_counts()"
   ]
  },
  {
   "cell_type": "code",
   "execution_count": 79,
   "id": "09bfda72",
   "metadata": {
    "execution": {
     "iopub.execute_input": "2022-10-19T11:25:49.677693Z",
     "iopub.status.busy": "2022-10-19T11:25:49.677226Z",
     "iopub.status.idle": "2022-10-19T11:25:50.957568Z",
     "shell.execute_reply": "2022-10-19T11:25:50.956357Z"
    },
    "papermill": {
     "duration": 1.321177,
     "end_time": "2022-10-19T11:25:50.961022",
     "exception": false,
     "start_time": "2022-10-19T11:25:49.639845",
     "status": "completed"
    },
    "tags": []
   },
   "outputs": [
    {
     "data": {
      "image/png": "[encoded data removed]",
      "text/plain": [
       "<Figure size 720x576 with 1 Axes>"
      ]
     },
     "metadata": {},
     "output_type": "display_data"
    }
   ],
   "source": [
    "#Let's look at why family even though has lot of apps does not have the highest number of installs. Price could be one of the factors\n",
    "paid_apps = df[df[\"Price\"] != 0.0]\n",
    "\n",
    "paid_family_apps = paid_apps[paid_apps[\"Category\"]==\"FAMILY\"]\n",
    "paid_family_apps.count()\n",
    "\n",
    "paid_communications_apps = paid_apps[paid_apps[\"Category\"]==\"COMMUNICATION\"]\n",
    "paid_communications_apps.count()\n",
    "\n",
    "#Let's visualize this in the form of a simple bar graph\n",
    "plt.figure(figsize=(10,8))\n",
    "sns.barplot(x=\"Category\", y=\"Price\", data=paid_apps,\n",
    "            label=\"Total Paid Apps in Each Category\")\n",
    "plt.title(\"Paid apps\")\n",
    "plt.xticks(rotation=90)\n",
    "plt.show()"
   ]
  },
  {
   "cell_type": "markdown",
   "id": "050a660d",
   "metadata": {
    "papermill": {
     "duration": 0.043709,
     "end_time": "2022-10-19T11:25:51.043885",
     "exception": false,
     "start_time": "2022-10-19T11:25:51.000176",
     "status": "completed"
    },
    "tags": []
   },
   "source": [
    "- Above plot shows that the apps in the category Lifestyle and Finance have the highest prices."
   ]
  },
  {
   "cell_type": "code",
   "execution_count": 80,
   "id": "8b07701a",
   "metadata": {
    "execution": {
     "iopub.execute_input": "2022-10-19T11:25:51.129700Z",
     "iopub.status.busy": "2022-10-19T11:25:51.129243Z",
     "iopub.status.idle": "2022-10-19T11:25:51.139806Z",
     "shell.execute_reply": "2022-10-19T11:25:51.138888Z"
    },
    "papermill": {
     "duration": 0.052037,
     "end_time": "2022-10-19T11:25:51.141915",
     "exception": false,
     "start_time": "2022-10-19T11:25:51.089878",
     "status": "completed"
    },
    "tags": []
   },
   "outputs": [
    {
     "data": {
      "text/plain": [
       "0.00    8268\n",
       "2.99     110\n",
       "0.99     104\n",
       "4.99      68\n",
       "1.99      59\n",
       "Name: Price, dtype: int64"
      ]
     },
     "execution_count": 80,
     "metadata": {},
     "output_type": "execute_result"
    }
   ],
   "source": [
    "#Here we look for the top five prices and the number of apps \n",
    "df[\"Price\"].value_counts().nlargest(5).sort_values(ascending=False)"
   ]
  },
  {
   "cell_type": "code",
   "execution_count": 81,
   "id": "08d79b8f",
   "metadata": {
    "execution": {
     "iopub.execute_input": "2022-10-19T11:25:51.218849Z",
     "iopub.status.busy": "2022-10-19T11:25:51.218070Z",
     "iopub.status.idle": "2022-10-19T11:25:51.441905Z",
     "shell.execute_reply": "2022-10-19T11:25:51.440492Z"
    },
    "papermill": {
     "duration": 0.264867,
     "end_time": "2022-10-19T11:25:51.444799",
     "exception": false,
     "start_time": "2022-10-19T11:25:51.179932",
     "status": "completed"
    },
    "tags": []
   },
   "outputs": [
    {
     "data": {
      "image/png": "[encoded data removed]",
      "text/plain": [
       "<Figure size 432x288 with 1 Axes>"
      ]
     },
     "metadata": {},
     "output_type": "display_data"
    }
   ],
   "source": [
    "#Now we visualize it by using bar plot\n",
    "df[\"Price\"].value_counts().nlargest(5).sort_values(ascending=False).plot.bar()\n",
    "plt.ylabel(\"Number of Apps\")\n",
    "plt.xlabel(\"Prices in Dollars\")\n",
    "plt.title(\"Playstore - Prices\")\n",
    "plt.show()"
   ]
  },
  {
   "cell_type": "markdown",
   "id": "33dbf483",
   "metadata": {
    "papermill": {
     "duration": 0.03755,
     "end_time": "2022-10-19T11:25:51.520927",
     "exception": false,
     "start_time": "2022-10-19T11:25:51.483377",
     "status": "completed"
    },
    "tags": []
   },
   "source": [
    "- This plot shows that data has more than 90% apps that are free "
   ]
  },
  {
   "cell_type": "code",
   "execution_count": 82,
   "id": "c242a9bf",
   "metadata": {
    "execution": {
     "iopub.execute_input": "2022-10-19T11:25:51.602491Z",
     "iopub.status.busy": "2022-10-19T11:25:51.602004Z",
     "iopub.status.idle": "2022-10-19T11:25:52.435444Z",
     "shell.execute_reply": "2022-10-19T11:25:52.434289Z"
    },
    "papermill": {
     "duration": 0.878205,
     "end_time": "2022-10-19T11:25:52.439156",
     "exception": false,
     "start_time": "2022-10-19T11:25:51.560951",
     "status": "completed"
    },
    "tags": []
   },
   "outputs": [
    {
     "data": {
      "text/plain": [
       "(-1.1006390573344684,\n",
       " 1.1000304313016414,\n",
       " -1.100484172839783,\n",
       " 1.1024946974786016)"
      ]
     },
     "execution_count": 82,
     "metadata": {},
     "output_type": "execute_result"
    },
    {
     "data": {
      "image/png": "[encoded data removed]",
      "text/plain": [
       "<Figure size 648x648 with 1 Axes>"
      ]
     },
     "metadata": {},
     "output_type": "display_data"
    }
   ],
   "source": [
    "#Basic pie chart to view distribution of apps across various categories\n",
    "fig, ax = plt.subplots(figsize=(9, 9), subplot_kw=dict(aspect=\"equal\"))\n",
    "number_of_apps = df[\"Category\"].value_counts()\n",
    "labels = number_of_apps.index\n",
    "sizes = number_of_apps.values\n",
    "ax.pie(sizes,labeldistance=2,autopct='%1.1f%%')\n",
    "ax.legend(labels=labels,loc=\"right\",bbox_to_anchor=(0.9, 0, 0.5, 1))\n",
    "ax.axis(\"equal\")\n"
   ]
  },
  {
   "cell_type": "code",
   "execution_count": 83,
   "id": "9fd3828e",
   "metadata": {
    "execution": {
     "iopub.execute_input": "2022-10-19T11:25:52.522248Z",
     "iopub.status.busy": "2022-10-19T11:25:52.520781Z",
     "iopub.status.idle": "2022-10-19T11:25:52.530749Z",
     "shell.execute_reply": "2022-10-19T11:25:52.529795Z"
    },
    "papermill": {
     "duration": 0.053425,
     "end_time": "2022-10-19T11:25:52.532837",
     "exception": false,
     "start_time": "2022-10-19T11:25:52.479412",
     "status": "completed"
    },
    "tags": []
   },
   "outputs": [
    {
     "data": {
      "text/plain": [
       "COMMUNICATION          24\n",
       "GAME                   19\n",
       "TOOLS                  10\n",
       "SOCIAL                  9\n",
       "PRODUCTIVITY            9\n",
       "NEWS_AND_MAGAZINES      7\n",
       "VIDEO_PLAYERS           6\n",
       "TRAVEL_AND_LOCAL        5\n",
       "PHOTOGRAPHY             4\n",
       "FAMILY                  4\n",
       "ENTERTAINMENT           1\n",
       "BOOKS_AND_REFERENCE     1\n",
       "HEALTH_AND_FITNESS      1\n",
       "Name: Category, dtype: int64"
      ]
     },
     "execution_count": 83,
     "metadata": {},
     "output_type": "execute_result"
    }
   ],
   "source": [
    "# Here we see the category and count of top 100 installed apps\n",
    "top_installed_and_rated_apps[\"Category\"].head(100).value_counts()\n"
   ]
  },
  {
   "cell_type": "code",
   "execution_count": 84,
   "id": "d53b4fe5",
   "metadata": {
    "execution": {
     "iopub.execute_input": "2022-10-19T11:25:52.615827Z",
     "iopub.status.busy": "2022-10-19T11:25:52.614476Z",
     "iopub.status.idle": "2022-10-19T11:25:52.824299Z",
     "shell.execute_reply": "2022-10-19T11:25:52.823184Z"
    },
    "papermill": {
     "duration": 0.253697,
     "end_time": "2022-10-19T11:25:52.826949",
     "exception": false,
     "start_time": "2022-10-19T11:25:52.573252",
     "status": "completed"
    },
    "tags": []
   },
   "outputs": [
    {
     "data": {
      "image/png": "[encoded data removed]",
      "text/plain": [
       "<Figure size 432x288 with 1 Axes>"
      ]
     },
     "metadata": {},
     "output_type": "display_data"
    }
   ],
   "source": [
    "#Here We use the barplot to see the value counts of category in the top installed and rated apps\n",
    "top_installed_and_rated_apps[\"Category\"].head(100).value_counts().nlargest(5).sort_values(ascending=False).plot.bar()\n",
    "plt.ylabel(\"Number of Apps\")\n",
    "plt.xlabel(\"Category\")\n",
    "plt.title(\"Playstore - Category counts_Most rated and installed apps\")\n",
    "plt.show()"
   ]
  },
  {
   "cell_type": "code",
   "execution_count": 85,
   "id": "6641c7a0",
   "metadata": {
    "execution": {
     "iopub.execute_input": "2022-10-19T11:25:52.911134Z",
     "iopub.status.busy": "2022-10-19T11:25:52.910604Z",
     "iopub.status.idle": "2022-10-19T11:25:53.292301Z",
     "shell.execute_reply": "2022-10-19T11:25:53.290923Z"
    },
    "papermill": {
     "duration": 0.427545,
     "end_time": "2022-10-19T11:25:53.294791",
     "exception": false,
     "start_time": "2022-10-19T11:25:52.867246",
     "status": "completed"
    },
    "tags": []
   },
   "outputs": [
    {
     "data": {
      "image/png": "[encoded data removed]",
      "text/plain": [
       "<Figure size 720x360 with 1 Axes>"
      ]
     },
     "metadata": {},
     "output_type": "display_data"
    }
   ],
   "source": [
    "plt.figure(figsize=(10,5))\n",
    "sns.barplot(x=df['Installs'].value_counts().index,\n",
    "              y=df['Installs'].value_counts().values)\n",
    "plt.xlabel('Number of Installations')\n",
    "plt.ylabel('Classes of Installations')\n",
    "plt.title('Playstore - Greading in Number of Installations')\n",
    "plt.xticks(rotation=90)\n",
    "plt.show()"
   ]
  },
  {
   "cell_type": "code",
   "execution_count": 86,
   "id": "d5fabdc1",
   "metadata": {
    "execution": {
     "iopub.execute_input": "2022-10-19T11:25:53.383043Z",
     "iopub.status.busy": "2022-10-19T11:25:53.382594Z",
     "iopub.status.idle": "2022-10-19T11:25:53.392525Z",
     "shell.execute_reply": "2022-10-19T11:25:53.391342Z"
    },
    "papermill": {
     "duration": 0.059068,
     "end_time": "2022-10-19T11:25:53.394984",
     "exception": false,
     "start_time": "2022-10-19T11:25:53.335916",
     "status": "completed"
    },
    "tags": []
   },
   "outputs": [
    {
     "data": {
      "text/plain": [
       "1000000     1484\n",
       "10000000    1128\n",
       "100000      1110\n",
       "10000        988\n",
       "1000         696\n",
       "Name: Installs, dtype: int64"
      ]
     },
     "execution_count": 86,
     "metadata": {},
     "output_type": "execute_result"
    }
   ],
   "source": [
    "# Top 5 Gradings in the number of installations\n",
    "df[\"Installs\"].value_counts().nlargest(5)"
   ]
  },
  {
   "cell_type": "code",
   "execution_count": 87,
   "id": "00a8fb26",
   "metadata": {
    "execution": {
     "iopub.execute_input": "2022-10-19T11:25:53.484467Z",
     "iopub.status.busy": "2022-10-19T11:25:53.483967Z",
     "iopub.status.idle": "2022-10-19T11:25:53.493576Z",
     "shell.execute_reply": "2022-10-19T11:25:53.492436Z"
    },
    "papermill": {
     "duration": 0.057634,
     "end_time": "2022-10-19T11:25:53.495827",
     "exception": false,
     "start_time": "2022-10-19T11:25:53.438193",
     "status": "completed"
    },
    "tags": []
   },
   "outputs": [
    {
     "data": {
      "text/plain": [
       "Everyone           7083\n",
       "Teen               1021\n",
       "Mature 17+          411\n",
       "Everyone 10+        359\n",
       "Adults only 18+       3\n",
       "Unrated               1\n",
       "Name: Content Rating, dtype: int64"
      ]
     },
     "execution_count": 87,
     "metadata": {},
     "output_type": "execute_result"
    }
   ],
   "source": [
    "#we look at the classes of content rating and their value counts\n",
    "df[\"Content Rating\"].value_counts()"
   ]
  },
  {
   "cell_type": "code",
   "execution_count": 88,
   "id": "8dab0134",
   "metadata": {
    "execution": {
     "iopub.execute_input": "2022-10-19T11:25:53.581638Z",
     "iopub.status.busy": "2022-10-19T11:25:53.581155Z",
     "iopub.status.idle": "2022-10-19T11:25:53.827575Z",
     "shell.execute_reply": "2022-10-19T11:25:53.826253Z"
    },
    "papermill": {
     "duration": 0.293299,
     "end_time": "2022-10-19T11:25:53.830436",
     "exception": false,
     "start_time": "2022-10-19T11:25:53.537137",
     "status": "completed"
    },
    "tags": []
   },
   "outputs": [
    {
     "data": {
      "image/png": "[encoded data removed]",
      "text/plain": [
       "<Figure size 720x360 with 1 Axes>"
      ]
     },
     "metadata": {},
     "output_type": "display_data"
    }
   ],
   "source": [
    "plt.figure(figsize=(10,5))\n",
    "sns.barplot(x=df['Content Rating'].value_counts().index,\n",
    "              y=df['Content Rating'].value_counts().values)\n",
    "plt.xlabel('Number of Apps')\n",
    "plt.ylabel('Content Rating')\n",
    "plt.title('Playstore - Content Rating')\n",
    "plt.xticks(rotation=90)\n",
    "plt.show()"
   ]
  },
  {
   "cell_type": "code",
   "execution_count": 89,
   "id": "09418f8c",
   "metadata": {
    "execution": {
     "iopub.execute_input": "2022-10-19T11:25:53.919034Z",
     "iopub.status.busy": "2022-10-19T11:25:53.918304Z",
     "iopub.status.idle": "2022-10-19T11:25:54.029987Z",
     "shell.execute_reply": "2022-10-19T11:25:54.028355Z"
    },
    "papermill": {
     "duration": 0.159228,
     "end_time": "2022-10-19T11:25:54.033980",
     "exception": false,
     "start_time": "2022-10-19T11:25:53.874752",
     "status": "completed"
    },
    "tags": []
   },
   "outputs": [
    {
     "data": {
      "image/png": "[encoded data removed]",
      "text/plain": [
       "<Figure size 432x288 with 1 Axes>"
      ]
     },
     "metadata": {},
     "output_type": "display_data"
    }
   ],
   "source": [
    "#Here we look for the content rating distribution using pie chart\n",
    "app1=top_installed_and_rated_apps.head(100)\n",
    "app1[\"Content Rating\"].value_counts().plot.pie()\n",
    "plt.title(\"Content Rating - Top 100 (Main) Apps\")\n",
    "plt.show()"
   ]
  }
 ],
 "metadata": {
  "kernelspec": {
   "display_name": "Python 3 (ipykernel)",
   "language": "python",
   "name": "python3"
  },
  "language_info": {
   "codemirror_mode": {
    "name": "ipython",
    "version": 3
   },
   "file_extension": ".py",
   "mimetype": "text/x-python",
   "name": "python",
   "nbconvert_exporter": "python",
   "pygments_lexer": "ipython3",
   "version": "3.8.8"
  },
  "papermill": {
   "default_parameters": {},
   "duration": 25.743562,
   "end_time": "2022-10-19T11:25:55.129437",
   "environment_variables": {},
   "exception": null,
   "input_path": "__notebook__.ipynb",
   "output_path": "__notebook__.ipynb",
   "parameters": {},
   "start_time": "2022-10-19T11:25:29.385875",
   "version": "2.3.4"
  }
 },
 "nbformat": 4,
 "nbformat_minor": 5
}
